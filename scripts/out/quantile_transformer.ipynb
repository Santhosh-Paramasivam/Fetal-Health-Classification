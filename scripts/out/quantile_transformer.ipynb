{
 "cells": [
  {
   "cell_type": "code",
   "execution_count": 1,
   "id": "4becbcbf",
   "metadata": {
    "execution": {
     "iopub.execute_input": "2024-07-14T06:25:11.273693Z",
     "iopub.status.busy": "2024-07-14T06:25:11.273693Z",
     "iopub.status.idle": "2024-07-14T06:25:13.772729Z",
     "shell.execute_reply": "2024-07-14T06:25:13.772213Z"
    },
    "papermill": {
     "duration": 2.515558,
     "end_time": "2024-07-14T06:25:13.774720",
     "exception": false,
     "start_time": "2024-07-14T06:25:11.259162",
     "status": "completed"
    },
    "tags": []
   },
   "outputs": [],
   "source": [
    "import numpy as np\n",
    "import pandas as pd\n",
    "import seaborn as sns\n",
    "import matplotlib.pyplot as plt\n",
    "from sklearn import preprocessing\n",
    "from sklearn.model_selection import train_test_split\n",
    "from performance_measures import performance_measures\n",
    "import timeit\n",
    "from imblearn.over_sampling import RandomOverSampler"
   ]
  },
  {
   "cell_type": "code",
   "execution_count": 2,
   "id": "15c2dec9",
   "metadata": {
    "execution": {
     "iopub.execute_input": "2024-07-14T06:25:13.787875Z",
     "iopub.status.busy": "2024-07-14T06:25:13.787875Z",
     "iopub.status.idle": "2024-07-14T06:25:13.873517Z",
     "shell.execute_reply": "2024-07-14T06:25:13.871989Z"
    },
    "papermill": {
     "duration": 0.100921,
     "end_time": "2024-07-14T06:25:13.875641",
     "exception": false,
     "start_time": "2024-07-14T06:25:13.774720",
     "status": "completed"
    },
    "tags": []
   },
   "outputs": [],
   "source": [
    "from sklearn.linear_model import LogisticRegression\n",
    "from sklearn.svm import SVC \n",
    "from sklearn.neighbors import KNeighborsClassifier\n",
    "from sklearn.naive_bayes import GaussianNB \n",
    "from sklearn.tree import DecisionTreeClassifier\n",
    "from sklearn.ensemble import RandomForestClassifier\n",
    "from sklearn.ensemble import AdaBoostClassifier\n",
    "from sklearn.ensemble import GradientBoostingClassifier \n",
    "from xgboost import XGBClassifier\n",
    "from lightgbm import LGBMClassifier"
   ]
  },
  {
   "cell_type": "code",
   "execution_count": 3,
   "id": "255b7d6c",
   "metadata": {
    "execution": {
     "iopub.execute_input": "2024-07-14T06:25:13.890958Z",
     "iopub.status.busy": "2024-07-14T06:25:13.889910Z",
     "iopub.status.idle": "2024-07-14T06:25:13.915731Z",
     "shell.execute_reply": "2024-07-14T06:25:13.915731Z"
    },
    "papermill": {
     "duration": 0.038325,
     "end_time": "2024-07-14T06:25:13.920130",
     "exception": false,
     "start_time": "2024-07-14T06:25:13.881805",
     "status": "completed"
    },
    "tags": []
   },
   "outputs": [],
   "source": [
    "FetalHealth = pd.read_csv(r\"source\\fetal_health.csv\")"
   ]
  },
  {
   "cell_type": "markdown",
   "id": "8f41d8e2",
   "metadata": {
    "papermill": {
     "duration": 0.009391,
     "end_time": "2024-07-14T06:25:13.938540",
     "exception": false,
     "start_time": "2024-07-14T06:25:13.929149",
     "status": "completed"
    },
    "tags": []
   },
   "source": [
    "Analysis consists of :\n",
    "\n",
    "1. Count plot\n",
    "2. Correlation heat map"
   ]
  },
  {
   "cell_type": "markdown",
   "id": "276f257d",
   "metadata": {
    "papermill": {
     "duration": 0.007139,
     "end_time": "2024-07-14T06:25:13.953172",
     "exception": false,
     "start_time": "2024-07-14T06:25:13.946033",
     "status": "completed"
    },
    "tags": []
   },
   "source": [
    "Data Preprocessing :\n",
    "\n",
    "1. Scaling\n",
    "2. X,y and test, train division"
   ]
  },
  {
   "cell_type": "code",
   "execution_count": 4,
   "id": "bbdcf342",
   "metadata": {
    "execution": {
     "iopub.execute_input": "2024-07-14T06:25:13.969250Z",
     "iopub.status.busy": "2024-07-14T06:25:13.969250Z",
     "iopub.status.idle": "2024-07-14T06:25:13.986686Z",
     "shell.execute_reply": "2024-07-14T06:25:13.986686Z"
    },
    "papermill": {
     "duration": 0.02906,
     "end_time": "2024-07-14T06:25:13.990268",
     "exception": false,
     "start_time": "2024-07-14T06:25:13.961208",
     "status": "completed"
    },
    "tags": []
   },
   "outputs": [],
   "source": [
    "X = FetalHealth.drop(['fetal_health'], axis = 1)\n",
    "y = FetalHealth['fetal_health']"
   ]
  },
  {
   "cell_type": "code",
   "execution_count": 5,
   "id": "61a57b1b",
   "metadata": {
    "execution": {
     "iopub.execute_input": "2024-07-14T06:25:14.005789Z",
     "iopub.status.busy": "2024-07-14T06:25:14.005789Z",
     "iopub.status.idle": "2024-07-14T06:25:14.208192Z",
     "shell.execute_reply": "2024-07-14T06:25:14.208192Z"
    },
    "papermill": {
     "duration": 0.21997,
     "end_time": "2024-07-14T06:25:14.210785",
     "exception": false,
     "start_time": "2024-07-14T06:25:13.990815",
     "status": "completed"
    },
    "tags": []
   },
   "outputs": [
    {
     "data": {
      "text/html": [
       "<div>\n",
       "<style scoped>\n",
       "    .dataframe tbody tr th:only-of-type {\n",
       "        vertical-align: middle;\n",
       "    }\n",
       "\n",
       "    .dataframe tbody tr th {\n",
       "        vertical-align: top;\n",
       "    }\n",
       "\n",
       "    .dataframe thead th {\n",
       "        text-align: right;\n",
       "    }\n",
       "</style>\n",
       "<table border=\"1\" class=\"dataframe\">\n",
       "  <thead>\n",
       "    <tr style=\"text-align: right;\">\n",
       "      <th></th>\n",
       "      <th>count</th>\n",
       "      <th>mean</th>\n",
       "      <th>std</th>\n",
       "      <th>min</th>\n",
       "      <th>25%</th>\n",
       "      <th>50%</th>\n",
       "      <th>75%</th>\n",
       "      <th>max</th>\n",
       "    </tr>\n",
       "  </thead>\n",
       "  <tbody>\n",
       "    <tr>\n",
       "      <th>baseline value</th>\n",
       "      <td>2126.0</td>\n",
       "      <td>0.499974</td>\n",
       "      <td>0.288711</td>\n",
       "      <td>0.0</td>\n",
       "      <td>0.245746</td>\n",
       "      <td>0.496496</td>\n",
       "      <td>0.735235</td>\n",
       "      <td>1.0</td>\n",
       "    </tr>\n",
       "    <tr>\n",
       "      <th>accelerations</th>\n",
       "      <td>2126.0</td>\n",
       "      <td>0.411646</td>\n",
       "      <td>0.372958</td>\n",
       "      <td>0.0</td>\n",
       "      <td>0.000000</td>\n",
       "      <td>0.525526</td>\n",
       "      <td>0.772272</td>\n",
       "      <td>1.0</td>\n",
       "    </tr>\n",
       "    <tr>\n",
       "      <th>fetal_movement</th>\n",
       "      <td>2126.0</td>\n",
       "      <td>0.309915</td>\n",
       "      <td>0.399023</td>\n",
       "      <td>0.0</td>\n",
       "      <td>0.000000</td>\n",
       "      <td>0.000000</td>\n",
       "      <td>0.767267</td>\n",
       "      <td>1.0</td>\n",
       "    </tr>\n",
       "    <tr>\n",
       "      <th>uterine_contractions</th>\n",
       "      <td>2126.0</td>\n",
       "      <td>0.487896</td>\n",
       "      <td>0.305790</td>\n",
       "      <td>0.0</td>\n",
       "      <td>0.249249</td>\n",
       "      <td>0.443944</td>\n",
       "      <td>0.797798</td>\n",
       "      <td>1.0</td>\n",
       "    </tr>\n",
       "    <tr>\n",
       "      <th>light_decelerations</th>\n",
       "      <td>2126.0</td>\n",
       "      <td>0.332402</td>\n",
       "      <td>0.397720</td>\n",
       "      <td>0.0</td>\n",
       "      <td>0.000000</td>\n",
       "      <td>0.000000</td>\n",
       "      <td>0.737738</td>\n",
       "      <td>1.0</td>\n",
       "    </tr>\n",
       "    <tr>\n",
       "      <th>severe_decelerations</th>\n",
       "      <td>2126.0</td>\n",
       "      <td>0.003293</td>\n",
       "      <td>0.057300</td>\n",
       "      <td>0.0</td>\n",
       "      <td>0.000000</td>\n",
       "      <td>0.000000</td>\n",
       "      <td>0.000000</td>\n",
       "      <td>1.0</td>\n",
       "    </tr>\n",
       "    <tr>\n",
       "      <th>prolongued_decelerations</th>\n",
       "      <td>2126.0</td>\n",
       "      <td>0.080242</td>\n",
       "      <td>0.265596</td>\n",
       "      <td>0.0</td>\n",
       "      <td>0.000000</td>\n",
       "      <td>0.000000</td>\n",
       "      <td>0.000000</td>\n",
       "      <td>1.0</td>\n",
       "    </tr>\n",
       "    <tr>\n",
       "      <th>abnormal_short_term_variability</th>\n",
       "      <td>2126.0</td>\n",
       "      <td>0.499999</td>\n",
       "      <td>0.288802</td>\n",
       "      <td>0.0</td>\n",
       "      <td>0.248749</td>\n",
       "      <td>0.503504</td>\n",
       "      <td>0.748248</td>\n",
       "      <td>1.0</td>\n",
       "    </tr>\n",
       "    <tr>\n",
       "      <th>mean_value_of_short_term_variability</th>\n",
       "      <td>2126.0</td>\n",
       "      <td>0.499758</td>\n",
       "      <td>0.288987</td>\n",
       "      <td>0.0</td>\n",
       "      <td>0.255756</td>\n",
       "      <td>0.513013</td>\n",
       "      <td>0.741241</td>\n",
       "      <td>1.0</td>\n",
       "    </tr>\n",
       "    <tr>\n",
       "      <th>percentage_of_time_with_abnormal_long_term_variability</th>\n",
       "      <td>2126.0</td>\n",
       "      <td>0.329969</td>\n",
       "      <td>0.398106</td>\n",
       "      <td>0.0</td>\n",
       "      <td>0.000000</td>\n",
       "      <td>0.000000</td>\n",
       "      <td>0.752252</td>\n",
       "      <td>1.0</td>\n",
       "    </tr>\n",
       "    <tr>\n",
       "      <th>mean_value_of_long_term_variability</th>\n",
       "      <td>2126.0</td>\n",
       "      <td>0.497936</td>\n",
       "      <td>0.292264</td>\n",
       "      <td>0.0</td>\n",
       "      <td>0.251752</td>\n",
       "      <td>0.498498</td>\n",
       "      <td>0.748248</td>\n",
       "      <td>1.0</td>\n",
       "    </tr>\n",
       "    <tr>\n",
       "      <th>histogram_width</th>\n",
       "      <td>2126.0</td>\n",
       "      <td>0.499998</td>\n",
       "      <td>0.288877</td>\n",
       "      <td>0.0</td>\n",
       "      <td>0.252252</td>\n",
       "      <td>0.500000</td>\n",
       "      <td>0.749249</td>\n",
       "      <td>1.0</td>\n",
       "    </tr>\n",
       "    <tr>\n",
       "      <th>histogram_min</th>\n",
       "      <td>2126.0</td>\n",
       "      <td>0.499370</td>\n",
       "      <td>0.289918</td>\n",
       "      <td>0.0</td>\n",
       "      <td>0.255255</td>\n",
       "      <td>0.496496</td>\n",
       "      <td>0.754254</td>\n",
       "      <td>1.0</td>\n",
       "    </tr>\n",
       "    <tr>\n",
       "      <th>histogram_max</th>\n",
       "      <td>2126.0</td>\n",
       "      <td>0.500039</td>\n",
       "      <td>0.288808</td>\n",
       "      <td>0.0</td>\n",
       "      <td>0.255255</td>\n",
       "      <td>0.501502</td>\n",
       "      <td>0.742242</td>\n",
       "      <td>1.0</td>\n",
       "    </tr>\n",
       "    <tr>\n",
       "      <th>histogram_number_of_peaks</th>\n",
       "      <td>2126.0</td>\n",
       "      <td>0.498842</td>\n",
       "      <td>0.288947</td>\n",
       "      <td>0.0</td>\n",
       "      <td>0.296296</td>\n",
       "      <td>0.436937</td>\n",
       "      <td>0.758258</td>\n",
       "      <td>1.0</td>\n",
       "    </tr>\n",
       "    <tr>\n",
       "      <th>histogram_number_of_zeroes</th>\n",
       "      <td>2126.0</td>\n",
       "      <td>0.208320</td>\n",
       "      <td>0.375654</td>\n",
       "      <td>0.0</td>\n",
       "      <td>0.000000</td>\n",
       "      <td>0.000000</td>\n",
       "      <td>0.000000</td>\n",
       "      <td>1.0</td>\n",
       "    </tr>\n",
       "    <tr>\n",
       "      <th>histogram_mode</th>\n",
       "      <td>2126.0</td>\n",
       "      <td>0.499946</td>\n",
       "      <td>0.288741</td>\n",
       "      <td>0.0</td>\n",
       "      <td>0.260260</td>\n",
       "      <td>0.497497</td>\n",
       "      <td>0.754254</td>\n",
       "      <td>1.0</td>\n",
       "    </tr>\n",
       "    <tr>\n",
       "      <th>histogram_mean</th>\n",
       "      <td>2126.0</td>\n",
       "      <td>0.500011</td>\n",
       "      <td>0.288781</td>\n",
       "      <td>0.0</td>\n",
       "      <td>0.251752</td>\n",
       "      <td>0.505005</td>\n",
       "      <td>0.737738</td>\n",
       "      <td>1.0</td>\n",
       "    </tr>\n",
       "    <tr>\n",
       "      <th>histogram_median</th>\n",
       "      <td>2126.0</td>\n",
       "      <td>0.500010</td>\n",
       "      <td>0.288821</td>\n",
       "      <td>0.0</td>\n",
       "      <td>0.254755</td>\n",
       "      <td>0.491992</td>\n",
       "      <td>0.748749</td>\n",
       "      <td>1.0</td>\n",
       "    </tr>\n",
       "    <tr>\n",
       "      <th>histogram_variance</th>\n",
       "      <td>2126.0</td>\n",
       "      <td>0.496182</td>\n",
       "      <td>0.294653</td>\n",
       "      <td>0.0</td>\n",
       "      <td>0.243744</td>\n",
       "      <td>0.491992</td>\n",
       "      <td>0.750751</td>\n",
       "      <td>1.0</td>\n",
       "    </tr>\n",
       "    <tr>\n",
       "      <th>histogram_tendency</th>\n",
       "      <td>2126.0</td>\n",
       "      <td>0.576162</td>\n",
       "      <td>0.355805</td>\n",
       "      <td>0.0</td>\n",
       "      <td>0.339840</td>\n",
       "      <td>0.339840</td>\n",
       "      <td>1.000000</td>\n",
       "      <td>1.0</td>\n",
       "    </tr>\n",
       "  </tbody>\n",
       "</table>\n",
       "</div>"
      ],
      "text/plain": [
       "                                                     count      mean  \\\n",
       "baseline value                                      2126.0  0.499974   \n",
       "accelerations                                       2126.0  0.411646   \n",
       "fetal_movement                                      2126.0  0.309915   \n",
       "uterine_contractions                                2126.0  0.487896   \n",
       "light_decelerations                                 2126.0  0.332402   \n",
       "severe_decelerations                                2126.0  0.003293   \n",
       "prolongued_decelerations                            2126.0  0.080242   \n",
       "abnormal_short_term_variability                     2126.0  0.499999   \n",
       "mean_value_of_short_term_variability                2126.0  0.499758   \n",
       "percentage_of_time_with_abnormal_long_term_vari...  2126.0  0.329969   \n",
       "mean_value_of_long_term_variability                 2126.0  0.497936   \n",
       "histogram_width                                     2126.0  0.499998   \n",
       "histogram_min                                       2126.0  0.499370   \n",
       "histogram_max                                       2126.0  0.500039   \n",
       "histogram_number_of_peaks                           2126.0  0.498842   \n",
       "histogram_number_of_zeroes                          2126.0  0.208320   \n",
       "histogram_mode                                      2126.0  0.499946   \n",
       "histogram_mean                                      2126.0  0.500011   \n",
       "histogram_median                                    2126.0  0.500010   \n",
       "histogram_variance                                  2126.0  0.496182   \n",
       "histogram_tendency                                  2126.0  0.576162   \n",
       "\n",
       "                                                         std  min       25%  \\\n",
       "baseline value                                      0.288711  0.0  0.245746   \n",
       "accelerations                                       0.372958  0.0  0.000000   \n",
       "fetal_movement                                      0.399023  0.0  0.000000   \n",
       "uterine_contractions                                0.305790  0.0  0.249249   \n",
       "light_decelerations                                 0.397720  0.0  0.000000   \n",
       "severe_decelerations                                0.057300  0.0  0.000000   \n",
       "prolongued_decelerations                            0.265596  0.0  0.000000   \n",
       "abnormal_short_term_variability                     0.288802  0.0  0.248749   \n",
       "mean_value_of_short_term_variability                0.288987  0.0  0.255756   \n",
       "percentage_of_time_with_abnormal_long_term_vari...  0.398106  0.0  0.000000   \n",
       "mean_value_of_long_term_variability                 0.292264  0.0  0.251752   \n",
       "histogram_width                                     0.288877  0.0  0.252252   \n",
       "histogram_min                                       0.289918  0.0  0.255255   \n",
       "histogram_max                                       0.288808  0.0  0.255255   \n",
       "histogram_number_of_peaks                           0.288947  0.0  0.296296   \n",
       "histogram_number_of_zeroes                          0.375654  0.0  0.000000   \n",
       "histogram_mode                                      0.288741  0.0  0.260260   \n",
       "histogram_mean                                      0.288781  0.0  0.251752   \n",
       "histogram_median                                    0.288821  0.0  0.254755   \n",
       "histogram_variance                                  0.294653  0.0  0.243744   \n",
       "histogram_tendency                                  0.355805  0.0  0.339840   \n",
       "\n",
       "                                                         50%       75%  max  \n",
       "baseline value                                      0.496496  0.735235  1.0  \n",
       "accelerations                                       0.525526  0.772272  1.0  \n",
       "fetal_movement                                      0.000000  0.767267  1.0  \n",
       "uterine_contractions                                0.443944  0.797798  1.0  \n",
       "light_decelerations                                 0.000000  0.737738  1.0  \n",
       "severe_decelerations                                0.000000  0.000000  1.0  \n",
       "prolongued_decelerations                            0.000000  0.000000  1.0  \n",
       "abnormal_short_term_variability                     0.503504  0.748248  1.0  \n",
       "mean_value_of_short_term_variability                0.513013  0.741241  1.0  \n",
       "percentage_of_time_with_abnormal_long_term_vari...  0.000000  0.752252  1.0  \n",
       "mean_value_of_long_term_variability                 0.498498  0.748248  1.0  \n",
       "histogram_width                                     0.500000  0.749249  1.0  \n",
       "histogram_min                                       0.496496  0.754254  1.0  \n",
       "histogram_max                                       0.501502  0.742242  1.0  \n",
       "histogram_number_of_peaks                           0.436937  0.758258  1.0  \n",
       "histogram_number_of_zeroes                          0.000000  0.000000  1.0  \n",
       "histogram_mode                                      0.497497  0.754254  1.0  \n",
       "histogram_mean                                      0.505005  0.737738  1.0  \n",
       "histogram_median                                    0.491992  0.748749  1.0  \n",
       "histogram_variance                                  0.491992  0.750751  1.0  \n",
       "histogram_tendency                                  0.339840  1.000000  1.0  "
      ]
     },
     "execution_count": 5,
     "metadata": {},
     "output_type": "execute_result"
    }
   ],
   "source": [
    "col_names = list(X.columns)\n",
    "# Three different scaling methods\n",
    "\n",
    "#s_scaler = preprocessing.StandardScaler()\n",
    "#s_scaler = preprocessing.MinMaxScaler()\n",
    "#s_scaler = preprocessing.RobustScaler()\n",
    "#s_scaler = preprocessing.MaxAbsScaler()\n",
    "#s_scaler = preprocessing.Normalizer()\n",
    "s_scaler = preprocessing.QuantileTransformer()\n",
    "\n",
    "scaler_name = \"Quantile Transformer\"\n",
    "noscale = False\n",
    "if(noscale):\n",
    "    X_df = X\n",
    "else:\n",
    "    X_df= s_scaler.fit_transform(X)\n",
    "\n",
    "X_df = pd.DataFrame(X_df, columns=col_names)   \n",
    "X_df.describe().T"
   ]
  },
  {
   "cell_type": "code",
   "execution_count": 6,
   "id": "545dec41",
   "metadata": {
    "execution": {
     "iopub.execute_input": "2024-07-14T06:25:14.222145Z",
     "iopub.status.busy": "2024-07-14T06:25:14.222145Z",
     "iopub.status.idle": "2024-07-14T06:25:14.235184Z",
     "shell.execute_reply": "2024-07-14T06:25:14.235184Z"
    },
    "papermill": {
     "duration": 0.02373,
     "end_time": "2024-07-14T06:25:14.238822",
     "exception": false,
     "start_time": "2024-07-14T06:25:14.215092",
     "status": "completed"
    },
    "tags": []
   },
   "outputs": [],
   "source": [
    "X_train, X_test, y_train,y_test = train_test_split(X_df,y,test_size=0.3,random_state=42)"
   ]
  },
  {
   "cell_type": "code",
   "execution_count": 7,
   "id": "b9128b11",
   "metadata": {
    "execution": {
     "iopub.execute_input": "2024-07-14T06:25:14.246422Z",
     "iopub.status.busy": "2024-07-14T06:25:14.246422Z",
     "iopub.status.idle": "2024-07-14T06:25:14.266794Z",
     "shell.execute_reply": "2024-07-14T06:25:14.266794Z"
    },
    "papermill": {
     "duration": 0.025914,
     "end_time": "2024-07-14T06:25:14.269787",
     "exception": false,
     "start_time": "2024-07-14T06:25:14.243873",
     "status": "completed"
    },
    "tags": []
   },
   "outputs": [],
   "source": [
    "ros = RandomOverSampler(random_state=42)\n",
    "X_train,y_train = ros.fit_resample(X_train,y_train)"
   ]
  },
  {
   "cell_type": "code",
   "execution_count": 8,
   "id": "9f72cb3e",
   "metadata": {
    "execution": {
     "iopub.execute_input": "2024-07-14T06:25:14.291849Z",
     "iopub.status.busy": "2024-07-14T06:25:14.291849Z",
     "iopub.status.idle": "2024-07-14T06:25:14.304609Z",
     "shell.execute_reply": "2024-07-14T06:25:14.304312Z"
    },
    "papermill": {
     "duration": 0.02118,
     "end_time": "2024-07-14T06:25:14.304609",
     "exception": false,
     "start_time": "2024-07-14T06:25:14.283429",
     "status": "completed"
    },
    "tags": []
   },
   "outputs": [],
   "source": [
    "performanceMeasuresDF = pd.DataFrame(columns=['Classifier Model', 'Accuracy','F1-Score','Recall','Precision','Jaccard-Score','Kappa-Score'])"
   ]
  },
  {
   "cell_type": "code",
   "execution_count": 9,
   "id": "221dc736",
   "metadata": {
    "execution": {
     "iopub.execute_input": "2024-07-14T06:25:14.325465Z",
     "iopub.status.busy": "2024-07-14T06:25:14.325465Z",
     "iopub.status.idle": "2024-07-14T06:25:17.322704Z",
     "shell.execute_reply": "2024-07-14T06:25:17.322177Z"
    },
    "papermill": {
     "duration": 3.01123,
     "end_time": "2024-07-14T06:25:17.324213",
     "exception": false,
     "start_time": "2024-07-14T06:25:14.312983",
     "status": "completed"
    },
    "tags": []
   },
   "outputs": [
    {
     "name": "stdout",
     "output_type": "stream",
     "text": [
      "115 ms ± 4.27 ms per loop (mean ± std. dev. of 5 runs, 5 loops each)\n",
      "Accuracy : 0.799373040752351\n",
      "F1 : 0.8211757581308344\n",
      "Recall : 0.799373040752351\n",
      "Precision : 0.8745049209354433\n",
      "Jaccard : 0.7121302265067361\n",
      "Kappa : 0.5657694639116055\n"
     ]
    }
   ],
   "source": [
    "lr = LogisticRegression(max_iter = 100000)\n",
    "result = %timeit -o -n 5 -r 5 lr.fit(X=X_train, y=y_train) \n",
    "lr.fit(X = X_train, y = y_train)\n",
    "measures = performance_measures(\"Logistic Regression\", lr, X_test, y_test, performanceMeasuresDF)\n",
    "performanceMeasuresDF.loc[len(performanceMeasuresDF)] = measures\n",
    "exec_time = result.average"
   ]
  },
  {
   "cell_type": "code",
   "execution_count": 10,
   "id": "c20d2005",
   "metadata": {
    "execution": {
     "iopub.execute_input": "2024-07-14T06:25:17.332193Z",
     "iopub.status.busy": "2024-07-14T06:25:17.332193Z",
     "iopub.status.idle": "2024-07-14T06:25:23.924745Z",
     "shell.execute_reply": "2024-07-14T06:25:23.924745Z"
    },
    "papermill": {
     "duration": 6.598287,
     "end_time": "2024-07-14T06:25:23.928230",
     "exception": false,
     "start_time": "2024-07-14T06:25:17.329943",
     "status": "completed"
    },
    "tags": []
   },
   "outputs": [
    {
     "name": "stdout",
     "output_type": "stream",
     "text": [
      "251 ms ± 4.58 ms per loop (mean ± std. dev. of 5 runs, 5 loops each)\n"
     ]
    },
    {
     "name": "stdout",
     "output_type": "stream",
     "text": [
      "Accuracy : 0.8087774294670846\n",
      "F1 : 0.8276172305210416\n",
      "Recall : 0.8087774294670846\n",
      "Precision : 0.8712274567537726\n",
      "Jaccard : 0.7231933742040757\n",
      "Kappa : 0.5743084344202225\n"
     ]
    }
   ],
   "source": [
    "svmlinear = SVC(kernel = 'linear')\n",
    "result = %timeit -o -n 5 -r 5 svmlinear.fit(X=X_train, y = y_train)\n",
    "svmlinear.fit(X=X_train, y = y_train)\n",
    "measures = performance_measures(\"Support Vector Machine(Linear)\", svmlinear, X_test, y_test, performanceMeasuresDF)\n",
    "performanceMeasuresDF.loc[len(performanceMeasuresDF)] = measures\n",
    "exec_time += result.average"
   ]
  },
  {
   "cell_type": "code",
   "execution_count": 11,
   "id": "76be4831",
   "metadata": {
    "execution": {
     "iopub.execute_input": "2024-07-14T06:25:23.948262Z",
     "iopub.status.busy": "2024-07-14T06:25:23.948142Z",
     "iopub.status.idle": "2024-07-14T06:25:31.152709Z",
     "shell.execute_reply": "2024-07-14T06:25:31.151629Z"
    },
    "papermill": {
     "duration": 7.223148,
     "end_time": "2024-07-14T06:25:31.154902",
     "exception": false,
     "start_time": "2024-07-14T06:25:23.931754",
     "status": "completed"
    },
    "tags": []
   },
   "outputs": [
    {
     "name": "stdout",
     "output_type": "stream",
     "text": [
      "269 ms ± 21.4 ms per loop (mean ± std. dev. of 5 runs, 5 loops each)\n"
     ]
    },
    {
     "name": "stdout",
     "output_type": "stream",
     "text": [
      "Accuracy : 0.85423197492163\n",
      "F1 : 0.8658701173109076\n",
      "Recall : 0.85423197492163\n",
      "Precision : 0.8918567077055578\n",
      "Jaccard : 0.7775490628463335\n",
      "Kappa : 0.6571795049573599\n"
     ]
    }
   ],
   "source": [
    "svmrbf = SVC(kernel = 'rbf')\n",
    "result = %timeit -o -n 5 -r 5 svmrbf.fit(X=X_train, y = y_train)\n",
    "svmrbf.fit(X=X_train, y = y_train)\n",
    "measures = performance_measures(\"Support Vector Machine(RBF)\", svmrbf, X_test, y_test, performanceMeasuresDF)\n",
    "performanceMeasuresDF.loc[len(performanceMeasuresDF)] = measures\n",
    "exec_time += result.average"
   ]
  },
  {
   "cell_type": "markdown",
   "id": "9e331647",
   "metadata": {
    "papermill": {
     "duration": 0.001893,
     "end_time": "2024-07-14T06:25:31.164867",
     "exception": false,
     "start_time": "2024-07-14T06:25:31.162974",
     "status": "completed"
    },
    "tags": []
   },
   "source": [
    "Two variants which haven't been tried before"
   ]
  },
  {
   "cell_type": "code",
   "execution_count": 12,
   "id": "fd6c46ca",
   "metadata": {
    "execution": {
     "iopub.execute_input": "2024-07-14T06:25:31.173575Z",
     "iopub.status.busy": "2024-07-14T06:25:31.173575Z",
     "iopub.status.idle": "2024-07-14T06:25:36.897866Z",
     "shell.execute_reply": "2024-07-14T06:25:36.897357Z"
    },
    "papermill": {
     "duration": 5.725444,
     "end_time": "2024-07-14T06:25:36.899019",
     "exception": false,
     "start_time": "2024-07-14T06:25:31.173575",
     "status": "completed"
    },
    "tags": []
   },
   "outputs": [
    {
     "name": "stdout",
     "output_type": "stream",
     "text": [
      "217 ms ± 1.8 ms per loop (mean ± std. dev. of 5 runs, 5 loops each)\n"
     ]
    },
    {
     "name": "stdout",
     "output_type": "stream",
     "text": [
      "Accuracy : 0.8761755485893417\n",
      "F1 : 0.8821209495621278\n",
      "Recall : 0.8761755485893417\n",
      "Precision : 0.8933290760839968\n",
      "Jaccard : 0.8039326789816233\n",
      "Kappa : 0.689137514185622\n"
     ]
    }
   ],
   "source": [
    "svmpoly = SVC(kernel = 'poly')\n",
    "result = %timeit -o -n 5 -r 5 svmpoly.fit(X=X_train, y = y_train)\n",
    "svmpoly.fit(X=X_train, y = y_train)\n",
    "measures = performance_measures(\"Support Vector Machine(Poly)\",svmpoly, X_test, y_test, performanceMeasuresDF)\n",
    "performanceMeasuresDF.loc[len(performanceMeasuresDF)] = measures\n",
    "exec_time += result.average"
   ]
  },
  {
   "cell_type": "code",
   "execution_count": 13,
   "id": "9a4f2b56",
   "metadata": {
    "execution": {
     "iopub.execute_input": "2024-07-14T06:25:36.910124Z",
     "iopub.status.busy": "2024-07-14T06:25:36.910124Z",
     "iopub.status.idle": "2024-07-14T06:25:56.945373Z",
     "shell.execute_reply": "2024-07-14T06:25:56.945373Z"
    },
    "papermill": {
     "duration": 20.048184,
     "end_time": "2024-07-14T06:25:56.947203",
     "exception": false,
     "start_time": "2024-07-14T06:25:36.899019",
     "status": "completed"
    },
    "tags": []
   },
   "outputs": [
    {
     "name": "stdout",
     "output_type": "stream",
     "text": [
      "766 ms ± 66 ms per loop (mean ± std. dev. of 5 runs, 5 loops each)\n"
     ]
    },
    {
     "name": "stdout",
     "output_type": "stream",
     "text": [
      "Accuracy : 0.329153605015674\n",
      "F1 : 0.407072716983754\n",
      "Recall : 0.329153605015674\n",
      "Precision : 0.6952136234633696\n",
      "Jaccard : 0.2600865028641128\n",
      "Kappa : 0.047448947555691956\n"
     ]
    }
   ],
   "source": [
    "svmsigmoid = SVC(kernel = 'sigmoid')\n",
    "result = %timeit -o -n 5 -r 5 svmsigmoid.fit(X=X_train, y = y_train)\n",
    "svmsigmoid.fit(X=X_train, y = y_train)\n",
    "measures = performance_measures(\"Support Vector Machine(Sigmoid)\",svmsigmoid, X_test, y_test, performanceMeasuresDF)\n",
    "performanceMeasuresDF.loc[len(performanceMeasuresDF)] = measures\n",
    "exec_time += result.average"
   ]
  },
  {
   "cell_type": "code",
   "execution_count": 14,
   "id": "428f1676",
   "metadata": {
    "execution": {
     "iopub.execute_input": "2024-07-14T06:25:56.962624Z",
     "iopub.status.busy": "2024-07-14T06:25:56.962624Z",
     "iopub.status.idle": "2024-07-14T06:25:57.357423Z",
     "shell.execute_reply": "2024-07-14T06:25:57.355901Z"
    },
    "papermill": {
     "duration": 0.408428,
     "end_time": "2024-07-14T06:25:57.357423",
     "exception": false,
     "start_time": "2024-07-14T06:25:56.948995",
     "status": "completed"
    },
    "tags": []
   },
   "outputs": [
    {
     "name": "stdout",
     "output_type": "stream",
     "text": [
      "2.74 ms ± 398 μs per loop (mean ± std. dev. of 5 runs, 5 loops each)\n"
     ]
    },
    {
     "name": "stdout",
     "output_type": "stream",
     "text": [
      "Accuracy : 0.8307210031347962\n",
      "F1 : 0.8441423502718315\n",
      "Recall : 0.8307210031347962\n",
      "Precision : 0.8716908499460924\n",
      "Jaccard : 0.7471289522570472\n",
      "Kappa : 0.6032041278195922\n"
     ]
    }
   ],
   "source": [
    "knn = KNeighborsClassifier(n_neighbors=5)\n",
    "result = %timeit -o -n 5 -r 5 knn.fit(X=X_train, y = y_train) \n",
    "knn.fit(X=X_train, y = y_train)\n",
    "measures = performance_measures(\"K-Nearest Neighbors\",knn, X_test, y_test, performanceMeasuresDF)\n",
    "performanceMeasuresDF.loc[len(performanceMeasuresDF)] = measures\n",
    "exec_time += result.average"
   ]
  },
  {
   "cell_type": "code",
   "execution_count": 15,
   "id": "1685b942",
   "metadata": {
    "execution": {
     "iopub.execute_input": "2024-07-14T06:25:57.383933Z",
     "iopub.status.busy": "2024-07-14T06:25:57.374401Z",
     "iopub.status.idle": "2024-07-14T06:25:57.517046Z",
     "shell.execute_reply": "2024-07-14T06:25:57.516532Z"
    },
    "papermill": {
     "duration": 0.147563,
     "end_time": "2024-07-14T06:25:57.520022",
     "exception": false,
     "start_time": "2024-07-14T06:25:57.372459",
     "status": "completed"
    },
    "tags": []
   },
   "outputs": [
    {
     "name": "stdout",
     "output_type": "stream",
     "text": [
      "4.16 ms ± 252 μs per loop (mean ± std. dev. of 5 runs, 5 loops each)\n",
      "Accuracy : 0.6598746081504702\n",
      "F1 : 0.6973158449808338\n",
      "Recall : 0.6598746081504702\n",
      "Precision : 0.8537542319074346\n",
      "Jaccard : 0.5443481871191831\n",
      "Kappa : 0.3884921002999102\n"
     ]
    }
   ],
   "source": [
    "gnb = GaussianNB()\n",
    "result = %timeit -o -n 5 -r 5 gnb.fit(X_train, y_train)\n",
    "gnb.fit(X_train, y_train)\n",
    "measures = performance_measures(\"Naive Bayes\",gnb, X_test, y_test, performanceMeasuresDF)\n",
    "performanceMeasuresDF.loc[len(performanceMeasuresDF)] = measures\n",
    "exec_time += result.average"
   ]
  },
  {
   "cell_type": "code",
   "execution_count": 16,
   "id": "2783a4cc",
   "metadata": {
    "execution": {
     "iopub.execute_input": "2024-07-14T06:25:57.537922Z",
     "iopub.status.busy": "2024-07-14T06:25:57.537922Z",
     "iopub.status.idle": "2024-07-14T06:25:58.099250Z",
     "shell.execute_reply": "2024-07-14T06:25:58.098737Z"
    },
    "papermill": {
     "duration": 0.57631,
     "end_time": "2024-07-14T06:25:58.101720",
     "exception": false,
     "start_time": "2024-07-14T06:25:57.525410",
     "status": "completed"
    },
    "tags": []
   },
   "outputs": [
    {
     "name": "stdout",
     "output_type": "stream",
     "text": [
      "20.6 ms ± 764 μs per loop (mean ± std. dev. of 5 runs, 5 loops each)\n",
      "Accuracy : 0.9231974921630094\n",
      "F1 : 0.9226885170304304\n",
      "Recall : 0.9231974921630094\n",
      "Precision : 0.9223537709247842\n",
      "Jaccard : 0.8622403190625623\n",
      "Kappa : 0.7894474527869824\n"
     ]
    }
   ],
   "source": [
    "dt = DecisionTreeClassifier()\n",
    "result = %timeit -o -n 5 -r 5 dt.fit(X_train, y_train)\n",
    "dt.fit(X_train, y_train)\n",
    "measures = performance_measures(\"Decision Tree\",dt, X_test, y_test, performanceMeasuresDF)\n",
    "performanceMeasuresDF.loc[len(performanceMeasuresDF)] = measures\n",
    "exec_time += result.average"
   ]
  },
  {
   "cell_type": "code",
   "execution_count": 17,
   "id": "5011cb11",
   "metadata": {
    "execution": {
     "iopub.execute_input": "2024-07-14T06:25:58.122998Z",
     "iopub.status.busy": "2024-07-14T06:25:58.122998Z",
     "iopub.status.idle": "2024-07-14T06:26:12.422729Z",
     "shell.execute_reply": "2024-07-14T06:26:12.422729Z"
    },
    "papermill": {
     "duration": 14.323828,
     "end_time": "2024-07-14T06:26:12.425548",
     "exception": false,
     "start_time": "2024-07-14T06:25:58.101720",
     "status": "completed"
    },
    "tags": []
   },
   "outputs": [
    {
     "name": "stdout",
     "output_type": "stream",
     "text": [
      "549 ms ± 10.8 ms per loop (mean ± std. dev. of 5 runs, 5 loops each)\n"
     ]
    },
    {
     "name": "stdout",
     "output_type": "stream",
     "text": [
      "Accuracy : 0.9341692789968652\n",
      "F1 : 0.9336789071948222\n",
      "Recall : 0.9341692789968652\n",
      "Precision : 0.9336802525506525\n",
      "Jaccard : 0.8808512066923518\n",
      "Kappa : 0.819672131147541\n"
     ]
    }
   ],
   "source": [
    "rfc = RandomForestClassifier(n_estimators = 100, random_state = 42)\n",
    "result = %timeit -o -n 5 -r 5 rfc.fit(X_train, y_train)\n",
    "rfc.fit(X_train, y_train)\n",
    "measures = performance_measures(\"Random Forest\",rfc, X_test, y_test, performanceMeasuresDF)\n",
    "performanceMeasuresDF.loc[len(performanceMeasuresDF)] = measures\n",
    "exec_time += result.average"
   ]
  },
  {
   "cell_type": "code",
   "execution_count": 18,
   "id": "f0a1daa4",
   "metadata": {
    "execution": {
     "iopub.execute_input": "2024-07-14T06:26:12.434557Z",
     "iopub.status.busy": "2024-07-14T06:26:12.434557Z",
     "iopub.status.idle": "2024-07-14T06:26:28.279870Z",
     "shell.execute_reply": "2024-07-14T06:26:28.278852Z"
    },
    "papermill": {
     "duration": 15.854996,
     "end_time": "2024-07-14T06:26:28.280544",
     "exception": false,
     "start_time": "2024-07-14T06:26:12.425548",
     "status": "completed"
    },
    "tags": []
   },
   "outputs": [
    {
     "name": "stdout",
     "output_type": "stream",
     "text": [
      "608 ms ± 20 ms per loop (mean ± std. dev. of 5 runs, 5 loops each)\n"
     ]
    },
    {
     "name": "stdout",
     "output_type": "stream",
     "text": [
      "Accuracy : 0.8871473354231975\n",
      "F1 : 0.8922203194307321\n",
      "Recall : 0.8871473354231975\n",
      "Precision : 0.9037482268486758\n",
      "Jaccard : 0.8123084124727266\n",
      "Kappa : 0.7184448762189628\n"
     ]
    }
   ],
   "source": [
    "abc = AdaBoostClassifier(n_estimators = 100, random_state = 42)\n",
    "result = %timeit -o -n 5 -r 5 abc.fit(X_train, y_train)\n",
    "abc.fit(X_train, y_train)\n",
    "measures = performance_measures(\"Ada Boost\",abc, X_test, y_test, performanceMeasuresDF)\n",
    "performanceMeasuresDF.loc[len(performanceMeasuresDF)] = measures\n",
    "exec_time += result.average"
   ]
  },
  {
   "cell_type": "code",
   "execution_count": 19,
   "id": "5c09e0d5",
   "metadata": {
    "execution": {
     "iopub.execute_input": "2024-07-14T06:26:28.297215Z",
     "iopub.status.busy": "2024-07-14T06:26:28.297215Z",
     "iopub.status.idle": "2024-07-14T06:27:02.435606Z",
     "shell.execute_reply": "2024-07-14T06:27:02.434388Z"
    },
    "papermill": {
     "duration": 34.152955,
     "end_time": "2024-07-14T06:27:02.435606",
     "exception": false,
     "start_time": "2024-07-14T06:26:28.282651",
     "status": "completed"
    },
    "tags": []
   },
   "outputs": [
    {
     "name": "stdout",
     "output_type": "stream",
     "text": [
      "1.31 s ± 74.5 ms per loop (mean ± std. dev. of 5 runs, 5 loops each)\n"
     ]
    },
    {
     "name": "stdout",
     "output_type": "stream",
     "text": [
      "Accuracy : 0.8824451410658307\n",
      "F1 : 0.889478732362703\n",
      "Recall : 0.8824451410658307\n",
      "Precision : 0.9123061851569174\n",
      "Jaccard : 0.8067182439299724\n",
      "Kappa : 0.7229556034183284\n"
     ]
    }
   ],
   "source": [
    "gbc = GradientBoostingClassifier(n_estimators = 100, random_state = 42, learning_rate = 1.0, max_depth = 1)\n",
    "result = %timeit -o -n 5 -r 5 gbc.fit(X_train, y_train)\n",
    "gbc.fit(X_train, y_train)\n",
    "measures = performance_measures(\"Gradient Boost\",gbc, X_test, y_test, performanceMeasuresDF)\n",
    "performanceMeasuresDF.loc[len(performanceMeasuresDF)] = measures\n",
    "exec_time += result.average"
   ]
  },
  {
   "cell_type": "code",
   "execution_count": 20,
   "id": "62b294f5",
   "metadata": {
    "execution": {
     "iopub.execute_input": "2024-07-14T06:27:02.454808Z",
     "iopub.status.busy": "2024-07-14T06:27:02.454808Z",
     "iopub.status.idle": "2024-07-14T06:27:17.651204Z",
     "shell.execute_reply": "2024-07-14T06:27:17.650157Z"
    },
    "papermill": {
     "duration": 15.220079,
     "end_time": "2024-07-14T06:27:17.655685",
     "exception": false,
     "start_time": "2024-07-14T06:27:02.435606",
     "status": "completed"
    },
    "tags": []
   },
   "outputs": [
    {
     "name": "stderr",
     "output_type": "stream",
     "text": [
      "C:\\Users\\Santhosh\\AppData\\Local\\Packages\\PythonSoftwareFoundation.Python.3.11_qbz5n2kfra8p0\\LocalCache\\local-packages\\Python311\\site-packages\\xgboost\\core.py:158: UserWarning: [11:57:02] WARNING: C:\\buildkite-agent\\builds\\buildkite-windows-cpu-autoscaling-group-i-06abd128ca6c1688d-1\\xgboost\\xgboost-ci-windows\\src\\learner.cc:740: \n",
      "Parameters: { \"use_label_encoder\" } are not used.\n",
      "\n",
      "  warnings.warn(smsg, UserWarning)\n"
     ]
    },
    {
     "name": "stderr",
     "output_type": "stream",
     "text": [
      "C:\\Users\\Santhosh\\AppData\\Local\\Packages\\PythonSoftwareFoundation.Python.3.11_qbz5n2kfra8p0\\LocalCache\\local-packages\\Python311\\site-packages\\xgboost\\core.py:158: UserWarning: [11:57:03] WARNING: C:\\buildkite-agent\\builds\\buildkite-windows-cpu-autoscaling-group-i-06abd128ca6c1688d-1\\xgboost\\xgboost-ci-windows\\src\\learner.cc:740: \n",
      "Parameters: { \"use_label_encoder\" } are not used.\n",
      "\n",
      "  warnings.warn(smsg, UserWarning)\n"
     ]
    },
    {
     "name": "stderr",
     "output_type": "stream",
     "text": [
      "C:\\Users\\Santhosh\\AppData\\Local\\Packages\\PythonSoftwareFoundation.Python.3.11_qbz5n2kfra8p0\\LocalCache\\local-packages\\Python311\\site-packages\\xgboost\\core.py:158: UserWarning: [11:57:03] WARNING: C:\\buildkite-agent\\builds\\buildkite-windows-cpu-autoscaling-group-i-06abd128ca6c1688d-1\\xgboost\\xgboost-ci-windows\\src\\learner.cc:740: \n",
      "Parameters: { \"use_label_encoder\" } are not used.\n",
      "\n",
      "  warnings.warn(smsg, UserWarning)\n"
     ]
    },
    {
     "name": "stderr",
     "output_type": "stream",
     "text": [
      "C:\\Users\\Santhosh\\AppData\\Local\\Packages\\PythonSoftwareFoundation.Python.3.11_qbz5n2kfra8p0\\LocalCache\\local-packages\\Python311\\site-packages\\xgboost\\core.py:158: UserWarning: [11:57:04] WARNING: C:\\buildkite-agent\\builds\\buildkite-windows-cpu-autoscaling-group-i-06abd128ca6c1688d-1\\xgboost\\xgboost-ci-windows\\src\\learner.cc:740: \n",
      "Parameters: { \"use_label_encoder\" } are not used.\n",
      "\n",
      "  warnings.warn(smsg, UserWarning)\n"
     ]
    },
    {
     "name": "stderr",
     "output_type": "stream",
     "text": [
      "C:\\Users\\Santhosh\\AppData\\Local\\Packages\\PythonSoftwareFoundation.Python.3.11_qbz5n2kfra8p0\\LocalCache\\local-packages\\Python311\\site-packages\\xgboost\\core.py:158: UserWarning: [11:57:04] WARNING: C:\\buildkite-agent\\builds\\buildkite-windows-cpu-autoscaling-group-i-06abd128ca6c1688d-1\\xgboost\\xgboost-ci-windows\\src\\learner.cc:740: \n",
      "Parameters: { \"use_label_encoder\" } are not used.\n",
      "\n",
      "  warnings.warn(smsg, UserWarning)\n"
     ]
    },
    {
     "name": "stderr",
     "output_type": "stream",
     "text": [
      "C:\\Users\\Santhosh\\AppData\\Local\\Packages\\PythonSoftwareFoundation.Python.3.11_qbz5n2kfra8p0\\LocalCache\\local-packages\\Python311\\site-packages\\xgboost\\core.py:158: UserWarning: [11:57:05] WARNING: C:\\buildkite-agent\\builds\\buildkite-windows-cpu-autoscaling-group-i-06abd128ca6c1688d-1\\xgboost\\xgboost-ci-windows\\src\\learner.cc:740: \n",
      "Parameters: { \"use_label_encoder\" } are not used.\n",
      "\n",
      "  warnings.warn(smsg, UserWarning)\n"
     ]
    },
    {
     "name": "stderr",
     "output_type": "stream",
     "text": [
      "C:\\Users\\Santhosh\\AppData\\Local\\Packages\\PythonSoftwareFoundation.Python.3.11_qbz5n2kfra8p0\\LocalCache\\local-packages\\Python311\\site-packages\\xgboost\\core.py:158: UserWarning: [11:57:05] WARNING: C:\\buildkite-agent\\builds\\buildkite-windows-cpu-autoscaling-group-i-06abd128ca6c1688d-1\\xgboost\\xgboost-ci-windows\\src\\learner.cc:740: \n",
      "Parameters: { \"use_label_encoder\" } are not used.\n",
      "\n",
      "  warnings.warn(smsg, UserWarning)\n"
     ]
    },
    {
     "name": "stderr",
     "output_type": "stream",
     "text": [
      "C:\\Users\\Santhosh\\AppData\\Local\\Packages\\PythonSoftwareFoundation.Python.3.11_qbz5n2kfra8p0\\LocalCache\\local-packages\\Python311\\site-packages\\xgboost\\core.py:158: UserWarning: [11:57:06] WARNING: C:\\buildkite-agent\\builds\\buildkite-windows-cpu-autoscaling-group-i-06abd128ca6c1688d-1\\xgboost\\xgboost-ci-windows\\src\\learner.cc:740: \n",
      "Parameters: { \"use_label_encoder\" } are not used.\n",
      "\n",
      "  warnings.warn(smsg, UserWarning)\n"
     ]
    },
    {
     "name": "stderr",
     "output_type": "stream",
     "text": [
      "C:\\Users\\Santhosh\\AppData\\Local\\Packages\\PythonSoftwareFoundation.Python.3.11_qbz5n2kfra8p0\\LocalCache\\local-packages\\Python311\\site-packages\\xgboost\\core.py:158: UserWarning: [11:57:07] WARNING: C:\\buildkite-agent\\builds\\buildkite-windows-cpu-autoscaling-group-i-06abd128ca6c1688d-1\\xgboost\\xgboost-ci-windows\\src\\learner.cc:740: \n",
      "Parameters: { \"use_label_encoder\" } are not used.\n",
      "\n",
      "  warnings.warn(smsg, UserWarning)\n"
     ]
    },
    {
     "name": "stderr",
     "output_type": "stream",
     "text": [
      "C:\\Users\\Santhosh\\AppData\\Local\\Packages\\PythonSoftwareFoundation.Python.3.11_qbz5n2kfra8p0\\LocalCache\\local-packages\\Python311\\site-packages\\xgboost\\core.py:158: UserWarning: [11:57:07] WARNING: C:\\buildkite-agent\\builds\\buildkite-windows-cpu-autoscaling-group-i-06abd128ca6c1688d-1\\xgboost\\xgboost-ci-windows\\src\\learner.cc:740: \n",
      "Parameters: { \"use_label_encoder\" } are not used.\n",
      "\n",
      "  warnings.warn(smsg, UserWarning)\n"
     ]
    },
    {
     "name": "stderr",
     "output_type": "stream",
     "text": [
      "C:\\Users\\Santhosh\\AppData\\Local\\Packages\\PythonSoftwareFoundation.Python.3.11_qbz5n2kfra8p0\\LocalCache\\local-packages\\Python311\\site-packages\\xgboost\\core.py:158: UserWarning: [11:57:08] WARNING: C:\\buildkite-agent\\builds\\buildkite-windows-cpu-autoscaling-group-i-06abd128ca6c1688d-1\\xgboost\\xgboost-ci-windows\\src\\learner.cc:740: \n",
      "Parameters: { \"use_label_encoder\" } are not used.\n",
      "\n",
      "  warnings.warn(smsg, UserWarning)\n"
     ]
    },
    {
     "name": "stderr",
     "output_type": "stream",
     "text": [
      "C:\\Users\\Santhosh\\AppData\\Local\\Packages\\PythonSoftwareFoundation.Python.3.11_qbz5n2kfra8p0\\LocalCache\\local-packages\\Python311\\site-packages\\xgboost\\core.py:158: UserWarning: [11:57:08] WARNING: C:\\buildkite-agent\\builds\\buildkite-windows-cpu-autoscaling-group-i-06abd128ca6c1688d-1\\xgboost\\xgboost-ci-windows\\src\\learner.cc:740: \n",
      "Parameters: { \"use_label_encoder\" } are not used.\n",
      "\n",
      "  warnings.warn(smsg, UserWarning)\n"
     ]
    },
    {
     "name": "stderr",
     "output_type": "stream",
     "text": [
      "C:\\Users\\Santhosh\\AppData\\Local\\Packages\\PythonSoftwareFoundation.Python.3.11_qbz5n2kfra8p0\\LocalCache\\local-packages\\Python311\\site-packages\\xgboost\\core.py:158: UserWarning: [11:57:09] WARNING: C:\\buildkite-agent\\builds\\buildkite-windows-cpu-autoscaling-group-i-06abd128ca6c1688d-1\\xgboost\\xgboost-ci-windows\\src\\learner.cc:740: \n",
      "Parameters: { \"use_label_encoder\" } are not used.\n",
      "\n",
      "  warnings.warn(smsg, UserWarning)\n"
     ]
    },
    {
     "name": "stderr",
     "output_type": "stream",
     "text": [
      "C:\\Users\\Santhosh\\AppData\\Local\\Packages\\PythonSoftwareFoundation.Python.3.11_qbz5n2kfra8p0\\LocalCache\\local-packages\\Python311\\site-packages\\xgboost\\core.py:158: UserWarning: [11:57:10] WARNING: C:\\buildkite-agent\\builds\\buildkite-windows-cpu-autoscaling-group-i-06abd128ca6c1688d-1\\xgboost\\xgboost-ci-windows\\src\\learner.cc:740: \n",
      "Parameters: { \"use_label_encoder\" } are not used.\n",
      "\n",
      "  warnings.warn(smsg, UserWarning)\n"
     ]
    },
    {
     "name": "stderr",
     "output_type": "stream",
     "text": [
      "C:\\Users\\Santhosh\\AppData\\Local\\Packages\\PythonSoftwareFoundation.Python.3.11_qbz5n2kfra8p0\\LocalCache\\local-packages\\Python311\\site-packages\\xgboost\\core.py:158: UserWarning: [11:57:10] WARNING: C:\\buildkite-agent\\builds\\buildkite-windows-cpu-autoscaling-group-i-06abd128ca6c1688d-1\\xgboost\\xgboost-ci-windows\\src\\learner.cc:740: \n",
      "Parameters: { \"use_label_encoder\" } are not used.\n",
      "\n",
      "  warnings.warn(smsg, UserWarning)\n"
     ]
    },
    {
     "name": "stderr",
     "output_type": "stream",
     "text": [
      "C:\\Users\\Santhosh\\AppData\\Local\\Packages\\PythonSoftwareFoundation.Python.3.11_qbz5n2kfra8p0\\LocalCache\\local-packages\\Python311\\site-packages\\xgboost\\core.py:158: UserWarning: [11:57:11] WARNING: C:\\buildkite-agent\\builds\\buildkite-windows-cpu-autoscaling-group-i-06abd128ca6c1688d-1\\xgboost\\xgboost-ci-windows\\src\\learner.cc:740: \n",
      "Parameters: { \"use_label_encoder\" } are not used.\n",
      "\n",
      "  warnings.warn(smsg, UserWarning)\n"
     ]
    },
    {
     "name": "stderr",
     "output_type": "stream",
     "text": [
      "C:\\Users\\Santhosh\\AppData\\Local\\Packages\\PythonSoftwareFoundation.Python.3.11_qbz5n2kfra8p0\\LocalCache\\local-packages\\Python311\\site-packages\\xgboost\\core.py:158: UserWarning: [11:57:11] WARNING: C:\\buildkite-agent\\builds\\buildkite-windows-cpu-autoscaling-group-i-06abd128ca6c1688d-1\\xgboost\\xgboost-ci-windows\\src\\learner.cc:740: \n",
      "Parameters: { \"use_label_encoder\" } are not used.\n",
      "\n",
      "  warnings.warn(smsg, UserWarning)\n"
     ]
    },
    {
     "name": "stderr",
     "output_type": "stream",
     "text": [
      "C:\\Users\\Santhosh\\AppData\\Local\\Packages\\PythonSoftwareFoundation.Python.3.11_qbz5n2kfra8p0\\LocalCache\\local-packages\\Python311\\site-packages\\xgboost\\core.py:158: UserWarning: [11:57:12] WARNING: C:\\buildkite-agent\\builds\\buildkite-windows-cpu-autoscaling-group-i-06abd128ca6c1688d-1\\xgboost\\xgboost-ci-windows\\src\\learner.cc:740: \n",
      "Parameters: { \"use_label_encoder\" } are not used.\n",
      "\n",
      "  warnings.warn(smsg, UserWarning)\n"
     ]
    },
    {
     "name": "stderr",
     "output_type": "stream",
     "text": [
      "C:\\Users\\Santhosh\\AppData\\Local\\Packages\\PythonSoftwareFoundation.Python.3.11_qbz5n2kfra8p0\\LocalCache\\local-packages\\Python311\\site-packages\\xgboost\\core.py:158: UserWarning: [11:57:12] WARNING: C:\\buildkite-agent\\builds\\buildkite-windows-cpu-autoscaling-group-i-06abd128ca6c1688d-1\\xgboost\\xgboost-ci-windows\\src\\learner.cc:740: \n",
      "Parameters: { \"use_label_encoder\" } are not used.\n",
      "\n",
      "  warnings.warn(smsg, UserWarning)\n"
     ]
    },
    {
     "name": "stderr",
     "output_type": "stream",
     "text": [
      "C:\\Users\\Santhosh\\AppData\\Local\\Packages\\PythonSoftwareFoundation.Python.3.11_qbz5n2kfra8p0\\LocalCache\\local-packages\\Python311\\site-packages\\xgboost\\core.py:158: UserWarning: [11:57:13] WARNING: C:\\buildkite-agent\\builds\\buildkite-windows-cpu-autoscaling-group-i-06abd128ca6c1688d-1\\xgboost\\xgboost-ci-windows\\src\\learner.cc:740: \n",
      "Parameters: { \"use_label_encoder\" } are not used.\n",
      "\n",
      "  warnings.warn(smsg, UserWarning)\n"
     ]
    },
    {
     "name": "stderr",
     "output_type": "stream",
     "text": [
      "C:\\Users\\Santhosh\\AppData\\Local\\Packages\\PythonSoftwareFoundation.Python.3.11_qbz5n2kfra8p0\\LocalCache\\local-packages\\Python311\\site-packages\\xgboost\\core.py:158: UserWarning: [11:57:14] WARNING: C:\\buildkite-agent\\builds\\buildkite-windows-cpu-autoscaling-group-i-06abd128ca6c1688d-1\\xgboost\\xgboost-ci-windows\\src\\learner.cc:740: \n",
      "Parameters: { \"use_label_encoder\" } are not used.\n",
      "\n",
      "  warnings.warn(smsg, UserWarning)\n"
     ]
    },
    {
     "name": "stderr",
     "output_type": "stream",
     "text": [
      "C:\\Users\\Santhosh\\AppData\\Local\\Packages\\PythonSoftwareFoundation.Python.3.11_qbz5n2kfra8p0\\LocalCache\\local-packages\\Python311\\site-packages\\xgboost\\core.py:158: UserWarning: [11:57:14] WARNING: C:\\buildkite-agent\\builds\\buildkite-windows-cpu-autoscaling-group-i-06abd128ca6c1688d-1\\xgboost\\xgboost-ci-windows\\src\\learner.cc:740: \n",
      "Parameters: { \"use_label_encoder\" } are not used.\n",
      "\n",
      "  warnings.warn(smsg, UserWarning)\n"
     ]
    },
    {
     "name": "stderr",
     "output_type": "stream",
     "text": [
      "C:\\Users\\Santhosh\\AppData\\Local\\Packages\\PythonSoftwareFoundation.Python.3.11_qbz5n2kfra8p0\\LocalCache\\local-packages\\Python311\\site-packages\\xgboost\\core.py:158: UserWarning: [11:57:15] WARNING: C:\\buildkite-agent\\builds\\buildkite-windows-cpu-autoscaling-group-i-06abd128ca6c1688d-1\\xgboost\\xgboost-ci-windows\\src\\learner.cc:740: \n",
      "Parameters: { \"use_label_encoder\" } are not used.\n",
      "\n",
      "  warnings.warn(smsg, UserWarning)\n"
     ]
    },
    {
     "name": "stderr",
     "output_type": "stream",
     "text": [
      "C:\\Users\\Santhosh\\AppData\\Local\\Packages\\PythonSoftwareFoundation.Python.3.11_qbz5n2kfra8p0\\LocalCache\\local-packages\\Python311\\site-packages\\xgboost\\core.py:158: UserWarning: [11:57:15] WARNING: C:\\buildkite-agent\\builds\\buildkite-windows-cpu-autoscaling-group-i-06abd128ca6c1688d-1\\xgboost\\xgboost-ci-windows\\src\\learner.cc:740: \n",
      "Parameters: { \"use_label_encoder\" } are not used.\n",
      "\n",
      "  warnings.warn(smsg, UserWarning)\n"
     ]
    },
    {
     "name": "stderr",
     "output_type": "stream",
     "text": [
      "C:\\Users\\Santhosh\\AppData\\Local\\Packages\\PythonSoftwareFoundation.Python.3.11_qbz5n2kfra8p0\\LocalCache\\local-packages\\Python311\\site-packages\\xgboost\\core.py:158: UserWarning: [11:57:16] WARNING: C:\\buildkite-agent\\builds\\buildkite-windows-cpu-autoscaling-group-i-06abd128ca6c1688d-1\\xgboost\\xgboost-ci-windows\\src\\learner.cc:740: \n",
      "Parameters: { \"use_label_encoder\" } are not used.\n",
      "\n",
      "  warnings.warn(smsg, UserWarning)\n"
     ]
    },
    {
     "name": "stdout",
     "output_type": "stream",
     "text": [
      "582 ms ± 7.85 ms per loop (mean ± std. dev. of 5 runs, 5 loops each)\n"
     ]
    },
    {
     "name": "stderr",
     "output_type": "stream",
     "text": [
      "C:\\Users\\Santhosh\\AppData\\Local\\Packages\\PythonSoftwareFoundation.Python.3.11_qbz5n2kfra8p0\\LocalCache\\local-packages\\Python311\\site-packages\\xgboost\\core.py:158: UserWarning: [11:57:17] WARNING: C:\\buildkite-agent\\builds\\buildkite-windows-cpu-autoscaling-group-i-06abd128ca6c1688d-1\\xgboost\\xgboost-ci-windows\\src\\learner.cc:740: \n",
      "Parameters: { \"use_label_encoder\" } are not used.\n",
      "\n",
      "  warnings.warn(smsg, UserWarning)\n"
     ]
    },
    {
     "name": "stdout",
     "output_type": "stream",
     "text": [
      "Accuracy : 0.9545454545454546\n",
      "F1 : 0.9544474452495844\n",
      "Recall : 0.9545454545454546\n",
      "Precision : 0.954673114614897\n",
      "Jaccard : 0.9150425054580357\n",
      "Kappa : 0.8764729838898124\n"
     ]
    }
   ],
   "source": [
    "xgb = XGBClassifier(use_label_encoder = False, eval_metric = 'mlogloss')\n",
    "result = %timeit -o -n 5 -r 5 xgb.fit(X_train, y_train - 1)\n",
    "xgb.fit(X_train, y_train - 1)\n",
    "measures = performance_measures(\"XG Boost\",xgb, X_test, y_test - 1, performanceMeasuresDF)\n",
    "performanceMeasuresDF.loc[len(performanceMeasuresDF)] = measures\n",
    "exec_time += result.average"
   ]
  },
  {
   "cell_type": "code",
   "execution_count": 21,
   "id": "65d1a5f4",
   "metadata": {
    "execution": {
     "iopub.execute_input": "2024-07-14T06:27:17.707337Z",
     "iopub.status.busy": "2024-07-14T06:27:17.707337Z",
     "iopub.status.idle": "2024-07-14T06:27:30.653852Z",
     "shell.execute_reply": "2024-07-14T06:27:30.652661Z"
    },
    "papermill": {
     "duration": 12.970743,
     "end_time": "2024-07-14T06:27:30.658022",
     "exception": false,
     "start_time": "2024-07-14T06:27:17.687279",
     "status": "completed"
    },
    "tags": []
   },
   "outputs": [
    {
     "name": "stdout",
     "output_type": "stream",
     "text": [
      "[LightGBM] [Warning] Found whitespace in feature_names, replace with underlines\n",
      "[LightGBM] [Info] Auto-choosing row-wise multi-threading, the overhead of testing was 0.000890 seconds.\n",
      "You can set `force_row_wise=true` to remove the overhead.\n",
      "And if memory is not enough, you can set `force_col_wise=true`.\n",
      "[LightGBM] [Info] Total Bins 1254\n",
      "[LightGBM] [Info] Number of data points in the train set: 3477, number of used features: 21\n",
      "[LightGBM] [Info] Start training from score -1.098612\n",
      "[LightGBM] [Info] Start training from score -1.098612\n",
      "[LightGBM] [Info] Start training from score -1.098612\n",
      "[LightGBM] [Warning] No further splits with positive gain, best gain: -inf\n"
     ]
    },
    {
     "name": "stdout",
     "output_type": "stream",
     "text": [
      "[LightGBM] [Warning] Found whitespace in feature_names, replace with underlines\n",
      "[LightGBM] [Info] Auto-choosing col-wise multi-threading, the overhead of testing was 0.001152 seconds.\n",
      "You can set `force_col_wise=true` to remove the overhead.\n",
      "[LightGBM] [Info] Total Bins 1254\n",
      "[LightGBM] [Info] Number of data points in the train set: 3477, number of used features: 21\n",
      "[LightGBM] [Info] Start training from score -1.098612\n",
      "[LightGBM] [Info] Start training from score -1.098612\n",
      "[LightGBM] [Info] Start training from score -1.098612\n",
      "[LightGBM] [Warning] No further splits with positive gain, best gain: -inf\n"
     ]
    },
    {
     "name": "stdout",
     "output_type": "stream",
     "text": [
      "[LightGBM] [Warning] Found whitespace in feature_names, replace with underlines\n",
      "[LightGBM] [Info] Auto-choosing row-wise multi-threading, the overhead of testing was 0.000394 seconds.\n",
      "You can set `force_row_wise=true` to remove the overhead.\n",
      "And if memory is not enough, you can set `force_col_wise=true`.\n",
      "[LightGBM] [Info] Total Bins 1254\n",
      "[LightGBM] [Info] Number of data points in the train set: 3477, number of used features: 21\n",
      "[LightGBM] [Info] Start training from score -1.098612\n",
      "[LightGBM] [Info] Start training from score -1.098612\n",
      "[LightGBM] [Info] Start training from score -1.098612\n",
      "[LightGBM] [Warning] No further splits with positive gain, best gain: -inf\n"
     ]
    },
    {
     "name": "stdout",
     "output_type": "stream",
     "text": [
      "[LightGBM] [Warning] Found whitespace in feature_names, replace with underlines\n",
      "[LightGBM] [Info] Auto-choosing col-wise multi-threading, the overhead of testing was 0.001165 seconds.\n",
      "You can set `force_col_wise=true` to remove the overhead.\n",
      "[LightGBM] [Info] Total Bins 1254\n",
      "[LightGBM] [Info] Number of data points in the train set: 3477, number of used features: 21\n",
      "[LightGBM] [Info] Start training from score -1.098612\n",
      "[LightGBM] [Info] Start training from score -1.098612\n",
      "[LightGBM] [Info] Start training from score -1.098612\n",
      "[LightGBM] [Warning] No further splits with positive gain, best gain: -inf\n"
     ]
    },
    {
     "name": "stdout",
     "output_type": "stream",
     "text": [
      "[LightGBM] [Warning] Found whitespace in feature_names, replace with underlines\n",
      "[LightGBM] [Info] Auto-choosing col-wise multi-threading, the overhead of testing was 0.001066 seconds.\n",
      "You can set `force_col_wise=true` to remove the overhead.\n",
      "[LightGBM] [Info] Total Bins 1254\n",
      "[LightGBM] [Info] Number of data points in the train set: 3477, number of used features: 21\n",
      "[LightGBM] [Info] Start training from score -1.098612\n",
      "[LightGBM] [Info] Start training from score -1.098612\n",
      "[LightGBM] [Info] Start training from score -1.098612\n",
      "[LightGBM] [Warning] No further splits with positive gain, best gain: -inf\n"
     ]
    },
    {
     "name": "stdout",
     "output_type": "stream",
     "text": [
      "[LightGBM] [Warning] Found whitespace in feature_names, replace with underlines\n",
      "[LightGBM] [Info] Auto-choosing col-wise multi-threading, the overhead of testing was 0.001152 seconds.\n",
      "You can set `force_col_wise=true` to remove the overhead.\n",
      "[LightGBM] [Info] Total Bins 1254\n",
      "[LightGBM] [Info] Number of data points in the train set: 3477, number of used features: 21\n",
      "[LightGBM] [Info] Start training from score -1.098612\n",
      "[LightGBM] [Info] Start training from score -1.098612\n",
      "[LightGBM] [Info] Start training from score -1.098612\n",
      "[LightGBM] [Warning] No further splits with positive gain, best gain: -inf\n"
     ]
    },
    {
     "name": "stdout",
     "output_type": "stream",
     "text": [
      "[LightGBM] [Warning] Found whitespace in feature_names, replace with underlines\n",
      "[LightGBM] [Info] Auto-choosing row-wise multi-threading, the overhead of testing was 0.000392 seconds.\n",
      "You can set `force_row_wise=true` to remove the overhead.\n",
      "And if memory is not enough, you can set `force_col_wise=true`.\n",
      "[LightGBM] [Info] Total Bins 1254\n",
      "[LightGBM] [Info] Number of data points in the train set: 3477, number of used features: 21\n",
      "[LightGBM] [Info] Start training from score -1.098612\n",
      "[LightGBM] [Info] Start training from score -1.098612\n",
      "[LightGBM] [Info] Start training from score -1.098612\n",
      "[LightGBM] [Warning] No further splits with positive gain, best gain: -inf\n"
     ]
    },
    {
     "name": "stdout",
     "output_type": "stream",
     "text": [
      "[LightGBM] [Warning] Found whitespace in feature_names, replace with underlines\n",
      "[LightGBM] [Info] Auto-choosing col-wise multi-threading, the overhead of testing was 0.001158 seconds.\n",
      "You can set `force_col_wise=true` to remove the overhead.\n",
      "[LightGBM] [Info] Total Bins 1254\n",
      "[LightGBM] [Info] Number of data points in the train set: 3477, number of used features: 21\n",
      "[LightGBM] [Info] Start training from score -1.098612\n",
      "[LightGBM] [Info] Start training from score -1.098612\n",
      "[LightGBM] [Info] Start training from score -1.098612\n",
      "[LightGBM] [Warning] No further splits with positive gain, best gain: -inf\n"
     ]
    },
    {
     "name": "stdout",
     "output_type": "stream",
     "text": [
      "[LightGBM] [Warning] Found whitespace in feature_names, replace with underlines\n",
      "[LightGBM] [Info] Auto-choosing col-wise multi-threading, the overhead of testing was 0.001173 seconds.\n",
      "You can set `force_col_wise=true` to remove the overhead.\n",
      "[LightGBM] [Info] Total Bins 1254\n",
      "[LightGBM] [Info] Number of data points in the train set: 3477, number of used features: 21\n",
      "[LightGBM] [Info] Start training from score -1.098612\n",
      "[LightGBM] [Info] Start training from score -1.098612\n",
      "[LightGBM] [Info] Start training from score -1.098612\n",
      "[LightGBM] [Warning] No further splits with positive gain, best gain: -inf\n"
     ]
    },
    {
     "name": "stdout",
     "output_type": "stream",
     "text": [
      "[LightGBM] [Warning] Found whitespace in feature_names, replace with underlines\n",
      "[LightGBM] [Info] Auto-choosing row-wise multi-threading, the overhead of testing was 0.000386 seconds.\n",
      "You can set `force_row_wise=true` to remove the overhead.\n",
      "And if memory is not enough, you can set `force_col_wise=true`.\n",
      "[LightGBM] [Info] Total Bins 1254\n",
      "[LightGBM] [Info] Number of data points in the train set: 3477, number of used features: 21\n",
      "[LightGBM] [Info] Start training from score -1.098612\n",
      "[LightGBM] [Info] Start training from score -1.098612\n",
      "[LightGBM] [Info] Start training from score -1.098612\n",
      "[LightGBM] [Warning] No further splits with positive gain, best gain: -inf\n"
     ]
    },
    {
     "name": "stdout",
     "output_type": "stream",
     "text": [
      "[LightGBM] [Warning] Found whitespace in feature_names, replace with underlines\n",
      "[LightGBM] [Info] Auto-choosing col-wise multi-threading, the overhead of testing was 0.000697 seconds.\n",
      "You can set `force_col_wise=true` to remove the overhead.\n",
      "[LightGBM] [Info] Total Bins 1254\n",
      "[LightGBM] [Info] Number of data points in the train set: 3477, number of used features: 21\n",
      "[LightGBM] [Info] Start training from score -1.098612\n",
      "[LightGBM] [Info] Start training from score -1.098612\n",
      "[LightGBM] [Info] Start training from score -1.098612\n",
      "[LightGBM] [Warning] No further splits with positive gain, best gain: -inf\n"
     ]
    },
    {
     "name": "stdout",
     "output_type": "stream",
     "text": [
      "[LightGBM] [Warning] Found whitespace in feature_names, replace with underlines\n",
      "[LightGBM] [Info] Auto-choosing row-wise multi-threading, the overhead of testing was 0.000401 seconds.\n",
      "You can set `force_row_wise=true` to remove the overhead.\n",
      "And if memory is not enough, you can set `force_col_wise=true`.\n",
      "[LightGBM] [Info] Total Bins 1254\n",
      "[LightGBM] [Info] Number of data points in the train set: 3477, number of used features: 21\n",
      "[LightGBM] [Info] Start training from score -1.098612\n",
      "[LightGBM] [Info] Start training from score -1.098612\n",
      "[LightGBM] [Info] Start training from score -1.098612\n",
      "[LightGBM] [Warning] No further splits with positive gain, best gain: -inf\n"
     ]
    },
    {
     "name": "stdout",
     "output_type": "stream",
     "text": [
      "[LightGBM] [Warning] Found whitespace in feature_names, replace with underlines\n",
      "[LightGBM] [Info] Auto-choosing col-wise multi-threading, the overhead of testing was 0.000764 seconds.\n",
      "You can set `force_col_wise=true` to remove the overhead.\n",
      "[LightGBM] [Info] Total Bins 1254\n",
      "[LightGBM] [Info] Number of data points in the train set: 3477, number of used features: 21\n",
      "[LightGBM] [Info] Start training from score -1.098612\n",
      "[LightGBM] [Info] Start training from score -1.098612\n",
      "[LightGBM] [Info] Start training from score -1.098612\n",
      "[LightGBM] [Warning] No further splits with positive gain, best gain: -inf\n"
     ]
    },
    {
     "name": "stdout",
     "output_type": "stream",
     "text": [
      "[LightGBM] [Warning] Found whitespace in feature_names, replace with underlines\n",
      "[LightGBM] [Info] Auto-choosing col-wise multi-threading, the overhead of testing was 0.001107 seconds.\n",
      "You can set `force_col_wise=true` to remove the overhead.\n",
      "[LightGBM] [Info] Total Bins 1254\n",
      "[LightGBM] [Info] Number of data points in the train set: 3477, number of used features: 21\n",
      "[LightGBM] [Info] Start training from score -1.098612\n",
      "[LightGBM] [Info] Start training from score -1.098612\n",
      "[LightGBM] [Info] Start training from score -1.098612\n",
      "[LightGBM] [Warning] No further splits with positive gain, best gain: -inf\n"
     ]
    },
    {
     "name": "stdout",
     "output_type": "stream",
     "text": [
      "[LightGBM] [Warning] Found whitespace in feature_names, replace with underlines\n",
      "[LightGBM] [Info] Auto-choosing col-wise multi-threading, the overhead of testing was 0.001129 seconds.\n",
      "You can set `force_col_wise=true` to remove the overhead.\n",
      "[LightGBM] [Info] Total Bins 1254\n",
      "[LightGBM] [Info] Number of data points in the train set: 3477, number of used features: 21\n",
      "[LightGBM] [Info] Start training from score -1.098612\n",
      "[LightGBM] [Info] Start training from score -1.098612\n",
      "[LightGBM] [Info] Start training from score -1.098612\n",
      "[LightGBM] [Warning] No further splits with positive gain, best gain: -inf\n"
     ]
    },
    {
     "name": "stdout",
     "output_type": "stream",
     "text": [
      "[LightGBM] [Warning] Found whitespace in feature_names, replace with underlines\n",
      "[LightGBM] [Info] Auto-choosing row-wise multi-threading, the overhead of testing was 0.000408 seconds.\n",
      "You can set `force_row_wise=true` to remove the overhead.\n",
      "And if memory is not enough, you can set `force_col_wise=true`.\n",
      "[LightGBM] [Info] Total Bins 1254\n",
      "[LightGBM] [Info] Number of data points in the train set: 3477, number of used features: 21\n",
      "[LightGBM] [Info] Start training from score -1.098612\n",
      "[LightGBM] [Info] Start training from score -1.098612\n",
      "[LightGBM] [Info] Start training from score -1.098612\n",
      "[LightGBM] [Warning] No further splits with positive gain, best gain: -inf\n"
     ]
    },
    {
     "name": "stdout",
     "output_type": "stream",
     "text": [
      "[LightGBM] [Warning] Found whitespace in feature_names, replace with underlines\n",
      "[LightGBM] [Info] Auto-choosing row-wise multi-threading, the overhead of testing was 0.000390 seconds.\n",
      "You can set `force_row_wise=true` to remove the overhead.\n",
      "And if memory is not enough, you can set `force_col_wise=true`.\n",
      "[LightGBM] [Info] Total Bins 1254\n",
      "[LightGBM] [Info] Number of data points in the train set: 3477, number of used features: 21\n",
      "[LightGBM] [Info] Start training from score -1.098612\n",
      "[LightGBM] [Info] Start training from score -1.098612\n",
      "[LightGBM] [Info] Start training from score -1.098612\n",
      "[LightGBM] [Warning] No further splits with positive gain, best gain: -inf\n"
     ]
    },
    {
     "name": "stdout",
     "output_type": "stream",
     "text": [
      "[LightGBM] [Warning] Found whitespace in feature_names, replace with underlines\n",
      "[LightGBM] [Info] Auto-choosing row-wise multi-threading, the overhead of testing was 0.000397 seconds.\n",
      "You can set `force_row_wise=true` to remove the overhead.\n",
      "And if memory is not enough, you can set `force_col_wise=true`.\n",
      "[LightGBM] [Info] Total Bins 1254\n",
      "[LightGBM] [Info] Number of data points in the train set: 3477, number of used features: 21\n",
      "[LightGBM] [Info] Start training from score -1.098612\n",
      "[LightGBM] [Info] Start training from score -1.098612\n",
      "[LightGBM] [Info] Start training from score -1.098612\n",
      "[LightGBM] [Warning] No further splits with positive gain, best gain: -inf\n"
     ]
    },
    {
     "name": "stdout",
     "output_type": "stream",
     "text": [
      "[LightGBM] [Warning] Found whitespace in feature_names, replace with underlines\n",
      "[LightGBM] [Info] Auto-choosing col-wise multi-threading, the overhead of testing was 0.000822 seconds.\n",
      "You can set `force_col_wise=true` to remove the overhead.\n",
      "[LightGBM] [Info] Total Bins 1254\n",
      "[LightGBM] [Info] Number of data points in the train set: 3477, number of used features: 21\n",
      "[LightGBM] [Info] Start training from score -1.098612\n",
      "[LightGBM] [Info] Start training from score -1.098612\n",
      "[LightGBM] [Info] Start training from score -1.098612\n",
      "[LightGBM] [Warning] No further splits with positive gain, best gain: -inf\n"
     ]
    },
    {
     "name": "stdout",
     "output_type": "stream",
     "text": [
      "[LightGBM] [Warning] Found whitespace in feature_names, replace with underlines\n",
      "[LightGBM] [Info] Auto-choosing row-wise multi-threading, the overhead of testing was 0.000434 seconds.\n",
      "You can set `force_row_wise=true` to remove the overhead.\n",
      "And if memory is not enough, you can set `force_col_wise=true`.\n",
      "[LightGBM] [Info] Total Bins 1254\n",
      "[LightGBM] [Info] Number of data points in the train set: 3477, number of used features: 21\n",
      "[LightGBM] [Info] Start training from score -1.098612\n",
      "[LightGBM] [Info] Start training from score -1.098612\n",
      "[LightGBM] [Info] Start training from score -1.098612\n",
      "[LightGBM] [Warning] No further splits with positive gain, best gain: -inf\n"
     ]
    },
    {
     "name": "stdout",
     "output_type": "stream",
     "text": [
      "[LightGBM] [Warning] Found whitespace in feature_names, replace with underlines\n",
      "[LightGBM] [Info] Auto-choosing col-wise multi-threading, the overhead of testing was 0.001181 seconds.\n",
      "You can set `force_col_wise=true` to remove the overhead.\n",
      "[LightGBM] [Info] Total Bins 1254\n",
      "[LightGBM] [Info] Number of data points in the train set: 3477, number of used features: 21\n",
      "[LightGBM] [Info] Start training from score -1.098612\n",
      "[LightGBM] [Info] Start training from score -1.098612\n",
      "[LightGBM] [Info] Start training from score -1.098612\n",
      "[LightGBM] [Warning] No further splits with positive gain, best gain: -inf\n"
     ]
    },
    {
     "name": "stdout",
     "output_type": "stream",
     "text": [
      "[LightGBM] [Warning] Found whitespace in feature_names, replace with underlines\n",
      "[LightGBM] [Info] Auto-choosing row-wise multi-threading, the overhead of testing was 0.000355 seconds.\n",
      "You can set `force_row_wise=true` to remove the overhead.\n",
      "And if memory is not enough, you can set `force_col_wise=true`.\n",
      "[LightGBM] [Info] Total Bins 1254\n",
      "[LightGBM] [Info] Number of data points in the train set: 3477, number of used features: 21\n",
      "[LightGBM] [Info] Start training from score -1.098612\n",
      "[LightGBM] [Info] Start training from score -1.098612\n",
      "[LightGBM] [Info] Start training from score -1.098612\n",
      "[LightGBM] [Warning] No further splits with positive gain, best gain: -inf\n"
     ]
    },
    {
     "name": "stdout",
     "output_type": "stream",
     "text": [
      "[LightGBM] [Warning] Found whitespace in feature_names, replace with underlines\n",
      "[LightGBM] [Info] Auto-choosing col-wise multi-threading, the overhead of testing was 0.001166 seconds.\n",
      "You can set `force_col_wise=true` to remove the overhead.\n",
      "[LightGBM] [Info] Total Bins 1254\n",
      "[LightGBM] [Info] Number of data points in the train set: 3477, number of used features: 21\n",
      "[LightGBM] [Info] Start training from score -1.098612\n",
      "[LightGBM] [Info] Start training from score -1.098612\n",
      "[LightGBM] [Info] Start training from score -1.098612\n",
      "[LightGBM] [Warning] No further splits with positive gain, best gain: -inf\n"
     ]
    },
    {
     "name": "stdout",
     "output_type": "stream",
     "text": [
      "[LightGBM] [Warning] Found whitespace in feature_names, replace with underlines\n",
      "[LightGBM] [Info] Auto-choosing col-wise multi-threading, the overhead of testing was 0.001024 seconds.\n",
      "You can set `force_col_wise=true` to remove the overhead.\n",
      "[LightGBM] [Info] Total Bins 1254\n",
      "[LightGBM] [Info] Number of data points in the train set: 3477, number of used features: 21\n",
      "[LightGBM] [Info] Start training from score -1.098612\n",
      "[LightGBM] [Info] Start training from score -1.098612\n",
      "[LightGBM] [Info] Start training from score -1.098612\n",
      "[LightGBM] [Warning] No further splits with positive gain, best gain: -inf\n"
     ]
    },
    {
     "name": "stdout",
     "output_type": "stream",
     "text": [
      "[LightGBM] [Warning] Found whitespace in feature_names, replace with underlines\n",
      "[LightGBM] [Info] Auto-choosing row-wise multi-threading, the overhead of testing was 0.000377 seconds.\n",
      "You can set `force_row_wise=true` to remove the overhead.\n",
      "And if memory is not enough, you can set `force_col_wise=true`.\n",
      "[LightGBM] [Info] Total Bins 1254\n",
      "[LightGBM] [Info] Number of data points in the train set: 3477, number of used features: 21\n",
      "[LightGBM] [Info] Start training from score -1.098612\n",
      "[LightGBM] [Info] Start training from score -1.098612\n",
      "[LightGBM] [Info] Start training from score -1.098612\n",
      "[LightGBM] [Warning] No further splits with positive gain, best gain: -inf\n"
     ]
    },
    {
     "name": "stdout",
     "output_type": "stream",
     "text": [
      "495 ms ± 26.8 ms per loop (mean ± std. dev. of 5 runs, 5 loops each)\n",
      "[LightGBM] [Warning] Found whitespace in feature_names, replace with underlines\n",
      "[LightGBM] [Info] Auto-choosing row-wise multi-threading, the overhead of testing was 0.000383 seconds.\n",
      "You can set `force_row_wise=true` to remove the overhead.\n",
      "And if memory is not enough, you can set `force_col_wise=true`.\n",
      "[LightGBM] [Info] Total Bins 1254\n",
      "[LightGBM] [Info] Number of data points in the train set: 3477, number of used features: 21\n",
      "[LightGBM] [Info] Start training from score -1.098612\n",
      "[LightGBM] [Info] Start training from score -1.098612\n",
      "[LightGBM] [Info] Start training from score -1.098612\n",
      "[LightGBM] [Warning] No further splits with positive gain, best gain: -inf\n"
     ]
    },
    {
     "name": "stdout",
     "output_type": "stream",
     "text": [
      "Accuracy : 0.9561128526645768\n",
      "F1 : 0.9555792458398668\n",
      "Recall : 0.9561128526645768\n",
      "Precision : 0.9554740609172917\n",
      "Jaccard : 0.9172395981761186\n",
      "Kappa : 0.8783404614672151\n"
     ]
    }
   ],
   "source": [
    "lgbm = LGBMClassifier()\n",
    "result = %timeit -o -n 5 -r 5 lgbm.fit(X_train, y_train)\n",
    "lgbm.fit(X_train, y_train)\n",
    "measures = performance_measures(\"LightGBM\",lgbm, X_test, y_test, performanceMeasuresDF)\n",
    "performanceMeasuresDF.loc[len(performanceMeasuresDF)] = measures\n",
    "exec_time += result.average"
   ]
  },
  {
   "cell_type": "code",
   "execution_count": 22,
   "id": "10bb2929",
   "metadata": {
    "execution": {
     "iopub.execute_input": "2024-07-14T06:27:30.693508Z",
     "iopub.status.busy": "2024-07-14T06:27:30.693508Z",
     "iopub.status.idle": "2024-07-14T06:27:30.707905Z",
     "shell.execute_reply": "2024-07-14T06:27:30.706218Z"
    },
    "papermill": {
     "duration": 0.034668,
     "end_time": "2024-07-14T06:27:30.710714",
     "exception": false,
     "start_time": "2024-07-14T06:27:30.676046",
     "status": "completed"
    },
    "tags": []
   },
   "outputs": [],
   "source": [
    "performanceMeasuresDF[\"Weighted_Score\"] = performanceMeasuresDF[\"Accuracy\"] + performanceMeasuresDF[\"F1-Score\"] + performanceMeasuresDF[\"Recall\"] + performanceMeasuresDF[\"Precision\"] + performanceMeasuresDF[\"Jaccard-Score\"] + performanceMeasuresDF[\"Kappa-Score\"]"
   ]
  },
  {
   "cell_type": "code",
   "execution_count": 23,
   "id": "0955f8c2",
   "metadata": {
    "execution": {
     "iopub.execute_input": "2024-07-14T06:27:30.745264Z",
     "iopub.status.busy": "2024-07-14T06:27:30.745264Z",
     "iopub.status.idle": "2024-07-14T06:27:30.754706Z",
     "shell.execute_reply": "2024-07-14T06:27:30.754706Z"
    },
    "papermill": {
     "duration": 0.033288,
     "end_time": "2024-07-14T06:27:30.756395",
     "exception": false,
     "start_time": "2024-07-14T06:27:30.723107",
     "status": "completed"
    },
    "tags": []
   },
   "outputs": [],
   "source": [
    "performanceTable = performanceMeasuresDF.sort_values(by = \"Weighted_Score\",ascending= False)"
   ]
  },
  {
   "cell_type": "code",
   "execution_count": 24,
   "id": "f1732bf4",
   "metadata": {
    "execution": {
     "iopub.execute_input": "2024-07-14T06:27:30.792597Z",
     "iopub.status.busy": "2024-07-14T06:27:30.792597Z",
     "iopub.status.idle": "2024-07-14T06:27:31.248578Z",
     "shell.execute_reply": "2024-07-14T06:27:31.248365Z"
    },
    "papermill": {
     "duration": 0.482766,
     "end_time": "2024-07-14T06:27:31.252357",
     "exception": false,
     "start_time": "2024-07-14T06:27:30.769591",
     "status": "completed"
    },
    "tags": []
   },
   "outputs": [],
   "source": [
    "performanceTable.to_excel(\"scripts/new_results/\"+ scaler_name + '.xlsx', index = False)"
   ]
  },
  {
   "cell_type": "code",
   "execution_count": 25,
   "id": "1bc0df88",
   "metadata": {
    "execution": {
     "iopub.execute_input": "2024-07-14T06:27:31.278105Z",
     "iopub.status.busy": "2024-07-14T06:27:31.278105Z",
     "iopub.status.idle": "2024-07-14T06:27:31.297870Z",
     "shell.execute_reply": "2024-07-14T06:27:31.297361Z"
    },
    "papermill": {
     "duration": 0.04712,
     "end_time": "2024-07-14T06:27:31.302186",
     "exception": false,
     "start_time": "2024-07-14T06:27:31.255066",
     "status": "completed"
    },
    "tags": []
   },
   "outputs": [],
   "source": [
    "with open(r\"scripts/new_results/\" + scaler_name + r\" Timings.txt\", \"+a\") as file:\n",
    "    file.write(str(exec_time) + \"\\n\")"
   ]
  }
 ],
 "metadata": {
  "kernelspec": {
   "display_name": "Python 3 (ipykernel)",
   "language": "python",
   "name": "python3"
  },
  "language_info": {
   "codemirror_mode": {
    "name": "ipython",
    "version": 3
   },
   "file_extension": ".py",
   "mimetype": "text/x-python",
   "name": "python",
   "nbconvert_exporter": "python",
   "pygments_lexer": "ipython3",
   "version": "3.11.9"
  },
  "papermill": {
   "default_parameters": {},
   "duration": 142.660077,
   "end_time": "2024-07-14T06:27:32.020107",
   "environment_variables": {},
   "exception": null,
   "input_path": "scripts/quantile_transformer.ipynb",
   "output_path": "scripts/out/quantile_transformer.ipynb",
   "parameters": {},
   "start_time": "2024-07-14T06:25:09.360030",
   "version": "2.6.0"
  }
 },
 "nbformat": 4,
 "nbformat_minor": 5
}