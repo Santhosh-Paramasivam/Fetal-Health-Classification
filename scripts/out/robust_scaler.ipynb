{
 "cells": [
  {
   "cell_type": "code",
   "execution_count": 1,
   "id": "9d3a7d39",
   "metadata": {
    "execution": {
     "iopub.execute_input": "2024-07-14T06:17:30.408390Z",
     "iopub.status.busy": "2024-07-14T06:17:30.404606Z",
     "iopub.status.idle": "2024-07-14T06:17:32.979486Z",
     "shell.execute_reply": "2024-07-14T06:17:32.979486Z"
    },
    "papermill": {
     "duration": 2.596911,
     "end_time": "2024-07-14T06:17:32.983231",
     "exception": false,
     "start_time": "2024-07-14T06:17:30.386320",
     "status": "completed"
    },
    "tags": []
   },
   "outputs": [],
   "source": [
    "import numpy as np\n",
    "import pandas as pd\n",
    "import seaborn as sns\n",
    "import matplotlib.pyplot as plt\n",
    "from sklearn import preprocessing\n",
    "from sklearn.model_selection import train_test_split\n",
    "from performance_measures import performance_measures\n",
    "import timeit\n",
    "from imblearn.over_sampling import RandomOverSampler"
   ]
  },
  {
   "cell_type": "code",
   "execution_count": 2,
   "id": "884f688b",
   "metadata": {
    "execution": {
     "iopub.execute_input": "2024-07-14T06:17:32.999167Z",
     "iopub.status.busy": "2024-07-14T06:17:32.999167Z",
     "iopub.status.idle": "2024-07-14T06:17:33.083733Z",
     "shell.execute_reply": "2024-07-14T06:17:33.083215Z"
    },
    "papermill": {
     "duration": 0.100912,
     "end_time": "2024-07-14T06:17:33.086935",
     "exception": false,
     "start_time": "2024-07-14T06:17:32.986023",
     "status": "completed"
    },
    "tags": []
   },
   "outputs": [],
   "source": [
    "from sklearn.linear_model import LogisticRegression\n",
    "from sklearn.svm import SVC \n",
    "from sklearn.neighbors import KNeighborsClassifier\n",
    "from sklearn.naive_bayes import GaussianNB \n",
    "from sklearn.tree import DecisionTreeClassifier\n",
    "from sklearn.ensemble import RandomForestClassifier\n",
    "from sklearn.ensemble import AdaBoostClassifier\n",
    "from sklearn.ensemble import GradientBoostingClassifier \n",
    "from xgboost import XGBClassifier\n",
    "from lightgbm import LGBMClassifier"
   ]
  },
  {
   "cell_type": "code",
   "execution_count": 3,
   "id": "2f521de1",
   "metadata": {
    "execution": {
     "iopub.execute_input": "2024-07-14T06:17:33.102735Z",
     "iopub.status.busy": "2024-07-14T06:17:33.101571Z",
     "iopub.status.idle": "2024-07-14T06:17:33.122382Z",
     "shell.execute_reply": "2024-07-14T06:17:33.121681Z"
    },
    "papermill": {
     "duration": 0.030431,
     "end_time": "2024-07-14T06:17:33.123922",
     "exception": false,
     "start_time": "2024-07-14T06:17:33.093491",
     "status": "completed"
    },
    "tags": []
   },
   "outputs": [],
   "source": [
    "FetalHealth = pd.read_csv(r\"source\\fetal_health.csv\")"
   ]
  },
  {
   "cell_type": "markdown",
   "id": "faa61b76",
   "metadata": {
    "papermill": {
     "duration": 0.010916,
     "end_time": "2024-07-14T06:17:33.146166",
     "exception": false,
     "start_time": "2024-07-14T06:17:33.135250",
     "status": "completed"
    },
    "tags": []
   },
   "source": [
    "Analysis consists of :\n",
    "\n",
    "1. Count plot\n",
    "2. Correlation heat map"
   ]
  },
  {
   "cell_type": "markdown",
   "id": "63852fec",
   "metadata": {
    "papermill": {
     "duration": 0.010137,
     "end_time": "2024-07-14T06:17:33.162576",
     "exception": false,
     "start_time": "2024-07-14T06:17:33.152439",
     "status": "completed"
    },
    "tags": []
   },
   "source": [
    "Data Preprocessing :\n",
    "\n",
    "1. Scaling\n",
    "2. X,y and test, train division"
   ]
  },
  {
   "cell_type": "code",
   "execution_count": 4,
   "id": "b6c6ce74",
   "metadata": {
    "execution": {
     "iopub.execute_input": "2024-07-14T06:17:33.182587Z",
     "iopub.status.busy": "2024-07-14T06:17:33.182587Z",
     "iopub.status.idle": "2024-07-14T06:17:33.193857Z",
     "shell.execute_reply": "2024-07-14T06:17:33.192244Z"
    },
    "papermill": {
     "duration": 0.019069,
     "end_time": "2024-07-14T06:17:33.196490",
     "exception": false,
     "start_time": "2024-07-14T06:17:33.177421",
     "status": "completed"
    },
    "tags": []
   },
   "outputs": [],
   "source": [
    "X = FetalHealth.drop(['fetal_health'], axis = 1)\n",
    "y = FetalHealth['fetal_health']"
   ]
  },
  {
   "cell_type": "code",
   "execution_count": 5,
   "id": "379f6173",
   "metadata": {
    "execution": {
     "iopub.execute_input": "2024-07-14T06:17:33.211623Z",
     "iopub.status.busy": "2024-07-14T06:17:33.211623Z",
     "iopub.status.idle": "2024-07-14T06:17:33.315684Z",
     "shell.execute_reply": "2024-07-14T06:17:33.315684Z"
    },
    "papermill": {
     "duration": 0.120645,
     "end_time": "2024-07-14T06:17:33.319651",
     "exception": false,
     "start_time": "2024-07-14T06:17:33.199006",
     "status": "completed"
    },
    "tags": []
   },
   "outputs": [
    {
     "data": {
      "text/html": [
       "<div>\n",
       "<style scoped>\n",
       "    .dataframe tbody tr th:only-of-type {\n",
       "        vertical-align: middle;\n",
       "    }\n",
       "\n",
       "    .dataframe tbody tr th {\n",
       "        vertical-align: top;\n",
       "    }\n",
       "\n",
       "    .dataframe thead th {\n",
       "        text-align: right;\n",
       "    }\n",
       "</style>\n",
       "<table border=\"1\" class=\"dataframe\">\n",
       "  <thead>\n",
       "    <tr style=\"text-align: right;\">\n",
       "      <th></th>\n",
       "      <th>count</th>\n",
       "      <th>mean</th>\n",
       "      <th>std</th>\n",
       "      <th>min</th>\n",
       "      <th>25%</th>\n",
       "      <th>50%</th>\n",
       "      <th>75%</th>\n",
       "      <th>max</th>\n",
       "    </tr>\n",
       "  </thead>\n",
       "  <tbody>\n",
       "    <tr>\n",
       "      <th>baseline value</th>\n",
       "      <td>2126.0</td>\n",
       "      <td>0.021704</td>\n",
       "      <td>0.702917</td>\n",
       "      <td>-1.928571</td>\n",
       "      <td>-0.500000</td>\n",
       "      <td>0.0</td>\n",
       "      <td>0.500000</td>\n",
       "      <td>1.928571</td>\n",
       "    </tr>\n",
       "    <tr>\n",
       "      <th>accelerations</th>\n",
       "      <td>2126.0</td>\n",
       "      <td>0.196378</td>\n",
       "      <td>0.644265</td>\n",
       "      <td>-0.333333</td>\n",
       "      <td>-0.333333</td>\n",
       "      <td>0.0</td>\n",
       "      <td>0.666667</td>\n",
       "      <td>2.833333</td>\n",
       "    </tr>\n",
       "    <tr>\n",
       "      <th>fetal_movement</th>\n",
       "      <td>2126.0</td>\n",
       "      <td>3.160238</td>\n",
       "      <td>15.555281</td>\n",
       "      <td>0.000000</td>\n",
       "      <td>0.000000</td>\n",
       "      <td>0.0</td>\n",
       "      <td>1.000000</td>\n",
       "      <td>160.333333</td>\n",
       "    </tr>\n",
       "    <tr>\n",
       "      <th>uterine_contractions</th>\n",
       "      <td>2126.0</td>\n",
       "      <td>0.073283</td>\n",
       "      <td>0.589214</td>\n",
       "      <td>-0.800000</td>\n",
       "      <td>-0.400000</td>\n",
       "      <td>0.0</td>\n",
       "      <td>0.600000</td>\n",
       "      <td>2.200000</td>\n",
       "    </tr>\n",
       "    <tr>\n",
       "      <th>light_decelerations</th>\n",
       "      <td>2126.0</td>\n",
       "      <td>0.629821</td>\n",
       "      <td>0.986736</td>\n",
       "      <td>0.000000</td>\n",
       "      <td>0.000000</td>\n",
       "      <td>0.0</td>\n",
       "      <td>1.000000</td>\n",
       "      <td>5.000000</td>\n",
       "    </tr>\n",
       "    <tr>\n",
       "      <th>severe_decelerations</th>\n",
       "      <td>2126.0</td>\n",
       "      <td>0.000003</td>\n",
       "      <td>0.000057</td>\n",
       "      <td>0.000000</td>\n",
       "      <td>0.000000</td>\n",
       "      <td>0.0</td>\n",
       "      <td>0.000000</td>\n",
       "      <td>0.001000</td>\n",
       "    </tr>\n",
       "    <tr>\n",
       "      <th>prolongued_decelerations</th>\n",
       "      <td>2126.0</td>\n",
       "      <td>0.000159</td>\n",
       "      <td>0.000590</td>\n",
       "      <td>0.000000</td>\n",
       "      <td>0.000000</td>\n",
       "      <td>0.0</td>\n",
       "      <td>0.000000</td>\n",
       "      <td>0.005000</td>\n",
       "    </tr>\n",
       "    <tr>\n",
       "      <th>abnormal_short_term_variability</th>\n",
       "      <td>2126.0</td>\n",
       "      <td>-0.069306</td>\n",
       "      <td>0.592856</td>\n",
       "      <td>-1.275862</td>\n",
       "      <td>-0.586207</td>\n",
       "      <td>0.0</td>\n",
       "      <td>0.413793</td>\n",
       "      <td>1.310345</td>\n",
       "    </tr>\n",
       "    <tr>\n",
       "      <th>mean_value_of_short_term_variability</th>\n",
       "      <td>2126.0</td>\n",
       "      <td>0.132785</td>\n",
       "      <td>0.883241</td>\n",
       "      <td>-1.000000</td>\n",
       "      <td>-0.500000</td>\n",
       "      <td>0.0</td>\n",
       "      <td>0.500000</td>\n",
       "      <td>5.800000</td>\n",
       "    </tr>\n",
       "    <tr>\n",
       "      <th>percentage_of_time_with_abnormal_long_term_variability</th>\n",
       "      <td>2126.0</td>\n",
       "      <td>0.895151</td>\n",
       "      <td>1.672444</td>\n",
       "      <td>0.000000</td>\n",
       "      <td>0.000000</td>\n",
       "      <td>0.0</td>\n",
       "      <td>1.000000</td>\n",
       "      <td>8.272727</td>\n",
       "    </tr>\n",
       "    <tr>\n",
       "      <th>mean_value_of_long_term_variability</th>\n",
       "      <td>2126.0</td>\n",
       "      <td>0.127037</td>\n",
       "      <td>0.907782</td>\n",
       "      <td>-1.193548</td>\n",
       "      <td>-0.451613</td>\n",
       "      <td>0.0</td>\n",
       "      <td>0.548387</td>\n",
       "      <td>6.983871</td>\n",
       "    </tr>\n",
       "    <tr>\n",
       "      <th>histogram_width</th>\n",
       "      <td>2126.0</td>\n",
       "      <td>0.046760</td>\n",
       "      <td>0.618344</td>\n",
       "      <td>-1.023810</td>\n",
       "      <td>-0.484127</td>\n",
       "      <td>0.0</td>\n",
       "      <td>0.515873</td>\n",
       "      <td>1.785714</td>\n",
       "    </tr>\n",
       "    <tr>\n",
       "      <th>histogram_min</th>\n",
       "      <td>2126.0</td>\n",
       "      <td>0.010934</td>\n",
       "      <td>0.557740</td>\n",
       "      <td>-0.811321</td>\n",
       "      <td>-0.490566</td>\n",
       "      <td>0.0</td>\n",
       "      <td>0.509434</td>\n",
       "      <td>1.245283</td>\n",
       "    </tr>\n",
       "    <tr>\n",
       "      <th>histogram_max</th>\n",
       "      <td>2126.0</td>\n",
       "      <td>0.092064</td>\n",
       "      <td>0.815645</td>\n",
       "      <td>-1.818182</td>\n",
       "      <td>-0.454545</td>\n",
       "      <td>0.0</td>\n",
       "      <td>0.545455</td>\n",
       "      <td>3.454545</td>\n",
       "    </tr>\n",
       "    <tr>\n",
       "      <th>histogram_number_of_peaks</th>\n",
       "      <td>2126.0</td>\n",
       "      <td>0.267051</td>\n",
       "      <td>0.737346</td>\n",
       "      <td>-0.750000</td>\n",
       "      <td>-0.250000</td>\n",
       "      <td>0.0</td>\n",
       "      <td>0.750000</td>\n",
       "      <td>3.750000</td>\n",
       "    </tr>\n",
       "    <tr>\n",
       "      <th>histogram_number_of_zeroes</th>\n",
       "      <td>2126.0</td>\n",
       "      <td>0.323612</td>\n",
       "      <td>0.706059</td>\n",
       "      <td>0.000000</td>\n",
       "      <td>0.000000</td>\n",
       "      <td>0.0</td>\n",
       "      <td>0.000000</td>\n",
       "      <td>10.000000</td>\n",
       "    </tr>\n",
       "    <tr>\n",
       "      <th>histogram_mode</th>\n",
       "      <td>2126.0</td>\n",
       "      <td>-0.081472</td>\n",
       "      <td>0.862173</td>\n",
       "      <td>-4.157895</td>\n",
       "      <td>-0.526316</td>\n",
       "      <td>0.0</td>\n",
       "      <td>0.473684</td>\n",
       "      <td>2.526316</td>\n",
       "    </tr>\n",
       "    <tr>\n",
       "      <th>histogram_mean</th>\n",
       "      <td>2126.0</td>\n",
       "      <td>-0.069473</td>\n",
       "      <td>0.779680</td>\n",
       "      <td>-3.150000</td>\n",
       "      <td>-0.550000</td>\n",
       "      <td>0.0</td>\n",
       "      <td>0.450000</td>\n",
       "      <td>2.300000</td>\n",
       "    </tr>\n",
       "    <tr>\n",
       "      <th>histogram_median</th>\n",
       "      <td>2126.0</td>\n",
       "      <td>-0.047878</td>\n",
       "      <td>0.761399</td>\n",
       "      <td>-3.263158</td>\n",
       "      <td>-0.526316</td>\n",
       "      <td>0.0</td>\n",
       "      <td>0.473684</td>\n",
       "      <td>2.473684</td>\n",
       "    </tr>\n",
       "    <tr>\n",
       "      <th>histogram_variance</th>\n",
       "      <td>2126.0</td>\n",
       "      <td>0.536731</td>\n",
       "      <td>1.317165</td>\n",
       "      <td>-0.318182</td>\n",
       "      <td>-0.227273</td>\n",
       "      <td>0.0</td>\n",
       "      <td>0.772727</td>\n",
       "      <td>11.909091</td>\n",
       "    </tr>\n",
       "    <tr>\n",
       "      <th>histogram_tendency</th>\n",
       "      <td>2126.0</td>\n",
       "      <td>0.320320</td>\n",
       "      <td>0.610829</td>\n",
       "      <td>-1.000000</td>\n",
       "      <td>0.000000</td>\n",
       "      <td>0.0</td>\n",
       "      <td>1.000000</td>\n",
       "      <td>1.000000</td>\n",
       "    </tr>\n",
       "  </tbody>\n",
       "</table>\n",
       "</div>"
      ],
      "text/plain": [
       "                                                     count      mean  \\\n",
       "baseline value                                      2126.0  0.021704   \n",
       "accelerations                                       2126.0  0.196378   \n",
       "fetal_movement                                      2126.0  3.160238   \n",
       "uterine_contractions                                2126.0  0.073283   \n",
       "light_decelerations                                 2126.0  0.629821   \n",
       "severe_decelerations                                2126.0  0.000003   \n",
       "prolongued_decelerations                            2126.0  0.000159   \n",
       "abnormal_short_term_variability                     2126.0 -0.069306   \n",
       "mean_value_of_short_term_variability                2126.0  0.132785   \n",
       "percentage_of_time_with_abnormal_long_term_vari...  2126.0  0.895151   \n",
       "mean_value_of_long_term_variability                 2126.0  0.127037   \n",
       "histogram_width                                     2126.0  0.046760   \n",
       "histogram_min                                       2126.0  0.010934   \n",
       "histogram_max                                       2126.0  0.092064   \n",
       "histogram_number_of_peaks                           2126.0  0.267051   \n",
       "histogram_number_of_zeroes                          2126.0  0.323612   \n",
       "histogram_mode                                      2126.0 -0.081472   \n",
       "histogram_mean                                      2126.0 -0.069473   \n",
       "histogram_median                                    2126.0 -0.047878   \n",
       "histogram_variance                                  2126.0  0.536731   \n",
       "histogram_tendency                                  2126.0  0.320320   \n",
       "\n",
       "                                                          std       min  \\\n",
       "baseline value                                       0.702917 -1.928571   \n",
       "accelerations                                        0.644265 -0.333333   \n",
       "fetal_movement                                      15.555281  0.000000   \n",
       "uterine_contractions                                 0.589214 -0.800000   \n",
       "light_decelerations                                  0.986736  0.000000   \n",
       "severe_decelerations                                 0.000057  0.000000   \n",
       "prolongued_decelerations                             0.000590  0.000000   \n",
       "abnormal_short_term_variability                      0.592856 -1.275862   \n",
       "mean_value_of_short_term_variability                 0.883241 -1.000000   \n",
       "percentage_of_time_with_abnormal_long_term_vari...   1.672444  0.000000   \n",
       "mean_value_of_long_term_variability                  0.907782 -1.193548   \n",
       "histogram_width                                      0.618344 -1.023810   \n",
       "histogram_min                                        0.557740 -0.811321   \n",
       "histogram_max                                        0.815645 -1.818182   \n",
       "histogram_number_of_peaks                            0.737346 -0.750000   \n",
       "histogram_number_of_zeroes                           0.706059  0.000000   \n",
       "histogram_mode                                       0.862173 -4.157895   \n",
       "histogram_mean                                       0.779680 -3.150000   \n",
       "histogram_median                                     0.761399 -3.263158   \n",
       "histogram_variance                                   1.317165 -0.318182   \n",
       "histogram_tendency                                   0.610829 -1.000000   \n",
       "\n",
       "                                                         25%  50%       75%  \\\n",
       "baseline value                                     -0.500000  0.0  0.500000   \n",
       "accelerations                                      -0.333333  0.0  0.666667   \n",
       "fetal_movement                                      0.000000  0.0  1.000000   \n",
       "uterine_contractions                               -0.400000  0.0  0.600000   \n",
       "light_decelerations                                 0.000000  0.0  1.000000   \n",
       "severe_decelerations                                0.000000  0.0  0.000000   \n",
       "prolongued_decelerations                            0.000000  0.0  0.000000   \n",
       "abnormal_short_term_variability                    -0.586207  0.0  0.413793   \n",
       "mean_value_of_short_term_variability               -0.500000  0.0  0.500000   \n",
       "percentage_of_time_with_abnormal_long_term_vari...  0.000000  0.0  1.000000   \n",
       "mean_value_of_long_term_variability                -0.451613  0.0  0.548387   \n",
       "histogram_width                                    -0.484127  0.0  0.515873   \n",
       "histogram_min                                      -0.490566  0.0  0.509434   \n",
       "histogram_max                                      -0.454545  0.0  0.545455   \n",
       "histogram_number_of_peaks                          -0.250000  0.0  0.750000   \n",
       "histogram_number_of_zeroes                          0.000000  0.0  0.000000   \n",
       "histogram_mode                                     -0.526316  0.0  0.473684   \n",
       "histogram_mean                                     -0.550000  0.0  0.450000   \n",
       "histogram_median                                   -0.526316  0.0  0.473684   \n",
       "histogram_variance                                 -0.227273  0.0  0.772727   \n",
       "histogram_tendency                                  0.000000  0.0  1.000000   \n",
       "\n",
       "                                                           max  \n",
       "baseline value                                        1.928571  \n",
       "accelerations                                         2.833333  \n",
       "fetal_movement                                      160.333333  \n",
       "uterine_contractions                                  2.200000  \n",
       "light_decelerations                                   5.000000  \n",
       "severe_decelerations                                  0.001000  \n",
       "prolongued_decelerations                              0.005000  \n",
       "abnormal_short_term_variability                       1.310345  \n",
       "mean_value_of_short_term_variability                  5.800000  \n",
       "percentage_of_time_with_abnormal_long_term_vari...    8.272727  \n",
       "mean_value_of_long_term_variability                   6.983871  \n",
       "histogram_width                                       1.785714  \n",
       "histogram_min                                         1.245283  \n",
       "histogram_max                                         3.454545  \n",
       "histogram_number_of_peaks                             3.750000  \n",
       "histogram_number_of_zeroes                           10.000000  \n",
       "histogram_mode                                        2.526316  \n",
       "histogram_mean                                        2.300000  \n",
       "histogram_median                                      2.473684  \n",
       "histogram_variance                                   11.909091  \n",
       "histogram_tendency                                    1.000000  "
      ]
     },
     "execution_count": 5,
     "metadata": {},
     "output_type": "execute_result"
    }
   ],
   "source": [
    "col_names = list(X.columns)\n",
    "# Three different scaling methods\n",
    "\n",
    "#s_scaler = preprocessing.StandardScaler()\n",
    "#s_scaler = preprocessing.MinMaxScaler()\n",
    "s_scaler = preprocessing.RobustScaler()\n",
    "#s_scaler = preprocessing.MaxAbsScaler()\n",
    "#s_scaler = preprocessing.Normalizer()\n",
    "#s_scaler = preprocessing.QuantileTransformer()\n",
    "\n",
    "scaler_name = \"Robust Scaler\"\n",
    "noscale = False\n",
    "if(noscale):\n",
    "    X_df = X\n",
    "else:\n",
    "    X_df= s_scaler.fit_transform(X)\n",
    "\n",
    "X_df = pd.DataFrame(X_df, columns=col_names)   \n",
    "X_df.describe().T"
   ]
  },
  {
   "cell_type": "code",
   "execution_count": 6,
   "id": "9fceb550",
   "metadata": {
    "execution": {
     "iopub.execute_input": "2024-07-14T06:17:33.330912Z",
     "iopub.status.busy": "2024-07-14T06:17:33.330912Z",
     "iopub.status.idle": "2024-07-14T06:17:33.344217Z",
     "shell.execute_reply": "2024-07-14T06:17:33.344217Z"
    },
    "papermill": {
     "duration": 0.021427,
     "end_time": "2024-07-14T06:17:33.347182",
     "exception": false,
     "start_time": "2024-07-14T06:17:33.325755",
     "status": "completed"
    },
    "tags": []
   },
   "outputs": [],
   "source": [
    "X_train, X_test, y_train,y_test = train_test_split(X_df,y,test_size=0.3,random_state=42)"
   ]
  },
  {
   "cell_type": "code",
   "execution_count": 7,
   "id": "1473fd57",
   "metadata": {
    "execution": {
     "iopub.execute_input": "2024-07-14T06:17:33.364165Z",
     "iopub.status.busy": "2024-07-14T06:17:33.364165Z",
     "iopub.status.idle": "2024-07-14T06:17:33.384845Z",
     "shell.execute_reply": "2024-07-14T06:17:33.384328Z"
    },
    "papermill": {
     "duration": 0.041161,
     "end_time": "2024-07-14T06:17:33.388343",
     "exception": false,
     "start_time": "2024-07-14T06:17:33.347182",
     "status": "completed"
    },
    "tags": []
   },
   "outputs": [],
   "source": [
    "ros = RandomOverSampler(random_state=42)\n",
    "X_train,y_train = ros.fit_resample(X_train,y_train)"
   ]
  },
  {
   "cell_type": "code",
   "execution_count": 8,
   "id": "9b5b0bc1",
   "metadata": {
    "execution": {
     "iopub.execute_input": "2024-07-14T06:17:33.401439Z",
     "iopub.status.busy": "2024-07-14T06:17:33.401439Z",
     "iopub.status.idle": "2024-07-14T06:17:33.412260Z",
     "shell.execute_reply": "2024-07-14T06:17:33.411740Z"
    },
    "papermill": {
     "duration": 0.027005,
     "end_time": "2024-07-14T06:17:33.415894",
     "exception": false,
     "start_time": "2024-07-14T06:17:33.388889",
     "status": "completed"
    },
    "tags": []
   },
   "outputs": [],
   "source": [
    "performanceMeasuresDF = pd.DataFrame(columns=['Classifier Model', 'Accuracy','F1-Score','Recall','Precision','Jaccard-Score','Kappa-Score'])"
   ]
  },
  {
   "cell_type": "code",
   "execution_count": 9,
   "id": "1c2ffc22",
   "metadata": {
    "execution": {
     "iopub.execute_input": "2024-07-14T06:17:33.436851Z",
     "iopub.status.busy": "2024-07-14T06:17:33.435546Z",
     "iopub.status.idle": "2024-07-14T06:17:51.006133Z",
     "shell.execute_reply": "2024-07-14T06:17:51.005321Z"
    },
    "papermill": {
     "duration": 17.589866,
     "end_time": "2024-07-14T06:17:51.008497",
     "exception": false,
     "start_time": "2024-07-14T06:17:33.418631",
     "status": "completed"
    },
    "tags": []
   },
   "outputs": [
    {
     "name": "stdout",
     "output_type": "stream",
     "text": [
      "676 ms ± 59.3 ms per loop (mean ± std. dev. of 5 runs, 5 loops each)\n"
     ]
    },
    {
     "name": "stdout",
     "output_type": "stream",
     "text": [
      "Accuracy : 0.822884012539185\n",
      "F1 : 0.8393323582481571\n",
      "Recall : 0.822884012539185\n",
      "Precision : 0.8793881402982433\n",
      "Jaccard : 0.7380918032932696\n",
      "Kappa : 0.6024834446215008\n"
     ]
    }
   ],
   "source": [
    "lr = LogisticRegression(max_iter = 100000)\n",
    "result = %timeit -o -n 5 -r 5 lr.fit(X=X_train, y=y_train) \n",
    "lr.fit(X = X_train, y = y_train)\n",
    "measures = performance_measures(\"Logistic Regression\", lr, X_test, y_test, performanceMeasuresDF)\n",
    "performanceMeasuresDF.loc[len(performanceMeasuresDF)] = measures\n",
    "exec_time = result.average"
   ]
  },
  {
   "cell_type": "code",
   "execution_count": 10,
   "id": "11190875",
   "metadata": {
    "execution": {
     "iopub.execute_input": "2024-07-14T06:17:51.028821Z",
     "iopub.status.busy": "2024-07-14T06:17:51.024866Z",
     "iopub.status.idle": "2024-07-14T06:18:20.265110Z",
     "shell.execute_reply": "2024-07-14T06:18:20.265110Z"
    },
    "papermill": {
     "duration": 29.260153,
     "end_time": "2024-07-14T06:18:20.268650",
     "exception": false,
     "start_time": "2024-07-14T06:17:51.008497",
     "status": "completed"
    },
    "tags": []
   },
   "outputs": [
    {
     "name": "stdout",
     "output_type": "stream",
     "text": [
      "1.12 s ± 38.5 ms per loop (mean ± std. dev. of 5 runs, 5 loops each)\n"
     ]
    },
    {
     "name": "stdout",
     "output_type": "stream",
     "text": [
      "Accuracy : 0.8103448275862069\n",
      "F1 : 0.8285736215585734\n",
      "Recall : 0.8103448275862069\n",
      "Precision : 0.8752867340866857\n",
      "Jaccard : 0.7219203253836983\n",
      "Kappa : 0.5825239568236389\n"
     ]
    }
   ],
   "source": [
    "svmlinear = SVC(kernel = 'linear')\n",
    "result = %timeit -o -n 5 -r 5 svmlinear.fit(X=X_train, y = y_train)\n",
    "svmlinear.fit(X=X_train, y = y_train)\n",
    "measures = performance_measures(\"Support Vector Machine(Linear)\", svmlinear, X_test, y_test, performanceMeasuresDF)\n",
    "performanceMeasuresDF.loc[len(performanceMeasuresDF)] = measures\n",
    "exec_time += result.average"
   ]
  },
  {
   "cell_type": "code",
   "execution_count": 11,
   "id": "84f85388",
   "metadata": {
    "execution": {
     "iopub.execute_input": "2024-07-14T06:18:20.286802Z",
     "iopub.status.busy": "2024-07-14T06:18:20.286802Z",
     "iopub.status.idle": "2024-07-14T06:18:33.337433Z",
     "shell.execute_reply": "2024-07-14T06:18:33.336268Z"
    },
    "papermill": {
     "duration": 13.061797,
     "end_time": "2024-07-14T06:18:33.337923",
     "exception": false,
     "start_time": "2024-07-14T06:18:20.276126",
     "status": "completed"
    },
    "tags": []
   },
   "outputs": [
    {
     "name": "stdout",
     "output_type": "stream",
     "text": [
      "488 ms ± 6.7 ms per loop (mean ± std. dev. of 5 runs, 5 loops each)\n"
     ]
    },
    {
     "name": "stdout",
     "output_type": "stream",
     "text": [
      "Accuracy : 0.8166144200626959\n",
      "F1 : 0.8330195600161175\n",
      "Recall : 0.8166144200626959\n",
      "Precision : 0.8862546133162058\n",
      "Jaccard : 0.7229587077473423\n",
      "Kappa : 0.604715077763833\n"
     ]
    }
   ],
   "source": [
    "svmrbf = SVC(kernel = 'rbf')\n",
    "result = %timeit -o -n 5 -r 5 svmrbf.fit(X=X_train, y = y_train)\n",
    "svmrbf.fit(X=X_train, y = y_train)\n",
    "measures = performance_measures(\"Support Vector Machine(RBF)\", svmrbf, X_test, y_test, performanceMeasuresDF)\n",
    "performanceMeasuresDF.loc[len(performanceMeasuresDF)] = measures\n",
    "exec_time += result.average"
   ]
  },
  {
   "cell_type": "markdown",
   "id": "c133bef7",
   "metadata": {
    "papermill": {
     "duration": 0.00943,
     "end_time": "2024-07-14T06:18:33.352393",
     "exception": false,
     "start_time": "2024-07-14T06:18:33.342963",
     "status": "completed"
    },
    "tags": []
   },
   "source": [
    "Two variants which haven't been tried before"
   ]
  },
  {
   "cell_type": "code",
   "execution_count": 12,
   "id": "59beabc0",
   "metadata": {
    "execution": {
     "iopub.execute_input": "2024-07-14T06:18:33.366414Z",
     "iopub.status.busy": "2024-07-14T06:18:33.366414Z",
     "iopub.status.idle": "2024-07-14T06:19:02.061432Z",
     "shell.execute_reply": "2024-07-14T06:19:02.061432Z"
    },
    "papermill": {
     "duration": 28.711012,
     "end_time": "2024-07-14T06:19:02.063405",
     "exception": false,
     "start_time": "2024-07-14T06:18:33.352393",
     "status": "completed"
    },
    "tags": []
   },
   "outputs": [
    {
     "name": "stdout",
     "output_type": "stream",
     "text": [
      "1.1 s ± 83.9 ms per loop (mean ± std. dev. of 5 runs, 5 loops each)\n"
     ]
    },
    {
     "name": "stdout",
     "output_type": "stream",
     "text": [
      "Accuracy : 0.7789968652037618\n",
      "F1 : 0.6891000390997615\n",
      "Recall : 0.7789968652037618\n",
      "Precision : 0.6709776305298449\n",
      "Jaccard : 0.6095055907980155\n",
      "Kappa : 0.030112882879968828\n"
     ]
    }
   ],
   "source": [
    "svmpoly = SVC(kernel = 'poly')\n",
    "result = %timeit -o -n 5 -r 5 svmpoly.fit(X=X_train, y = y_train)\n",
    "svmpoly.fit(X=X_train, y = y_train)\n",
    "measures = performance_measures(\"Support Vector Machine(Poly)\",svmpoly, X_test, y_test, performanceMeasuresDF)\n",
    "performanceMeasuresDF.loc[len(performanceMeasuresDF)] = measures\n",
    "exec_time += result.average"
   ]
  },
  {
   "cell_type": "code",
   "execution_count": 13,
   "id": "99bee1e8",
   "metadata": {
    "execution": {
     "iopub.execute_input": "2024-07-14T06:19:02.082566Z",
     "iopub.status.busy": "2024-07-14T06:19:02.082566Z",
     "iopub.status.idle": "2024-07-14T06:19:14.112137Z",
     "shell.execute_reply": "2024-07-14T06:19:14.112137Z"
    },
    "papermill": {
     "duration": 12.05056,
     "end_time": "2024-07-14T06:19:14.113965",
     "exception": false,
     "start_time": "2024-07-14T06:19:02.063405",
     "status": "completed"
    },
    "tags": []
   },
   "outputs": [
    {
     "name": "stdout",
     "output_type": "stream",
     "text": [
      "459 ms ± 7.62 ms per loop (mean ± std. dev. of 5 runs, 5 loops each)\n"
     ]
    },
    {
     "name": "stdout",
     "output_type": "stream",
     "text": [
      "Accuracy : 0.6473354231974922\n",
      "F1 : 0.6856568199289895\n",
      "Recall : 0.6473354231974922\n",
      "Precision : 0.8189715876015229\n",
      "Jaccard : 0.5321329960751988\n",
      "Kappa : 0.35539928871645654\n"
     ]
    }
   ],
   "source": [
    "svmsigmoid = SVC(kernel = 'sigmoid')\n",
    "result = %timeit -o -n 5 -r 5 svmsigmoid.fit(X=X_train, y = y_train)\n",
    "svmsigmoid.fit(X=X_train, y = y_train)\n",
    "measures = performance_measures(\"Support Vector Machine(Sigmoid)\",svmsigmoid, X_test, y_test, performanceMeasuresDF)\n",
    "performanceMeasuresDF.loc[len(performanceMeasuresDF)] = measures\n",
    "exec_time += result.average"
   ]
  },
  {
   "cell_type": "code",
   "execution_count": 14,
   "id": "56ec33bc",
   "metadata": {
    "execution": {
     "iopub.execute_input": "2024-07-14T06:19:14.136336Z",
     "iopub.status.busy": "2024-07-14T06:19:14.134872Z",
     "iopub.status.idle": "2024-07-14T06:19:14.576306Z",
     "shell.execute_reply": "2024-07-14T06:19:14.576306Z"
    },
    "papermill": {
     "duration": 0.453333,
     "end_time": "2024-07-14T06:19:14.578420",
     "exception": false,
     "start_time": "2024-07-14T06:19:14.125087",
     "status": "completed"
    },
    "tags": []
   },
   "outputs": [
    {
     "name": "stdout",
     "output_type": "stream",
     "text": [
      "3.11 ms ± 195 μs per loop (mean ± std. dev. of 5 runs, 5 loops each)\n"
     ]
    },
    {
     "name": "stdout",
     "output_type": "stream",
     "text": [
      "Accuracy : 0.8730407523510971\n",
      "F1 : 0.881349081004709\n",
      "Recall : 0.8730407523510971\n",
      "Precision : 0.9038963325927735\n",
      "Jaccard : 0.7954350916903732\n",
      "Kappa : 0.6983028880676743\n"
     ]
    }
   ],
   "source": [
    "knn = KNeighborsClassifier(n_neighbors=5)\n",
    "result = %timeit -o -n 5 -r 5 knn.fit(X=X_train, y = y_train) \n",
    "knn.fit(X=X_train, y = y_train)\n",
    "measures = performance_measures(\"K-Nearest Neighbors\",knn, X_test, y_test, performanceMeasuresDF)\n",
    "performanceMeasuresDF.loc[len(performanceMeasuresDF)] = measures\n",
    "exec_time += result.average"
   ]
  },
  {
   "cell_type": "code",
   "execution_count": 15,
   "id": "4997955e",
   "metadata": {
    "execution": {
     "iopub.execute_input": "2024-07-14T06:19:14.597385Z",
     "iopub.status.busy": "2024-07-14T06:19:14.597385Z",
     "iopub.status.idle": "2024-07-14T06:19:14.803780Z",
     "shell.execute_reply": "2024-07-14T06:19:14.803780Z"
    },
    "papermill": {
     "duration": 0.219917,
     "end_time": "2024-07-14T06:19:14.806860",
     "exception": false,
     "start_time": "2024-07-14T06:19:14.586943",
     "status": "completed"
    },
    "tags": []
   },
   "outputs": [
    {
     "name": "stdout",
     "output_type": "stream",
     "text": [
      "6.74 ms ± 848 μs per loop (mean ± std. dev. of 5 runs, 5 loops each)\n"
     ]
    },
    {
     "name": "stdout",
     "output_type": "stream",
     "text": [
      "Accuracy : 0.7899686520376176\n",
      "F1 : 0.811135743736119\n",
      "Recall : 0.7899686520376176\n",
      "Precision : 0.8739096544264834\n",
      "Jaccard : 0.6953418549826115\n",
      "Kappa : 0.5560609837155202\n"
     ]
    }
   ],
   "source": [
    "gnb = GaussianNB()\n",
    "result = %timeit -o -n 5 -r 5 gnb.fit(X_train, y_train)\n",
    "gnb.fit(X_train, y_train)\n",
    "measures = performance_measures(\"Naive Bayes\",gnb, X_test, y_test, performanceMeasuresDF)\n",
    "performanceMeasuresDF.loc[len(performanceMeasuresDF)] = measures\n",
    "exec_time += result.average"
   ]
  },
  {
   "cell_type": "code",
   "execution_count": 16,
   "id": "a8c041d9",
   "metadata": {
    "execution": {
     "iopub.execute_input": "2024-07-14T06:19:14.827048Z",
     "iopub.status.busy": "2024-07-14T06:19:14.827048Z",
     "iopub.status.idle": "2024-07-14T06:19:15.435813Z",
     "shell.execute_reply": "2024-07-14T06:19:15.435302Z"
    },
    "papermill": {
     "duration": 0.630085,
     "end_time": "2024-07-14T06:19:15.436945",
     "exception": false,
     "start_time": "2024-07-14T06:19:14.806860",
     "status": "completed"
    },
    "tags": []
   },
   "outputs": [
    {
     "name": "stdout",
     "output_type": "stream",
     "text": [
      "22.6 ms ± 534 μs per loop (mean ± std. dev. of 5 runs, 5 loops each)\n",
      "Accuracy : 0.9247648902821317\n",
      "F1 : 0.9243306467823504\n",
      "Recall : 0.9247648902821317\n",
      "Precision : 0.9241468552894992\n",
      "Jaccard : 0.8645456118094799\n",
      "Kappa : 0.7943745761460005\n"
     ]
    }
   ],
   "source": [
    "dt = DecisionTreeClassifier()\n",
    "result = %timeit -o -n 5 -r 5 dt.fit(X_train, y_train)\n",
    "dt.fit(X_train, y_train)\n",
    "measures = performance_measures(\"Decision Tree\",dt, X_test, y_test, performanceMeasuresDF)\n",
    "performanceMeasuresDF.loc[len(performanceMeasuresDF)] = measures\n",
    "exec_time += result.average"
   ]
  },
  {
   "cell_type": "code",
   "execution_count": 17,
   "id": "17f32b26",
   "metadata": {
    "execution": {
     "iopub.execute_input": "2024-07-14T06:19:15.458030Z",
     "iopub.status.busy": "2024-07-14T06:19:15.458030Z",
     "iopub.status.idle": "2024-07-14T06:19:31.035895Z",
     "shell.execute_reply": "2024-07-14T06:19:31.035895Z"
    },
    "papermill": {
     "duration": 15.596584,
     "end_time": "2024-07-14T06:19:31.038751",
     "exception": false,
     "start_time": "2024-07-14T06:19:15.442167",
     "status": "completed"
    },
    "tags": []
   },
   "outputs": [
    {
     "name": "stdout",
     "output_type": "stream",
     "text": [
      "597 ms ± 7.28 ms per loop (mean ± std. dev. of 5 runs, 5 loops each)\n"
     ]
    },
    {
     "name": "stdout",
     "output_type": "stream",
     "text": [
      "Accuracy : 0.9373040752351097\n",
      "F1 : 0.9373326249297671\n",
      "Recall : 0.9373040752351097\n",
      "Precision : 0.9376395149699887\n",
      "Jaccard : 0.88668851725909\n",
      "Kappa : 0.8300660558278287\n"
     ]
    }
   ],
   "source": [
    "rfc = RandomForestClassifier(n_estimators = 100, random_state = 42)\n",
    "result = %timeit -o -n 5 -r 5 rfc.fit(X_train, y_train)\n",
    "rfc.fit(X_train, y_train)\n",
    "measures = performance_measures(\"Random Forest\",rfc, X_test, y_test, performanceMeasuresDF)\n",
    "performanceMeasuresDF.loc[len(performanceMeasuresDF)] = measures\n",
    "exec_time += result.average"
   ]
  },
  {
   "cell_type": "code",
   "execution_count": 18,
   "id": "7001fb66",
   "metadata": {
    "execution": {
     "iopub.execute_input": "2024-07-14T06:19:31.060061Z",
     "iopub.status.busy": "2024-07-14T06:19:31.060061Z",
     "iopub.status.idle": "2024-07-14T06:19:49.177088Z",
     "shell.execute_reply": "2024-07-14T06:19:49.176077Z"
    },
    "papermill": {
     "duration": 18.133912,
     "end_time": "2024-07-14T06:19:49.181690",
     "exception": false,
     "start_time": "2024-07-14T06:19:31.047778",
     "status": "completed"
    },
    "tags": []
   },
   "outputs": [
    {
     "name": "stdout",
     "output_type": "stream",
     "text": [
      "675 ms ± 17.6 ms per loop (mean ± std. dev. of 5 runs, 5 loops each)\n"
     ]
    },
    {
     "name": "stdout",
     "output_type": "stream",
     "text": [
      "Accuracy : 0.8871473354231975\n",
      "F1 : 0.8922203194307321\n",
      "Recall : 0.8871473354231975\n",
      "Precision : 0.9037482268486758\n",
      "Jaccard : 0.8123084124727266\n",
      "Kappa : 0.7184448762189628\n"
     ]
    }
   ],
   "source": [
    "abc = AdaBoostClassifier(n_estimators = 100, random_state = 42)\n",
    "result = %timeit -o -n 5 -r 5 abc.fit(X_train, y_train)\n",
    "abc.fit(X_train, y_train)\n",
    "measures = performance_measures(\"Ada Boost\",abc, X_test, y_test, performanceMeasuresDF)\n",
    "performanceMeasuresDF.loc[len(performanceMeasuresDF)] = measures\n",
    "exec_time += result.average"
   ]
  },
  {
   "cell_type": "code",
   "execution_count": 19,
   "id": "474ab4fe",
   "metadata": {
    "execution": {
     "iopub.execute_input": "2024-07-14T06:19:49.221835Z",
     "iopub.status.busy": "2024-07-14T06:19:49.221835Z",
     "iopub.status.idle": "2024-07-14T06:20:26.286258Z",
     "shell.execute_reply": "2024-07-14T06:20:26.285734Z"
    },
    "papermill": {
     "duration": 37.080389,
     "end_time": "2024-07-14T06:20:26.288546",
     "exception": false,
     "start_time": "2024-07-14T06:19:49.208157",
     "status": "completed"
    },
    "tags": []
   },
   "outputs": [
    {
     "name": "stdout",
     "output_type": "stream",
     "text": [
      "1.42 s ± 29.7 ms per loop (mean ± std. dev. of 5 runs, 5 loops each)\n"
     ]
    },
    {
     "name": "stdout",
     "output_type": "stream",
     "text": [
      "Accuracy : 0.8824451410658307\n",
      "F1 : 0.889478732362703\n",
      "Recall : 0.8824451410658307\n",
      "Precision : 0.9123061851569174\n",
      "Jaccard : 0.8067182439299724\n",
      "Kappa : 0.7229556034183284\n"
     ]
    }
   ],
   "source": [
    "gbc = GradientBoostingClassifier(n_estimators = 100, random_state = 42, learning_rate = 1.0, max_depth = 1)\n",
    "result = %timeit -o -n 5 -r 5 gbc.fit(X_train, y_train)\n",
    "gbc.fit(X_train, y_train)\n",
    "measures = performance_measures(\"Gradient Boost\",gbc, X_test, y_test, performanceMeasuresDF)\n",
    "performanceMeasuresDF.loc[len(performanceMeasuresDF)] = measures\n",
    "exec_time += result.average"
   ]
  },
  {
   "cell_type": "code",
   "execution_count": 20,
   "id": "8579eaf6",
   "metadata": {
    "execution": {
     "iopub.execute_input": "2024-07-14T06:20:26.321871Z",
     "iopub.status.busy": "2024-07-14T06:20:26.320232Z",
     "iopub.status.idle": "2024-07-14T06:20:43.173709Z",
     "shell.execute_reply": "2024-07-14T06:20:43.173709Z"
    },
    "papermill": {
     "duration": 16.869182,
     "end_time": "2024-07-14T06:20:43.173709",
     "exception": false,
     "start_time": "2024-07-14T06:20:26.304527",
     "status": "completed"
    },
    "tags": []
   },
   "outputs": [
    {
     "name": "stderr",
     "output_type": "stream",
     "text": [
      "C:\\Users\\Santhosh\\AppData\\Local\\Packages\\PythonSoftwareFoundation.Python.3.11_qbz5n2kfra8p0\\LocalCache\\local-packages\\Python311\\site-packages\\xgboost\\core.py:158: UserWarning: [11:50:26] WARNING: C:\\buildkite-agent\\builds\\buildkite-windows-cpu-autoscaling-group-i-06abd128ca6c1688d-1\\xgboost\\xgboost-ci-windows\\src\\learner.cc:740: \n",
      "Parameters: { \"use_label_encoder\" } are not used.\n",
      "\n",
      "  warnings.warn(smsg, UserWarning)\n"
     ]
    },
    {
     "name": "stderr",
     "output_type": "stream",
     "text": [
      "C:\\Users\\Santhosh\\AppData\\Local\\Packages\\PythonSoftwareFoundation.Python.3.11_qbz5n2kfra8p0\\LocalCache\\local-packages\\Python311\\site-packages\\xgboost\\core.py:158: UserWarning: [11:50:27] WARNING: C:\\buildkite-agent\\builds\\buildkite-windows-cpu-autoscaling-group-i-06abd128ca6c1688d-1\\xgboost\\xgboost-ci-windows\\src\\learner.cc:740: \n",
      "Parameters: { \"use_label_encoder\" } are not used.\n",
      "\n",
      "  warnings.warn(smsg, UserWarning)\n"
     ]
    },
    {
     "name": "stderr",
     "output_type": "stream",
     "text": [
      "C:\\Users\\Santhosh\\AppData\\Local\\Packages\\PythonSoftwareFoundation.Python.3.11_qbz5n2kfra8p0\\LocalCache\\local-packages\\Python311\\site-packages\\xgboost\\core.py:158: UserWarning: [11:50:27] WARNING: C:\\buildkite-agent\\builds\\buildkite-windows-cpu-autoscaling-group-i-06abd128ca6c1688d-1\\xgboost\\xgboost-ci-windows\\src\\learner.cc:740: \n",
      "Parameters: { \"use_label_encoder\" } are not used.\n",
      "\n",
      "  warnings.warn(smsg, UserWarning)\n"
     ]
    },
    {
     "name": "stderr",
     "output_type": "stream",
     "text": [
      "C:\\Users\\Santhosh\\AppData\\Local\\Packages\\PythonSoftwareFoundation.Python.3.11_qbz5n2kfra8p0\\LocalCache\\local-packages\\Python311\\site-packages\\xgboost\\core.py:158: UserWarning: [11:50:28] WARNING: C:\\buildkite-agent\\builds\\buildkite-windows-cpu-autoscaling-group-i-06abd128ca6c1688d-1\\xgboost\\xgboost-ci-windows\\src\\learner.cc:740: \n",
      "Parameters: { \"use_label_encoder\" } are not used.\n",
      "\n",
      "  warnings.warn(smsg, UserWarning)\n"
     ]
    },
    {
     "name": "stderr",
     "output_type": "stream",
     "text": [
      "C:\\Users\\Santhosh\\AppData\\Local\\Packages\\PythonSoftwareFoundation.Python.3.11_qbz5n2kfra8p0\\LocalCache\\local-packages\\Python311\\site-packages\\xgboost\\core.py:158: UserWarning: [11:50:28] WARNING: C:\\buildkite-agent\\builds\\buildkite-windows-cpu-autoscaling-group-i-06abd128ca6c1688d-1\\xgboost\\xgboost-ci-windows\\src\\learner.cc:740: \n",
      "Parameters: { \"use_label_encoder\" } are not used.\n",
      "\n",
      "  warnings.warn(smsg, UserWarning)\n"
     ]
    },
    {
     "name": "stderr",
     "output_type": "stream",
     "text": [
      "C:\\Users\\Santhosh\\AppData\\Local\\Packages\\PythonSoftwareFoundation.Python.3.11_qbz5n2kfra8p0\\LocalCache\\local-packages\\Python311\\site-packages\\xgboost\\core.py:158: UserWarning: [11:50:29] WARNING: C:\\buildkite-agent\\builds\\buildkite-windows-cpu-autoscaling-group-i-06abd128ca6c1688d-1\\xgboost\\xgboost-ci-windows\\src\\learner.cc:740: \n",
      "Parameters: { \"use_label_encoder\" } are not used.\n",
      "\n",
      "  warnings.warn(smsg, UserWarning)\n"
     ]
    },
    {
     "name": "stderr",
     "output_type": "stream",
     "text": [
      "C:\\Users\\Santhosh\\AppData\\Local\\Packages\\PythonSoftwareFoundation.Python.3.11_qbz5n2kfra8p0\\LocalCache\\local-packages\\Python311\\site-packages\\xgboost\\core.py:158: UserWarning: [11:50:30] WARNING: C:\\buildkite-agent\\builds\\buildkite-windows-cpu-autoscaling-group-i-06abd128ca6c1688d-1\\xgboost\\xgboost-ci-windows\\src\\learner.cc:740: \n",
      "Parameters: { \"use_label_encoder\" } are not used.\n",
      "\n",
      "  warnings.warn(smsg, UserWarning)\n"
     ]
    },
    {
     "name": "stderr",
     "output_type": "stream",
     "text": [
      "C:\\Users\\Santhosh\\AppData\\Local\\Packages\\PythonSoftwareFoundation.Python.3.11_qbz5n2kfra8p0\\LocalCache\\local-packages\\Python311\\site-packages\\xgboost\\core.py:158: UserWarning: [11:50:30] WARNING: C:\\buildkite-agent\\builds\\buildkite-windows-cpu-autoscaling-group-i-06abd128ca6c1688d-1\\xgboost\\xgboost-ci-windows\\src\\learner.cc:740: \n",
      "Parameters: { \"use_label_encoder\" } are not used.\n",
      "\n",
      "  warnings.warn(smsg, UserWarning)\n"
     ]
    },
    {
     "name": "stderr",
     "output_type": "stream",
     "text": [
      "C:\\Users\\Santhosh\\AppData\\Local\\Packages\\PythonSoftwareFoundation.Python.3.11_qbz5n2kfra8p0\\LocalCache\\local-packages\\Python311\\site-packages\\xgboost\\core.py:158: UserWarning: [11:50:31] WARNING: C:\\buildkite-agent\\builds\\buildkite-windows-cpu-autoscaling-group-i-06abd128ca6c1688d-1\\xgboost\\xgboost-ci-windows\\src\\learner.cc:740: \n",
      "Parameters: { \"use_label_encoder\" } are not used.\n",
      "\n",
      "  warnings.warn(smsg, UserWarning)\n"
     ]
    },
    {
     "name": "stderr",
     "output_type": "stream",
     "text": [
      "C:\\Users\\Santhosh\\AppData\\Local\\Packages\\PythonSoftwareFoundation.Python.3.11_qbz5n2kfra8p0\\LocalCache\\local-packages\\Python311\\site-packages\\xgboost\\core.py:158: UserWarning: [11:50:32] WARNING: C:\\buildkite-agent\\builds\\buildkite-windows-cpu-autoscaling-group-i-06abd128ca6c1688d-1\\xgboost\\xgboost-ci-windows\\src\\learner.cc:740: \n",
      "Parameters: { \"use_label_encoder\" } are not used.\n",
      "\n",
      "  warnings.warn(smsg, UserWarning)\n"
     ]
    },
    {
     "name": "stderr",
     "output_type": "stream",
     "text": [
      "C:\\Users\\Santhosh\\AppData\\Local\\Packages\\PythonSoftwareFoundation.Python.3.11_qbz5n2kfra8p0\\LocalCache\\local-packages\\Python311\\site-packages\\xgboost\\core.py:158: UserWarning: [11:50:32] WARNING: C:\\buildkite-agent\\builds\\buildkite-windows-cpu-autoscaling-group-i-06abd128ca6c1688d-1\\xgboost\\xgboost-ci-windows\\src\\learner.cc:740: \n",
      "Parameters: { \"use_label_encoder\" } are not used.\n",
      "\n",
      "  warnings.warn(smsg, UserWarning)\n"
     ]
    },
    {
     "name": "stderr",
     "output_type": "stream",
     "text": [
      "C:\\Users\\Santhosh\\AppData\\Local\\Packages\\PythonSoftwareFoundation.Python.3.11_qbz5n2kfra8p0\\LocalCache\\local-packages\\Python311\\site-packages\\xgboost\\core.py:158: UserWarning: [11:50:33] WARNING: C:\\buildkite-agent\\builds\\buildkite-windows-cpu-autoscaling-group-i-06abd128ca6c1688d-1\\xgboost\\xgboost-ci-windows\\src\\learner.cc:740: \n",
      "Parameters: { \"use_label_encoder\" } are not used.\n",
      "\n",
      "  warnings.warn(smsg, UserWarning)\n"
     ]
    },
    {
     "name": "stderr",
     "output_type": "stream",
     "text": [
      "C:\\Users\\Santhosh\\AppData\\Local\\Packages\\PythonSoftwareFoundation.Python.3.11_qbz5n2kfra8p0\\LocalCache\\local-packages\\Python311\\site-packages\\xgboost\\core.py:158: UserWarning: [11:50:34] WARNING: C:\\buildkite-agent\\builds\\buildkite-windows-cpu-autoscaling-group-i-06abd128ca6c1688d-1\\xgboost\\xgboost-ci-windows\\src\\learner.cc:740: \n",
      "Parameters: { \"use_label_encoder\" } are not used.\n",
      "\n",
      "  warnings.warn(smsg, UserWarning)\n"
     ]
    },
    {
     "name": "stderr",
     "output_type": "stream",
     "text": [
      "C:\\Users\\Santhosh\\AppData\\Local\\Packages\\PythonSoftwareFoundation.Python.3.11_qbz5n2kfra8p0\\LocalCache\\local-packages\\Python311\\site-packages\\xgboost\\core.py:158: UserWarning: [11:50:34] WARNING: C:\\buildkite-agent\\builds\\buildkite-windows-cpu-autoscaling-group-i-06abd128ca6c1688d-1\\xgboost\\xgboost-ci-windows\\src\\learner.cc:740: \n",
      "Parameters: { \"use_label_encoder\" } are not used.\n",
      "\n",
      "  warnings.warn(smsg, UserWarning)\n"
     ]
    },
    {
     "name": "stderr",
     "output_type": "stream",
     "text": [
      "C:\\Users\\Santhosh\\AppData\\Local\\Packages\\PythonSoftwareFoundation.Python.3.11_qbz5n2kfra8p0\\LocalCache\\local-packages\\Python311\\site-packages\\xgboost\\core.py:158: UserWarning: [11:50:35] WARNING: C:\\buildkite-agent\\builds\\buildkite-windows-cpu-autoscaling-group-i-06abd128ca6c1688d-1\\xgboost\\xgboost-ci-windows\\src\\learner.cc:740: \n",
      "Parameters: { \"use_label_encoder\" } are not used.\n",
      "\n",
      "  warnings.warn(smsg, UserWarning)\n"
     ]
    },
    {
     "name": "stderr",
     "output_type": "stream",
     "text": [
      "C:\\Users\\Santhosh\\AppData\\Local\\Packages\\PythonSoftwareFoundation.Python.3.11_qbz5n2kfra8p0\\LocalCache\\local-packages\\Python311\\site-packages\\xgboost\\core.py:158: UserWarning: [11:50:36] WARNING: C:\\buildkite-agent\\builds\\buildkite-windows-cpu-autoscaling-group-i-06abd128ca6c1688d-1\\xgboost\\xgboost-ci-windows\\src\\learner.cc:740: \n",
      "Parameters: { \"use_label_encoder\" } are not used.\n",
      "\n",
      "  warnings.warn(smsg, UserWarning)\n"
     ]
    },
    {
     "name": "stderr",
     "output_type": "stream",
     "text": [
      "C:\\Users\\Santhosh\\AppData\\Local\\Packages\\PythonSoftwareFoundation.Python.3.11_qbz5n2kfra8p0\\LocalCache\\local-packages\\Python311\\site-packages\\xgboost\\core.py:158: UserWarning: [11:50:36] WARNING: C:\\buildkite-agent\\builds\\buildkite-windows-cpu-autoscaling-group-i-06abd128ca6c1688d-1\\xgboost\\xgboost-ci-windows\\src\\learner.cc:740: \n",
      "Parameters: { \"use_label_encoder\" } are not used.\n",
      "\n",
      "  warnings.warn(smsg, UserWarning)\n"
     ]
    },
    {
     "name": "stderr",
     "output_type": "stream",
     "text": [
      "C:\\Users\\Santhosh\\AppData\\Local\\Packages\\PythonSoftwareFoundation.Python.3.11_qbz5n2kfra8p0\\LocalCache\\local-packages\\Python311\\site-packages\\xgboost\\core.py:158: UserWarning: [11:50:37] WARNING: C:\\buildkite-agent\\builds\\buildkite-windows-cpu-autoscaling-group-i-06abd128ca6c1688d-1\\xgboost\\xgboost-ci-windows\\src\\learner.cc:740: \n",
      "Parameters: { \"use_label_encoder\" } are not used.\n",
      "\n",
      "  warnings.warn(smsg, UserWarning)\n"
     ]
    },
    {
     "name": "stderr",
     "output_type": "stream",
     "text": [
      "C:\\Users\\Santhosh\\AppData\\Local\\Packages\\PythonSoftwareFoundation.Python.3.11_qbz5n2kfra8p0\\LocalCache\\local-packages\\Python311\\site-packages\\xgboost\\core.py:158: UserWarning: [11:50:37] WARNING: C:\\buildkite-agent\\builds\\buildkite-windows-cpu-autoscaling-group-i-06abd128ca6c1688d-1\\xgboost\\xgboost-ci-windows\\src\\learner.cc:740: \n",
      "Parameters: { \"use_label_encoder\" } are not used.\n",
      "\n",
      "  warnings.warn(smsg, UserWarning)\n"
     ]
    },
    {
     "name": "stderr",
     "output_type": "stream",
     "text": [
      "C:\\Users\\Santhosh\\AppData\\Local\\Packages\\PythonSoftwareFoundation.Python.3.11_qbz5n2kfra8p0\\LocalCache\\local-packages\\Python311\\site-packages\\xgboost\\core.py:158: UserWarning: [11:50:38] WARNING: C:\\buildkite-agent\\builds\\buildkite-windows-cpu-autoscaling-group-i-06abd128ca6c1688d-1\\xgboost\\xgboost-ci-windows\\src\\learner.cc:740: \n",
      "Parameters: { \"use_label_encoder\" } are not used.\n",
      "\n",
      "  warnings.warn(smsg, UserWarning)\n"
     ]
    },
    {
     "name": "stderr",
     "output_type": "stream",
     "text": [
      "C:\\Users\\Santhosh\\AppData\\Local\\Packages\\PythonSoftwareFoundation.Python.3.11_qbz5n2kfra8p0\\LocalCache\\local-packages\\Python311\\site-packages\\xgboost\\core.py:158: UserWarning: [11:50:39] WARNING: C:\\buildkite-agent\\builds\\buildkite-windows-cpu-autoscaling-group-i-06abd128ca6c1688d-1\\xgboost\\xgboost-ci-windows\\src\\learner.cc:740: \n",
      "Parameters: { \"use_label_encoder\" } are not used.\n",
      "\n",
      "  warnings.warn(smsg, UserWarning)\n"
     ]
    },
    {
     "name": "stderr",
     "output_type": "stream",
     "text": [
      "C:\\Users\\Santhosh\\AppData\\Local\\Packages\\PythonSoftwareFoundation.Python.3.11_qbz5n2kfra8p0\\LocalCache\\local-packages\\Python311\\site-packages\\xgboost\\core.py:158: UserWarning: [11:50:39] WARNING: C:\\buildkite-agent\\builds\\buildkite-windows-cpu-autoscaling-group-i-06abd128ca6c1688d-1\\xgboost\\xgboost-ci-windows\\src\\learner.cc:740: \n",
      "Parameters: { \"use_label_encoder\" } are not used.\n",
      "\n",
      "  warnings.warn(smsg, UserWarning)\n"
     ]
    },
    {
     "name": "stderr",
     "output_type": "stream",
     "text": [
      "C:\\Users\\Santhosh\\AppData\\Local\\Packages\\PythonSoftwareFoundation.Python.3.11_qbz5n2kfra8p0\\LocalCache\\local-packages\\Python311\\site-packages\\xgboost\\core.py:158: UserWarning: [11:50:40] WARNING: C:\\buildkite-agent\\builds\\buildkite-windows-cpu-autoscaling-group-i-06abd128ca6c1688d-1\\xgboost\\xgboost-ci-windows\\src\\learner.cc:740: \n",
      "Parameters: { \"use_label_encoder\" } are not used.\n",
      "\n",
      "  warnings.warn(smsg, UserWarning)\n"
     ]
    },
    {
     "name": "stderr",
     "output_type": "stream",
     "text": [
      "C:\\Users\\Santhosh\\AppData\\Local\\Packages\\PythonSoftwareFoundation.Python.3.11_qbz5n2kfra8p0\\LocalCache\\local-packages\\Python311\\site-packages\\xgboost\\core.py:158: UserWarning: [11:50:41] WARNING: C:\\buildkite-agent\\builds\\buildkite-windows-cpu-autoscaling-group-i-06abd128ca6c1688d-1\\xgboost\\xgboost-ci-windows\\src\\learner.cc:740: \n",
      "Parameters: { \"use_label_encoder\" } are not used.\n",
      "\n",
      "  warnings.warn(smsg, UserWarning)\n"
     ]
    },
    {
     "name": "stderr",
     "output_type": "stream",
     "text": [
      "C:\\Users\\Santhosh\\AppData\\Local\\Packages\\PythonSoftwareFoundation.Python.3.11_qbz5n2kfra8p0\\LocalCache\\local-packages\\Python311\\site-packages\\xgboost\\core.py:158: UserWarning: [11:50:41] WARNING: C:\\buildkite-agent\\builds\\buildkite-windows-cpu-autoscaling-group-i-06abd128ca6c1688d-1\\xgboost\\xgboost-ci-windows\\src\\learner.cc:740: \n",
      "Parameters: { \"use_label_encoder\" } are not used.\n",
      "\n",
      "  warnings.warn(smsg, UserWarning)\n"
     ]
    },
    {
     "name": "stdout",
     "output_type": "stream",
     "text": [
      "645 ms ± 4.12 ms per loop (mean ± std. dev. of 5 runs, 5 loops each)\n"
     ]
    },
    {
     "name": "stderr",
     "output_type": "stream",
     "text": [
      "C:\\Users\\Santhosh\\AppData\\Local\\Packages\\PythonSoftwareFoundation.Python.3.11_qbz5n2kfra8p0\\LocalCache\\local-packages\\Python311\\site-packages\\xgboost\\core.py:158: UserWarning: [11:50:42] WARNING: C:\\buildkite-agent\\builds\\buildkite-windows-cpu-autoscaling-group-i-06abd128ca6c1688d-1\\xgboost\\xgboost-ci-windows\\src\\learner.cc:740: \n",
      "Parameters: { \"use_label_encoder\" } are not used.\n",
      "\n",
      "  warnings.warn(smsg, UserWarning)\n"
     ]
    },
    {
     "name": "stdout",
     "output_type": "stream",
     "text": [
      "Accuracy : 0.9545454545454546\n",
      "F1 : 0.9544474452495844\n",
      "Recall : 0.9545454545454546\n",
      "Precision : 0.954673114614897\n",
      "Jaccard : 0.9150425054580357\n",
      "Kappa : 0.8764729838898124\n"
     ]
    }
   ],
   "source": [
    "xgb = XGBClassifier(use_label_encoder = False, eval_metric = 'mlogloss')\n",
    "result = %timeit -o -n 5 -r 5 xgb.fit(X_train, y_train - 1)\n",
    "xgb.fit(X_train, y_train - 1)\n",
    "measures = performance_measures(\"XG Boost\",xgb, X_test, y_test - 1, performanceMeasuresDF)\n",
    "performanceMeasuresDF.loc[len(performanceMeasuresDF)] = measures\n",
    "exec_time += result.average"
   ]
  },
  {
   "cell_type": "code",
   "execution_count": 21,
   "id": "537ad01c",
   "metadata": {
    "execution": {
     "iopub.execute_input": "2024-07-14T06:20:43.228720Z",
     "iopub.status.busy": "2024-07-14T06:20:43.228720Z",
     "iopub.status.idle": "2024-07-14T06:21:00.893017Z",
     "shell.execute_reply": "2024-07-14T06:21:00.891928Z"
    },
    "papermill": {
     "duration": 17.680969,
     "end_time": "2024-07-14T06:21:00.895556",
     "exception": false,
     "start_time": "2024-07-14T06:20:43.214587",
     "status": "completed"
    },
    "tags": []
   },
   "outputs": [
    {
     "name": "stdout",
     "output_type": "stream",
     "text": [
      "[LightGBM] [Warning] Found whitespace in feature_names, replace with underlines\n",
      "[LightGBM] [Info] Auto-choosing row-wise multi-threading, the overhead of testing was 0.000833 seconds.\n",
      "You can set `force_row_wise=true` to remove the overhead.\n",
      "And if memory is not enough, you can set `force_col_wise=true`.\n",
      "[LightGBM] [Info] Total Bins 1254\n",
      "[LightGBM] [Info] Number of data points in the train set: 3477, number of used features: 21\n",
      "[LightGBM] [Info] Start training from score -1.098612\n",
      "[LightGBM] [Info] Start training from score -1.098612\n",
      "[LightGBM] [Info] Start training from score -1.098612\n",
      "[LightGBM] [Warning] No further splits with positive gain, best gain: -inf\n"
     ]
    },
    {
     "name": "stdout",
     "output_type": "stream",
     "text": [
      "[LightGBM] [Warning] Found whitespace in feature_names, replace with underlines\n",
      "[LightGBM] [Info] Auto-choosing row-wise multi-threading, the overhead of testing was 0.000343 seconds.\n",
      "You can set `force_row_wise=true` to remove the overhead.\n",
      "And if memory is not enough, you can set `force_col_wise=true`.\n",
      "[LightGBM] [Info] Total Bins 1254\n",
      "[LightGBM] [Info] Number of data points in the train set: 3477, number of used features: 21\n",
      "[LightGBM] [Info] Start training from score -1.098612\n",
      "[LightGBM] [Info] Start training from score -1.098612\n",
      "[LightGBM] [Info] Start training from score -1.098612\n",
      "[LightGBM] [Warning] No further splits with positive gain, best gain: -inf\n"
     ]
    },
    {
     "name": "stdout",
     "output_type": "stream",
     "text": [
      "[LightGBM] [Warning] Found whitespace in feature_names, replace with underlines\n",
      "[LightGBM] [Info] Auto-choosing col-wise multi-threading, the overhead of testing was 0.001248 seconds.\n",
      "You can set `force_col_wise=true` to remove the overhead.\n",
      "[LightGBM] [Info] Total Bins 1254\n",
      "[LightGBM] [Info] Number of data points in the train set: 3477, number of used features: 21\n",
      "[LightGBM] [Info] Start training from score -1.098612\n",
      "[LightGBM] [Info] Start training from score -1.098612\n",
      "[LightGBM] [Info] Start training from score -1.098612\n",
      "[LightGBM] [Warning] No further splits with positive gain, best gain: -inf\n"
     ]
    },
    {
     "name": "stdout",
     "output_type": "stream",
     "text": [
      "[LightGBM] [Warning] Found whitespace in feature_names, replace with underlines\n",
      "[LightGBM] [Info] Auto-choosing col-wise multi-threading, the overhead of testing was 0.001273 seconds.\n",
      "You can set `force_col_wise=true` to remove the overhead.\n",
      "[LightGBM] [Info] Total Bins 1254\n",
      "[LightGBM] [Info] Number of data points in the train set: 3477, number of used features: 21\n",
      "[LightGBM] [Info] Start training from score -1.098612\n",
      "[LightGBM] [Info] Start training from score -1.098612\n",
      "[LightGBM] [Info] Start training from score -1.098612\n",
      "[LightGBM] [Warning] No further splits with positive gain, best gain: -inf\n"
     ]
    },
    {
     "name": "stdout",
     "output_type": "stream",
     "text": [
      "[LightGBM] [Warning] Found whitespace in feature_names, replace with underlines\n",
      "[LightGBM] [Info] Auto-choosing col-wise multi-threading, the overhead of testing was 0.001330 seconds.\n",
      "You can set `force_col_wise=true` to remove the overhead.\n",
      "[LightGBM] [Info] Total Bins 1254\n",
      "[LightGBM] [Info] Number of data points in the train set: 3477, number of used features: 21\n",
      "[LightGBM] [Info] Start training from score -1.098612\n",
      "[LightGBM] [Info] Start training from score -1.098612\n",
      "[LightGBM] [Info] Start training from score -1.098612\n",
      "[LightGBM] [Warning] No further splits with positive gain, best gain: -inf\n"
     ]
    },
    {
     "name": "stdout",
     "output_type": "stream",
     "text": [
      "[LightGBM] [Warning] Found whitespace in feature_names, replace with underlines\n",
      "[LightGBM] [Info] Auto-choosing row-wise multi-threading, the overhead of testing was 0.000378 seconds.\n",
      "You can set `force_row_wise=true` to remove the overhead.\n",
      "And if memory is not enough, you can set `force_col_wise=true`.\n",
      "[LightGBM] [Info] Total Bins 1254\n",
      "[LightGBM] [Info] Number of data points in the train set: 3477, number of used features: 21\n",
      "[LightGBM] [Info] Start training from score -1.098612\n",
      "[LightGBM] [Info] Start training from score -1.098612\n",
      "[LightGBM] [Info] Start training from score -1.098612\n",
      "[LightGBM] [Warning] No further splits with positive gain, best gain: -inf\n"
     ]
    },
    {
     "name": "stdout",
     "output_type": "stream",
     "text": [
      "[LightGBM] [Warning] Found whitespace in feature_names, replace with underlines\n",
      "[LightGBM] [Info] Auto-choosing col-wise multi-threading, the overhead of testing was 0.001508 seconds.\n",
      "You can set `force_col_wise=true` to remove the overhead.\n",
      "[LightGBM] [Info] Total Bins 1254\n",
      "[LightGBM] [Info] Number of data points in the train set: 3477, number of used features: 21\n",
      "[LightGBM] [Info] Start training from score -1.098612\n",
      "[LightGBM] [Info] Start training from score -1.098612\n",
      "[LightGBM] [Info] Start training from score -1.098612\n",
      "[LightGBM] [Warning] No further splits with positive gain, best gain: -inf\n"
     ]
    },
    {
     "name": "stdout",
     "output_type": "stream",
     "text": [
      "[LightGBM] [Warning] Found whitespace in feature_names, replace with underlines\n",
      "[LightGBM] [Info] Auto-choosing col-wise multi-threading, the overhead of testing was 0.001261 seconds.\n",
      "You can set `force_col_wise=true` to remove the overhead.\n",
      "[LightGBM] [Info] Total Bins 1254\n",
      "[LightGBM] [Info] Number of data points in the train set: 3477, number of used features: 21\n",
      "[LightGBM] [Info] Start training from score -1.098612\n",
      "[LightGBM] [Info] Start training from score -1.098612\n",
      "[LightGBM] [Info] Start training from score -1.098612\n",
      "[LightGBM] [Warning] No further splits with positive gain, best gain: -inf\n"
     ]
    },
    {
     "name": "stdout",
     "output_type": "stream",
     "text": [
      "[LightGBM] [Warning] Found whitespace in feature_names, replace with underlines\n",
      "[LightGBM] [Info] Auto-choosing col-wise multi-threading, the overhead of testing was 0.002657 seconds.\n",
      "You can set `force_col_wise=true` to remove the overhead.\n",
      "[LightGBM] [Info] Total Bins 1254\n",
      "[LightGBM] [Info] Number of data points in the train set: 3477, number of used features: 21\n",
      "[LightGBM] [Info] Start training from score -1.098612\n",
      "[LightGBM] [Info] Start training from score -1.098612\n",
      "[LightGBM] [Info] Start training from score -1.098612\n",
      "[LightGBM] [Warning] No further splits with positive gain, best gain: -inf\n"
     ]
    },
    {
     "name": "stdout",
     "output_type": "stream",
     "text": [
      "[LightGBM] [Warning] Found whitespace in feature_names, replace with underlines\n",
      "[LightGBM] [Info] Auto-choosing col-wise multi-threading, the overhead of testing was 0.001414 seconds.\n",
      "You can set `force_col_wise=true` to remove the overhead.\n",
      "[LightGBM] [Info] Total Bins 1254\n",
      "[LightGBM] [Info] Number of data points in the train set: 3477, number of used features: 21\n",
      "[LightGBM] [Info] Start training from score -1.098612\n",
      "[LightGBM] [Info] Start training from score -1.098612\n",
      "[LightGBM] [Info] Start training from score -1.098612\n",
      "[LightGBM] [Warning] No further splits with positive gain, best gain: -inf\n"
     ]
    },
    {
     "name": "stdout",
     "output_type": "stream",
     "text": [
      "[LightGBM] [Warning] Found whitespace in feature_names, replace with underlines\n",
      "[LightGBM] [Info] Auto-choosing col-wise multi-threading, the overhead of testing was 0.001593 seconds.\n",
      "You can set `force_col_wise=true` to remove the overhead.\n",
      "[LightGBM] [Info] Total Bins 1254\n",
      "[LightGBM] [Info] Number of data points in the train set: 3477, number of used features: 21\n",
      "[LightGBM] [Info] Start training from score -1.098612\n",
      "[LightGBM] [Info] Start training from score -1.098612\n",
      "[LightGBM] [Info] Start training from score -1.098612\n",
      "[LightGBM] [Warning] No further splits with positive gain, best gain: -inf\n"
     ]
    },
    {
     "name": "stdout",
     "output_type": "stream",
     "text": [
      "[LightGBM] [Warning] Found whitespace in feature_names, replace with underlines\n",
      "[LightGBM] [Info] Auto-choosing col-wise multi-threading, the overhead of testing was 0.001552 seconds.\n",
      "You can set `force_col_wise=true` to remove the overhead.\n",
      "[LightGBM] [Info] Total Bins 1254\n",
      "[LightGBM] [Info] Number of data points in the train set: 3477, number of used features: 21\n",
      "[LightGBM] [Info] Start training from score -1.098612\n",
      "[LightGBM] [Info] Start training from score -1.098612\n",
      "[LightGBM] [Info] Start training from score -1.098612\n",
      "[LightGBM] [Warning] No further splits with positive gain, best gain: -inf\n"
     ]
    },
    {
     "name": "stdout",
     "output_type": "stream",
     "text": [
      "[LightGBM] [Warning] Found whitespace in feature_names, replace with underlines\n",
      "[LightGBM] [Info] Auto-choosing row-wise multi-threading, the overhead of testing was 0.000459 seconds.\n",
      "You can set `force_row_wise=true` to remove the overhead.\n",
      "And if memory is not enough, you can set `force_col_wise=true`.\n",
      "[LightGBM] [Info] Total Bins 1254\n",
      "[LightGBM] [Info] Number of data points in the train set: 3477, number of used features: 21\n",
      "[LightGBM] [Info] Start training from score -1.098612\n",
      "[LightGBM] [Info] Start training from score -1.098612\n",
      "[LightGBM] [Info] Start training from score -1.098612\n",
      "[LightGBM] [Warning] No further splits with positive gain, best gain: -inf\n"
     ]
    },
    {
     "name": "stdout",
     "output_type": "stream",
     "text": [
      "[LightGBM] [Warning] Found whitespace in feature_names, replace with underlines\n",
      "[LightGBM] [Info] Auto-choosing col-wise multi-threading, the overhead of testing was 0.001209 seconds.\n",
      "You can set `force_col_wise=true` to remove the overhead.\n",
      "[LightGBM] [Info] Total Bins 1254\n",
      "[LightGBM] [Info] Number of data points in the train set: 3477, number of used features: 21\n",
      "[LightGBM] [Info] Start training from score -1.098612\n",
      "[LightGBM] [Info] Start training from score -1.098612\n",
      "[LightGBM] [Info] Start training from score -1.098612\n",
      "[LightGBM] [Warning] No further splits with positive gain, best gain: -inf\n"
     ]
    },
    {
     "name": "stdout",
     "output_type": "stream",
     "text": [
      "[LightGBM] [Warning] Found whitespace in feature_names, replace with underlines\n",
      "[LightGBM] [Info] Auto-choosing row-wise multi-threading, the overhead of testing was 0.000403 seconds.\n",
      "You can set `force_row_wise=true` to remove the overhead.\n",
      "And if memory is not enough, you can set `force_col_wise=true`.\n",
      "[LightGBM] [Info] Total Bins 1254\n",
      "[LightGBM] [Info] Number of data points in the train set: 3477, number of used features: 21\n",
      "[LightGBM] [Info] Start training from score -1.098612\n",
      "[LightGBM] [Info] Start training from score -1.098612\n",
      "[LightGBM] [Info] Start training from score -1.098612\n",
      "[LightGBM] [Warning] No further splits with positive gain, best gain: -inf\n"
     ]
    },
    {
     "name": "stdout",
     "output_type": "stream",
     "text": [
      "[LightGBM] [Warning] Found whitespace in feature_names, replace with underlines\n",
      "[LightGBM] [Info] Auto-choosing col-wise multi-threading, the overhead of testing was 0.001263 seconds.\n",
      "You can set `force_col_wise=true` to remove the overhead.\n",
      "[LightGBM] [Info] Total Bins 1254\n",
      "[LightGBM] [Info] Number of data points in the train set: 3477, number of used features: 21\n",
      "[LightGBM] [Info] Start training from score -1.098612\n",
      "[LightGBM] [Info] Start training from score -1.098612\n",
      "[LightGBM] [Info] Start training from score -1.098612\n",
      "[LightGBM] [Warning] No further splits with positive gain, best gain: -inf\n"
     ]
    },
    {
     "name": "stdout",
     "output_type": "stream",
     "text": [
      "[LightGBM] [Warning] Found whitespace in feature_names, replace with underlines\n",
      "[LightGBM] [Info] Auto-choosing row-wise multi-threading, the overhead of testing was 0.000392 seconds.\n",
      "You can set `force_row_wise=true` to remove the overhead.\n",
      "And if memory is not enough, you can set `force_col_wise=true`.\n",
      "[LightGBM] [Info] Total Bins 1254\n",
      "[LightGBM] [Info] Number of data points in the train set: 3477, number of used features: 21\n",
      "[LightGBM] [Info] Start training from score -1.098612\n",
      "[LightGBM] [Info] Start training from score -1.098612\n",
      "[LightGBM] [Info] Start training from score -1.098612\n",
      "[LightGBM] [Warning] No further splits with positive gain, best gain: -inf\n"
     ]
    },
    {
     "name": "stdout",
     "output_type": "stream",
     "text": [
      "[LightGBM] [Warning] Found whitespace in feature_names, replace with underlines\n",
      "[LightGBM] [Info] Auto-choosing col-wise multi-threading, the overhead of testing was 0.001258 seconds.\n",
      "You can set `force_col_wise=true` to remove the overhead.\n",
      "[LightGBM] [Info] Total Bins 1254\n",
      "[LightGBM] [Info] Number of data points in the train set: 3477, number of used features: 21\n",
      "[LightGBM] [Info] Start training from score -1.098612\n",
      "[LightGBM] [Info] Start training from score -1.098612\n",
      "[LightGBM] [Info] Start training from score -1.098612\n",
      "[LightGBM] [Warning] No further splits with positive gain, best gain: -inf\n"
     ]
    },
    {
     "name": "stdout",
     "output_type": "stream",
     "text": [
      "[LightGBM] [Warning] Found whitespace in feature_names, replace with underlines\n",
      "[LightGBM] [Info] Auto-choosing col-wise multi-threading, the overhead of testing was 0.001454 seconds.\n",
      "You can set `force_col_wise=true` to remove the overhead.\n",
      "[LightGBM] [Info] Total Bins 1254\n",
      "[LightGBM] [Info] Number of data points in the train set: 3477, number of used features: 21\n",
      "[LightGBM] [Info] Start training from score -1.098612\n",
      "[LightGBM] [Info] Start training from score -1.098612\n",
      "[LightGBM] [Info] Start training from score -1.098612\n",
      "[LightGBM] [Warning] No further splits with positive gain, best gain: -inf\n"
     ]
    },
    {
     "name": "stdout",
     "output_type": "stream",
     "text": [
      "[LightGBM] [Warning] Found whitespace in feature_names, replace with underlines\n",
      "[LightGBM] [Info] Auto-choosing col-wise multi-threading, the overhead of testing was 0.001282 seconds.\n",
      "You can set `force_col_wise=true` to remove the overhead.\n",
      "[LightGBM] [Info] Total Bins 1254\n",
      "[LightGBM] [Info] Number of data points in the train set: 3477, number of used features: 21\n",
      "[LightGBM] [Info] Start training from score -1.098612\n",
      "[LightGBM] [Info] Start training from score -1.098612\n",
      "[LightGBM] [Info] Start training from score -1.098612\n",
      "[LightGBM] [Warning] No further splits with positive gain, best gain: -inf\n"
     ]
    },
    {
     "name": "stdout",
     "output_type": "stream",
     "text": [
      "[LightGBM] [Warning] Found whitespace in feature_names, replace with underlines\n",
      "[LightGBM] [Info] Auto-choosing row-wise multi-threading, the overhead of testing was 0.000484 seconds.\n",
      "You can set `force_row_wise=true` to remove the overhead.\n",
      "And if memory is not enough, you can set `force_col_wise=true`.\n",
      "[LightGBM] [Info] Total Bins 1254\n",
      "[LightGBM] [Info] Number of data points in the train set: 3477, number of used features: 21\n",
      "[LightGBM] [Info] Start training from score -1.098612\n",
      "[LightGBM] [Info] Start training from score -1.098612\n",
      "[LightGBM] [Info] Start training from score -1.098612\n",
      "[LightGBM] [Warning] No further splits with positive gain, best gain: -inf\n"
     ]
    },
    {
     "name": "stdout",
     "output_type": "stream",
     "text": [
      "[LightGBM] [Warning] Found whitespace in feature_names, replace with underlines\n",
      "[LightGBM] [Info] Auto-choosing row-wise multi-threading, the overhead of testing was 0.000377 seconds.\n",
      "You can set `force_row_wise=true` to remove the overhead.\n",
      "And if memory is not enough, you can set `force_col_wise=true`.\n",
      "[LightGBM] [Info] Total Bins 1254\n",
      "[LightGBM] [Info] Number of data points in the train set: 3477, number of used features: 21\n",
      "[LightGBM] [Info] Start training from score -1.098612\n",
      "[LightGBM] [Info] Start training from score -1.098612\n",
      "[LightGBM] [Info] Start training from score -1.098612\n",
      "[LightGBM] [Warning] No further splits with positive gain, best gain: -inf\n"
     ]
    },
    {
     "name": "stdout",
     "output_type": "stream",
     "text": [
      "[LightGBM] [Warning] Found whitespace in feature_names, replace with underlines\n",
      "[LightGBM] [Info] Auto-choosing row-wise multi-threading, the overhead of testing was 0.000382 seconds.\n",
      "You can set `force_row_wise=true` to remove the overhead.\n",
      "And if memory is not enough, you can set `force_col_wise=true`.\n",
      "[LightGBM] [Info] Total Bins 1254\n",
      "[LightGBM] [Info] Number of data points in the train set: 3477, number of used features: 21\n",
      "[LightGBM] [Info] Start training from score -1.098612\n",
      "[LightGBM] [Info] Start training from score -1.098612\n",
      "[LightGBM] [Info] Start training from score -1.098612\n",
      "[LightGBM] [Warning] No further splits with positive gain, best gain: -inf\n"
     ]
    },
    {
     "name": "stdout",
     "output_type": "stream",
     "text": [
      "[LightGBM] [Warning] Found whitespace in feature_names, replace with underlines\n",
      "[LightGBM] [Info] Auto-choosing row-wise multi-threading, the overhead of testing was 0.000365 seconds.\n",
      "You can set `force_row_wise=true` to remove the overhead.\n",
      "And if memory is not enough, you can set `force_col_wise=true`.\n",
      "[LightGBM] [Info] Total Bins 1254\n",
      "[LightGBM] [Info] Number of data points in the train set: 3477, number of used features: 21\n",
      "[LightGBM] [Info] Start training from score -1.098612\n",
      "[LightGBM] [Info] Start training from score -1.098612\n",
      "[LightGBM] [Info] Start training from score -1.098612\n",
      "[LightGBM] [Warning] No further splits with positive gain, best gain: -inf\n"
     ]
    },
    {
     "name": "stdout",
     "output_type": "stream",
     "text": [
      "[LightGBM] [Warning] Found whitespace in feature_names, replace with underlines\n",
      "[LightGBM] [Info] Auto-choosing col-wise multi-threading, the overhead of testing was 0.000786 seconds.\n",
      "You can set `force_col_wise=true` to remove the overhead.\n",
      "[LightGBM] [Info] Total Bins 1254\n",
      "[LightGBM] [Info] Number of data points in the train set: 3477, number of used features: 21\n",
      "[LightGBM] [Info] Start training from score -1.098612\n",
      "[LightGBM] [Info] Start training from score -1.098612\n",
      "[LightGBM] [Info] Start training from score -1.098612\n",
      "[LightGBM] [Warning] No further splits with positive gain, best gain: -inf\n"
     ]
    },
    {
     "name": "stdout",
     "output_type": "stream",
     "text": [
      "680 ms ± 65.4 ms per loop (mean ± std. dev. of 5 runs, 5 loops each)\n",
      "[LightGBM] [Warning] Found whitespace in feature_names, replace with underlines\n",
      "[LightGBM] [Info] Auto-choosing row-wise multi-threading, the overhead of testing was 0.000362 seconds.\n",
      "You can set `force_row_wise=true` to remove the overhead.\n",
      "And if memory is not enough, you can set `force_col_wise=true`.\n",
      "[LightGBM] [Info] Total Bins 1254\n",
      "[LightGBM] [Info] Number of data points in the train set: 3477, number of used features: 21\n",
      "[LightGBM] [Info] Start training from score -1.098612\n",
      "[LightGBM] [Info] Start training from score -1.098612\n",
      "[LightGBM] [Info] Start training from score -1.098612\n",
      "[LightGBM] [Warning] No further splits with positive gain, best gain: -inf\n"
     ]
    },
    {
     "name": "stdout",
     "output_type": "stream",
     "text": [
      "Accuracy : 0.9561128526645768\n",
      "F1 : 0.9555792458398668\n",
      "Recall : 0.9561128526645768\n",
      "Precision : 0.9554740609172917\n",
      "Jaccard : 0.9172395981761186\n",
      "Kappa : 0.8783404614672151\n"
     ]
    }
   ],
   "source": [
    "lgbm = LGBMClassifier()\n",
    "result = %timeit -o -n 5 -r 5 lgbm.fit(X_train, y_train)\n",
    "lgbm.fit(X_train, y_train)\n",
    "measures = performance_measures(\"LightGBM\",lgbm, X_test, y_test, performanceMeasuresDF)\n",
    "performanceMeasuresDF.loc[len(performanceMeasuresDF)] = measures\n",
    "exec_time += result.average"
   ]
  },
  {
   "cell_type": "code",
   "execution_count": 22,
   "id": "82bb5d2d",
   "metadata": {
    "execution": {
     "iopub.execute_input": "2024-07-14T06:21:00.930522Z",
     "iopub.status.busy": "2024-07-14T06:21:00.929998Z",
     "iopub.status.idle": "2024-07-14T06:21:00.940599Z",
     "shell.execute_reply": "2024-07-14T06:21:00.938332Z"
    },
    "papermill": {
     "duration": 0.030636,
     "end_time": "2024-07-14T06:21:00.942530",
     "exception": false,
     "start_time": "2024-07-14T06:21:00.911894",
     "status": "completed"
    },
    "tags": []
   },
   "outputs": [],
   "source": [
    "performanceMeasuresDF[\"Weighted_Score\"] = performanceMeasuresDF[\"Accuracy\"] + performanceMeasuresDF[\"F1-Score\"] + performanceMeasuresDF[\"Recall\"] + performanceMeasuresDF[\"Precision\"] + performanceMeasuresDF[\"Jaccard-Score\"] + performanceMeasuresDF[\"Kappa-Score\"]"
   ]
  },
  {
   "cell_type": "code",
   "execution_count": 23,
   "id": "ab45e5be",
   "metadata": {
    "execution": {
     "iopub.execute_input": "2024-07-14T06:21:00.992251Z",
     "iopub.status.busy": "2024-07-14T06:21:00.990449Z",
     "iopub.status.idle": "2024-07-14T06:21:00.999304Z",
     "shell.execute_reply": "2024-07-14T06:21:00.998776Z"
    },
    "papermill": {
     "duration": 0.037342,
     "end_time": "2024-07-14T06:21:00.999304",
     "exception": false,
     "start_time": "2024-07-14T06:21:00.961962",
     "status": "completed"
    },
    "tags": []
   },
   "outputs": [],
   "source": [
    "performanceTable = performanceMeasuresDF.sort_values(by = \"Weighted_Score\",ascending= False)"
   ]
  },
  {
   "cell_type": "code",
   "execution_count": 24,
   "id": "f310ee93",
   "metadata": {
    "execution": {
     "iopub.execute_input": "2024-07-14T06:21:01.044648Z",
     "iopub.status.busy": "2024-07-14T06:21:01.044648Z",
     "iopub.status.idle": "2024-07-14T06:21:01.533160Z",
     "shell.execute_reply": "2024-07-14T06:21:01.533160Z"
    },
    "papermill": {
     "duration": 0.511446,
     "end_time": "2024-07-14T06:21:01.537273",
     "exception": false,
     "start_time": "2024-07-14T06:21:01.025827",
     "status": "completed"
    },
    "tags": []
   },
   "outputs": [],
   "source": [
    "performanceTable.to_excel(\"scripts/new_results/\"+ scaler_name + '.xlsx', index = False)"
   ]
  },
  {
   "cell_type": "code",
   "execution_count": 25,
   "id": "048c0a6a",
   "metadata": {
    "execution": {
     "iopub.execute_input": "2024-07-14T06:21:01.573932Z",
     "iopub.status.busy": "2024-07-14T06:21:01.573932Z",
     "iopub.status.idle": "2024-07-14T06:21:01.589536Z",
     "shell.execute_reply": "2024-07-14T06:21:01.589027Z"
    },
    "papermill": {
     "duration": 0.045861,
     "end_time": "2024-07-14T06:21:01.590544",
     "exception": false,
     "start_time": "2024-07-14T06:21:01.544683",
     "status": "completed"
    },
    "tags": []
   },
   "outputs": [],
   "source": [
    "with open(r\"scripts/new_results/\" + scaler_name + r\" Timings.txt\", \"+a\") as file:\n",
    "    file.write(str(exec_time) + \"\\n\")"
   ]
  }
 ],
 "metadata": {
  "kernelspec": {
   "display_name": "Python 3 (ipykernel)",
   "language": "python",
   "name": "python3"
  },
  "language_info": {
   "codemirror_mode": {
    "name": "ipython",
    "version": 3
   },
   "file_extension": ".py",
   "mimetype": "text/x-python",
   "name": "python",
   "nbconvert_exporter": "python",
   "pygments_lexer": "ipython3",
   "version": "3.11.9"
  },
  "papermill": {
   "default_parameters": {},
   "duration": 214.009622,
   "end_time": "2024-07-14T06:21:02.376018",
   "environment_variables": {},
   "exception": null,
   "input_path": "scripts/robust_scaler.ipynb",
   "output_path": "scripts/out/robust_scaler.ipynb",
   "parameters": {},
   "start_time": "2024-07-14T06:17:28.366396",
   "version": "2.6.0"
  }
 },
 "nbformat": 4,
 "nbformat_minor": 5
}