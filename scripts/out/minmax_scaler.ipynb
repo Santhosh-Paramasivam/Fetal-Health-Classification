{
 "cells": [
  {
   "cell_type": "code",
   "execution_count": 1,
   "id": "d63202a3",
   "metadata": {
    "execution": {
     "iopub.execute_input": "2024-07-14T06:12:06.043776Z",
     "iopub.status.busy": "2024-07-14T06:12:06.043776Z",
     "iopub.status.idle": "2024-07-14T06:12:08.713125Z",
     "shell.execute_reply": "2024-07-14T06:12:08.713125Z"
    },
    "papermill": {
     "duration": 2.693665,
     "end_time": "2024-07-14T06:12:08.719052",
     "exception": false,
     "start_time": "2024-07-14T06:12:06.025387",
     "status": "completed"
    },
    "tags": []
   },
   "outputs": [],
   "source": [
    "import numpy as np\n",
    "import pandas as pd\n",
    "import seaborn as sns\n",
    "import matplotlib.pyplot as plt\n",
    "from sklearn import preprocessing\n",
    "from sklearn.model_selection import train_test_split\n",
    "from performance_measures import performance_measures\n",
    "import timeit\n",
    "from imblearn.over_sampling import RandomOverSampler"
   ]
  },
  {
   "cell_type": "code",
   "execution_count": 2,
   "id": "28cb67d8",
   "metadata": {
    "execution": {
     "iopub.execute_input": "2024-07-14T06:12:08.738717Z",
     "iopub.status.busy": "2024-07-14T06:12:08.730508Z",
     "iopub.status.idle": "2024-07-14T06:12:08.831491Z",
     "shell.execute_reply": "2024-07-14T06:12:08.831259Z"
    },
    "papermill": {
     "duration": 0.106437,
     "end_time": "2024-07-14T06:12:08.834689",
     "exception": false,
     "start_time": "2024-07-14T06:12:08.728252",
     "status": "completed"
    },
    "tags": []
   },
   "outputs": [],
   "source": [
    "from sklearn.linear_model import LogisticRegression\n",
    "from sklearn.svm import SVC \n",
    "from sklearn.neighbors import KNeighborsClassifier\n",
    "from sklearn.naive_bayes import GaussianNB \n",
    "from sklearn.tree import DecisionTreeClassifier\n",
    "from sklearn.ensemble import RandomForestClassifier\n",
    "from sklearn.ensemble import AdaBoostClassifier\n",
    "from sklearn.ensemble import GradientBoostingClassifier \n",
    "from xgboost import XGBClassifier\n",
    "from lightgbm import LGBMClassifier"
   ]
  },
  {
   "cell_type": "code",
   "execution_count": 3,
   "id": "9366cca5",
   "metadata": {
    "execution": {
     "iopub.execute_input": "2024-07-14T06:12:08.853636Z",
     "iopub.status.busy": "2024-07-14T06:12:08.845075Z",
     "iopub.status.idle": "2024-07-14T06:12:08.883230Z",
     "shell.execute_reply": "2024-07-14T06:12:08.882696Z"
    },
    "papermill": {
     "duration": 0.048067,
     "end_time": "2024-07-14T06:12:08.885770",
     "exception": false,
     "start_time": "2024-07-14T06:12:08.837703",
     "status": "completed"
    },
    "tags": []
   },
   "outputs": [],
   "source": [
    "FetalHealth = pd.read_csv(r\"source\\fetal_health.csv\")"
   ]
  },
  {
   "cell_type": "markdown",
   "id": "f6356975",
   "metadata": {
    "papermill": {
     "duration": 0.011199,
     "end_time": "2024-07-14T06:12:08.908163",
     "exception": false,
     "start_time": "2024-07-14T06:12:08.896964",
     "status": "completed"
    },
    "tags": []
   },
   "source": [
    "Analysis consists of :\n",
    "\n",
    "1. Count plot\n",
    "2. Correlation heat map"
   ]
  },
  {
   "cell_type": "markdown",
   "id": "10940254",
   "metadata": {
    "papermill": {
     "duration": 0.015405,
     "end_time": "2024-07-14T06:12:08.923568",
     "exception": false,
     "start_time": "2024-07-14T06:12:08.908163",
     "status": "completed"
    },
    "tags": []
   },
   "source": [
    "Data Preprocessing :\n",
    "\n",
    "1. Scaling\n",
    "2. X,y and test, train division"
   ]
  },
  {
   "cell_type": "code",
   "execution_count": 4,
   "id": "01549301",
   "metadata": {
    "execution": {
     "iopub.execute_input": "2024-07-14T06:12:08.943482Z",
     "iopub.status.busy": "2024-07-14T06:12:08.942543Z",
     "iopub.status.idle": "2024-07-14T06:12:08.951124Z",
     "shell.execute_reply": "2024-07-14T06:12:08.950609Z"
    },
    "papermill": {
     "duration": 0.027719,
     "end_time": "2024-07-14T06:12:08.954799",
     "exception": false,
     "start_time": "2024-07-14T06:12:08.927080",
     "status": "completed"
    },
    "tags": []
   },
   "outputs": [],
   "source": [
    "X = FetalHealth.drop(['fetal_health'], axis = 1)\n",
    "y = FetalHealth['fetal_health']"
   ]
  },
  {
   "cell_type": "code",
   "execution_count": 5,
   "id": "0afd816d",
   "metadata": {
    "execution": {
     "iopub.execute_input": "2024-07-14T06:12:08.959400Z",
     "iopub.status.busy": "2024-07-14T06:12:08.959400Z",
     "iopub.status.idle": "2024-07-14T06:12:09.084245Z",
     "shell.execute_reply": "2024-07-14T06:12:09.084245Z"
    },
    "papermill": {
     "duration": 0.128716,
     "end_time": "2024-07-14T06:12:09.088116",
     "exception": false,
     "start_time": "2024-07-14T06:12:08.959400",
     "status": "completed"
    },
    "tags": []
   },
   "outputs": [
    {
     "data": {
      "text/html": [
       "<div>\n",
       "<style scoped>\n",
       "    .dataframe tbody tr th:only-of-type {\n",
       "        vertical-align: middle;\n",
       "    }\n",
       "\n",
       "    .dataframe tbody tr th {\n",
       "        vertical-align: top;\n",
       "    }\n",
       "\n",
       "    .dataframe thead th {\n",
       "        text-align: right;\n",
       "    }\n",
       "</style>\n",
       "<table border=\"1\" class=\"dataframe\">\n",
       "  <thead>\n",
       "    <tr style=\"text-align: right;\">\n",
       "      <th></th>\n",
       "      <th>count</th>\n",
       "      <th>mean</th>\n",
       "      <th>std</th>\n",
       "      <th>min</th>\n",
       "      <th>25%</th>\n",
       "      <th>50%</th>\n",
       "      <th>75%</th>\n",
       "      <th>max</th>\n",
       "    </tr>\n",
       "  </thead>\n",
       "  <tbody>\n",
       "    <tr>\n",
       "      <th>baseline value</th>\n",
       "      <td>2126.0</td>\n",
       "      <td>0.505627</td>\n",
       "      <td>0.182238</td>\n",
       "      <td>0.0</td>\n",
       "      <td>0.370370</td>\n",
       "      <td>0.500000</td>\n",
       "      <td>0.629630</td>\n",
       "      <td>1.0</td>\n",
       "    </tr>\n",
       "    <tr>\n",
       "      <th>accelerations</th>\n",
       "      <td>2126.0</td>\n",
       "      <td>0.167277</td>\n",
       "      <td>0.203452</td>\n",
       "      <td>0.0</td>\n",
       "      <td>0.000000</td>\n",
       "      <td>0.105263</td>\n",
       "      <td>0.315789</td>\n",
       "      <td>1.0</td>\n",
       "    </tr>\n",
       "    <tr>\n",
       "      <th>fetal_movement</th>\n",
       "      <td>2126.0</td>\n",
       "      <td>0.019710</td>\n",
       "      <td>0.097018</td>\n",
       "      <td>0.0</td>\n",
       "      <td>0.000000</td>\n",
       "      <td>0.000000</td>\n",
       "      <td>0.006237</td>\n",
       "      <td>1.0</td>\n",
       "    </tr>\n",
       "    <tr>\n",
       "      <th>uterine_contractions</th>\n",
       "      <td>2126.0</td>\n",
       "      <td>0.291094</td>\n",
       "      <td>0.196405</td>\n",
       "      <td>0.0</td>\n",
       "      <td>0.133333</td>\n",
       "      <td>0.266667</td>\n",
       "      <td>0.466667</td>\n",
       "      <td>1.0</td>\n",
       "    </tr>\n",
       "    <tr>\n",
       "      <th>light_decelerations</th>\n",
       "      <td>2126.0</td>\n",
       "      <td>0.125964</td>\n",
       "      <td>0.197347</td>\n",
       "      <td>0.0</td>\n",
       "      <td>0.000000</td>\n",
       "      <td>0.000000</td>\n",
       "      <td>0.200000</td>\n",
       "      <td>1.0</td>\n",
       "    </tr>\n",
       "    <tr>\n",
       "      <th>severe_decelerations</th>\n",
       "      <td>2126.0</td>\n",
       "      <td>0.003293</td>\n",
       "      <td>0.057300</td>\n",
       "      <td>0.0</td>\n",
       "      <td>0.000000</td>\n",
       "      <td>0.000000</td>\n",
       "      <td>0.000000</td>\n",
       "      <td>1.0</td>\n",
       "    </tr>\n",
       "    <tr>\n",
       "      <th>prolongued_decelerations</th>\n",
       "      <td>2126.0</td>\n",
       "      <td>0.031703</td>\n",
       "      <td>0.117990</td>\n",
       "      <td>0.0</td>\n",
       "      <td>0.000000</td>\n",
       "      <td>0.000000</td>\n",
       "      <td>0.000000</td>\n",
       "      <td>1.0</td>\n",
       "    </tr>\n",
       "    <tr>\n",
       "      <th>abnormal_short_term_variability</th>\n",
       "      <td>2126.0</td>\n",
       "      <td>0.466535</td>\n",
       "      <td>0.229238</td>\n",
       "      <td>0.0</td>\n",
       "      <td>0.266667</td>\n",
       "      <td>0.493333</td>\n",
       "      <td>0.653333</td>\n",
       "      <td>1.0</td>\n",
       "    </tr>\n",
       "    <tr>\n",
       "      <th>mean_value_of_short_term_variability</th>\n",
       "      <td>2126.0</td>\n",
       "      <td>0.166586</td>\n",
       "      <td>0.129888</td>\n",
       "      <td>0.0</td>\n",
       "      <td>0.073529</td>\n",
       "      <td>0.147059</td>\n",
       "      <td>0.220588</td>\n",
       "      <td>1.0</td>\n",
       "    </tr>\n",
       "    <tr>\n",
       "      <th>percentage_of_time_with_abnormal_long_term_variability</th>\n",
       "      <td>2126.0</td>\n",
       "      <td>0.108205</td>\n",
       "      <td>0.202164</td>\n",
       "      <td>0.0</td>\n",
       "      <td>0.000000</td>\n",
       "      <td>0.000000</td>\n",
       "      <td>0.120879</td>\n",
       "      <td>1.0</td>\n",
       "    </tr>\n",
       "    <tr>\n",
       "      <th>mean_value_of_long_term_variability</th>\n",
       "      <td>2126.0</td>\n",
       "      <td>0.161492</td>\n",
       "      <td>0.111011</td>\n",
       "      <td>0.0</td>\n",
       "      <td>0.090730</td>\n",
       "      <td>0.145957</td>\n",
       "      <td>0.213018</td>\n",
       "      <td>1.0</td>\n",
       "    </tr>\n",
       "    <tr>\n",
       "      <th>histogram_width</th>\n",
       "      <td>2126.0</td>\n",
       "      <td>0.381050</td>\n",
       "      <td>0.220089</td>\n",
       "      <td>0.0</td>\n",
       "      <td>0.192090</td>\n",
       "      <td>0.364407</td>\n",
       "      <td>0.548023</td>\n",
       "      <td>1.0</td>\n",
       "    </tr>\n",
       "    <tr>\n",
       "      <th>histogram_min</th>\n",
       "      <td>2126.0</td>\n",
       "      <td>0.399812</td>\n",
       "      <td>0.271195</td>\n",
       "      <td>0.0</td>\n",
       "      <td>0.155963</td>\n",
       "      <td>0.394495</td>\n",
       "      <td>0.642202</td>\n",
       "      <td>1.0</td>\n",
       "    </tr>\n",
       "    <tr>\n",
       "      <th>histogram_max</th>\n",
       "      <td>2126.0</td>\n",
       "      <td>0.362288</td>\n",
       "      <td>0.154691</td>\n",
       "      <td>0.0</td>\n",
       "      <td>0.258621</td>\n",
       "      <td>0.344828</td>\n",
       "      <td>0.448276</td>\n",
       "      <td>1.0</td>\n",
       "    </tr>\n",
       "    <tr>\n",
       "      <th>histogram_number_of_peaks</th>\n",
       "      <td>2126.0</td>\n",
       "      <td>0.226011</td>\n",
       "      <td>0.163855</td>\n",
       "      <td>0.0</td>\n",
       "      <td>0.111111</td>\n",
       "      <td>0.166667</td>\n",
       "      <td>0.333333</td>\n",
       "      <td>1.0</td>\n",
       "    </tr>\n",
       "    <tr>\n",
       "      <th>histogram_number_of_zeroes</th>\n",
       "      <td>2126.0</td>\n",
       "      <td>0.032361</td>\n",
       "      <td>0.070606</td>\n",
       "      <td>0.0</td>\n",
       "      <td>0.000000</td>\n",
       "      <td>0.000000</td>\n",
       "      <td>0.000000</td>\n",
       "      <td>1.0</td>\n",
       "    </tr>\n",
       "    <tr>\n",
       "      <th>histogram_mode</th>\n",
       "      <td>2126.0</td>\n",
       "      <td>0.609858</td>\n",
       "      <td>0.128987</td>\n",
       "      <td>0.0</td>\n",
       "      <td>0.543307</td>\n",
       "      <td>0.622047</td>\n",
       "      <td>0.692913</td>\n",
       "      <td>1.0</td>\n",
       "    </tr>\n",
       "    <tr>\n",
       "      <th>histogram_mean</th>\n",
       "      <td>2126.0</td>\n",
       "      <td>0.565234</td>\n",
       "      <td>0.143061</td>\n",
       "      <td>0.0</td>\n",
       "      <td>0.477064</td>\n",
       "      <td>0.577982</td>\n",
       "      <td>0.660550</td>\n",
       "      <td>1.0</td>\n",
       "    </tr>\n",
       "    <tr>\n",
       "      <th>histogram_median</th>\n",
       "      <td>2126.0</td>\n",
       "      <td>0.560462</td>\n",
       "      <td>0.132721</td>\n",
       "      <td>0.0</td>\n",
       "      <td>0.477064</td>\n",
       "      <td>0.568807</td>\n",
       "      <td>0.651376</td>\n",
       "      <td>1.0</td>\n",
       "    </tr>\n",
       "    <tr>\n",
       "      <th>histogram_variance</th>\n",
       "      <td>2126.0</td>\n",
       "      <td>0.069919</td>\n",
       "      <td>0.107724</td>\n",
       "      <td>0.0</td>\n",
       "      <td>0.007435</td>\n",
       "      <td>0.026022</td>\n",
       "      <td>0.089219</td>\n",
       "      <td>1.0</td>\n",
       "    </tr>\n",
       "    <tr>\n",
       "      <th>histogram_tendency</th>\n",
       "      <td>2126.0</td>\n",
       "      <td>0.660160</td>\n",
       "      <td>0.305414</td>\n",
       "      <td>0.0</td>\n",
       "      <td>0.500000</td>\n",
       "      <td>0.500000</td>\n",
       "      <td>1.000000</td>\n",
       "      <td>1.0</td>\n",
       "    </tr>\n",
       "  </tbody>\n",
       "</table>\n",
       "</div>"
      ],
      "text/plain": [
       "                                                     count      mean  \\\n",
       "baseline value                                      2126.0  0.505627   \n",
       "accelerations                                       2126.0  0.167277   \n",
       "fetal_movement                                      2126.0  0.019710   \n",
       "uterine_contractions                                2126.0  0.291094   \n",
       "light_decelerations                                 2126.0  0.125964   \n",
       "severe_decelerations                                2126.0  0.003293   \n",
       "prolongued_decelerations                            2126.0  0.031703   \n",
       "abnormal_short_term_variability                     2126.0  0.466535   \n",
       "mean_value_of_short_term_variability                2126.0  0.166586   \n",
       "percentage_of_time_with_abnormal_long_term_vari...  2126.0  0.108205   \n",
       "mean_value_of_long_term_variability                 2126.0  0.161492   \n",
       "histogram_width                                     2126.0  0.381050   \n",
       "histogram_min                                       2126.0  0.399812   \n",
       "histogram_max                                       2126.0  0.362288   \n",
       "histogram_number_of_peaks                           2126.0  0.226011   \n",
       "histogram_number_of_zeroes                          2126.0  0.032361   \n",
       "histogram_mode                                      2126.0  0.609858   \n",
       "histogram_mean                                      2126.0  0.565234   \n",
       "histogram_median                                    2126.0  0.560462   \n",
       "histogram_variance                                  2126.0  0.069919   \n",
       "histogram_tendency                                  2126.0  0.660160   \n",
       "\n",
       "                                                         std  min       25%  \\\n",
       "baseline value                                      0.182238  0.0  0.370370   \n",
       "accelerations                                       0.203452  0.0  0.000000   \n",
       "fetal_movement                                      0.097018  0.0  0.000000   \n",
       "uterine_contractions                                0.196405  0.0  0.133333   \n",
       "light_decelerations                                 0.197347  0.0  0.000000   \n",
       "severe_decelerations                                0.057300  0.0  0.000000   \n",
       "prolongued_decelerations                            0.117990  0.0  0.000000   \n",
       "abnormal_short_term_variability                     0.229238  0.0  0.266667   \n",
       "mean_value_of_short_term_variability                0.129888  0.0  0.073529   \n",
       "percentage_of_time_with_abnormal_long_term_vari...  0.202164  0.0  0.000000   \n",
       "mean_value_of_long_term_variability                 0.111011  0.0  0.090730   \n",
       "histogram_width                                     0.220089  0.0  0.192090   \n",
       "histogram_min                                       0.271195  0.0  0.155963   \n",
       "histogram_max                                       0.154691  0.0  0.258621   \n",
       "histogram_number_of_peaks                           0.163855  0.0  0.111111   \n",
       "histogram_number_of_zeroes                          0.070606  0.0  0.000000   \n",
       "histogram_mode                                      0.128987  0.0  0.543307   \n",
       "histogram_mean                                      0.143061  0.0  0.477064   \n",
       "histogram_median                                    0.132721  0.0  0.477064   \n",
       "histogram_variance                                  0.107724  0.0  0.007435   \n",
       "histogram_tendency                                  0.305414  0.0  0.500000   \n",
       "\n",
       "                                                         50%       75%  max  \n",
       "baseline value                                      0.500000  0.629630  1.0  \n",
       "accelerations                                       0.105263  0.315789  1.0  \n",
       "fetal_movement                                      0.000000  0.006237  1.0  \n",
       "uterine_contractions                                0.266667  0.466667  1.0  \n",
       "light_decelerations                                 0.000000  0.200000  1.0  \n",
       "severe_decelerations                                0.000000  0.000000  1.0  \n",
       "prolongued_decelerations                            0.000000  0.000000  1.0  \n",
       "abnormal_short_term_variability                     0.493333  0.653333  1.0  \n",
       "mean_value_of_short_term_variability                0.147059  0.220588  1.0  \n",
       "percentage_of_time_with_abnormal_long_term_vari...  0.000000  0.120879  1.0  \n",
       "mean_value_of_long_term_variability                 0.145957  0.213018  1.0  \n",
       "histogram_width                                     0.364407  0.548023  1.0  \n",
       "histogram_min                                       0.394495  0.642202  1.0  \n",
       "histogram_max                                       0.344828  0.448276  1.0  \n",
       "histogram_number_of_peaks                           0.166667  0.333333  1.0  \n",
       "histogram_number_of_zeroes                          0.000000  0.000000  1.0  \n",
       "histogram_mode                                      0.622047  0.692913  1.0  \n",
       "histogram_mean                                      0.577982  0.660550  1.0  \n",
       "histogram_median                                    0.568807  0.651376  1.0  \n",
       "histogram_variance                                  0.026022  0.089219  1.0  \n",
       "histogram_tendency                                  0.500000  1.000000  1.0  "
      ]
     },
     "execution_count": 5,
     "metadata": {},
     "output_type": "execute_result"
    }
   ],
   "source": [
    "col_names = list(X.columns)\n",
    "# Three different scaling methods\n",
    "\n",
    "#s_scaler = preprocessing.StandardScaler()\n",
    "s_scaler = preprocessing.MinMaxScaler()\n",
    "#s_scaler = preprocessing.RobustScaler()\n",
    "#s_scaler = preprocessing.MaxAbsScaler()\n",
    "#s_scaler = preprocessing.Normalizer()\n",
    "#s_scaler = preprocessing.QuantileTransformer()\n",
    "\n",
    "scaler_name = \"MinMax Scaler\"\n",
    "noscale = False\n",
    "if(noscale):\n",
    "    X_df = X\n",
    "else:\n",
    "    X_df= s_scaler.fit_transform(X)\n",
    "\n",
    "X_df = pd.DataFrame(X_df, columns=col_names)   \n",
    "X_df.describe().T"
   ]
  },
  {
   "cell_type": "code",
   "execution_count": 6,
   "id": "bfdcc8c5",
   "metadata": {
    "execution": {
     "iopub.execute_input": "2024-07-14T06:12:09.107972Z",
     "iopub.status.busy": "2024-07-14T06:12:09.105835Z",
     "iopub.status.idle": "2024-07-14T06:12:09.118910Z",
     "shell.execute_reply": "2024-07-14T06:12:09.118910Z"
    },
    "papermill": {
     "duration": 0.031427,
     "end_time": "2024-07-14T06:12:09.123077",
     "exception": false,
     "start_time": "2024-07-14T06:12:09.091650",
     "status": "completed"
    },
    "tags": []
   },
   "outputs": [],
   "source": [
    "X_train, X_test, y_train,y_test = train_test_split(X_df,y,test_size=0.3,random_state=42)"
   ]
  },
  {
   "cell_type": "code",
   "execution_count": 7,
   "id": "b176de27",
   "metadata": {
    "execution": {
     "iopub.execute_input": "2024-07-14T06:12:09.140760Z",
     "iopub.status.busy": "2024-07-14T06:12:09.140760Z",
     "iopub.status.idle": "2024-07-14T06:12:09.160438Z",
     "shell.execute_reply": "2024-07-14T06:12:09.159071Z"
    },
    "papermill": {
     "duration": 0.033765,
     "end_time": "2024-07-14T06:12:09.161364",
     "exception": false,
     "start_time": "2024-07-14T06:12:09.127599",
     "status": "completed"
    },
    "tags": []
   },
   "outputs": [],
   "source": [
    "ros = RandomOverSampler(random_state=42)\n",
    "X_train,y_train = ros.fit_resample(X_train,y_train)"
   ]
  },
  {
   "cell_type": "code",
   "execution_count": 8,
   "id": "b663a7bb",
   "metadata": {
    "execution": {
     "iopub.execute_input": "2024-07-14T06:12:09.181928Z",
     "iopub.status.busy": "2024-07-14T06:12:09.181928Z",
     "iopub.status.idle": "2024-07-14T06:12:09.197502Z",
     "shell.execute_reply": "2024-07-14T06:12:09.196406Z"
    },
    "papermill": {
     "duration": 0.023948,
     "end_time": "2024-07-14T06:12:09.198688",
     "exception": false,
     "start_time": "2024-07-14T06:12:09.174740",
     "status": "completed"
    },
    "tags": []
   },
   "outputs": [],
   "source": [
    "performanceMeasuresDF = pd.DataFrame(columns=['Classifier Model', 'Accuracy','F1-Score','Recall','Precision','Jaccard-Score','Kappa-Score'])"
   ]
  },
  {
   "cell_type": "code",
   "execution_count": 9,
   "id": "64add3e8",
   "metadata": {
    "execution": {
     "iopub.execute_input": "2024-07-14T06:12:09.220420Z",
     "iopub.status.busy": "2024-07-14T06:12:09.219403Z",
     "iopub.status.idle": "2024-07-14T06:12:12.827594Z",
     "shell.execute_reply": "2024-07-14T06:12:12.827594Z"
    },
    "papermill": {
     "duration": 3.622027,
     "end_time": "2024-07-14T06:12:12.830671",
     "exception": false,
     "start_time": "2024-07-14T06:12:09.208644",
     "status": "completed"
    },
    "tags": []
   },
   "outputs": [
    {
     "name": "stdout",
     "output_type": "stream",
     "text": [
      "138 ms ± 4.8 ms per loop (mean ± std. dev. of 5 runs, 5 loops each)\n",
      "Accuracy : 0.8087774294670846\n",
      "F1 : 0.8270736293766521\n",
      "Recall : 0.8087774294670846\n",
      "Precision : 0.8784964773992987\n",
      "Jaccard : 0.7175013317318161\n",
      "Kappa : 0.5851423881122049\n"
     ]
    }
   ],
   "source": [
    "lr = LogisticRegression(max_iter = 100000)\n",
    "result = %timeit -o -n 5 -r 5 lr.fit(X=X_train, y=y_train) \n",
    "lr.fit(X = X_train, y = y_train)\n",
    "measures = performance_measures(\"Logistic Regression\", lr, X_test, y_test, performanceMeasuresDF)\n",
    "performanceMeasuresDF.loc[len(performanceMeasuresDF)] = measures\n",
    "exec_time = result.average"
   ]
  },
  {
   "cell_type": "code",
   "execution_count": 10,
   "id": "dd5aa05e",
   "metadata": {
    "execution": {
     "iopub.execute_input": "2024-07-14T06:12:12.842736Z",
     "iopub.status.busy": "2024-07-14T06:12:12.842736Z",
     "iopub.status.idle": "2024-07-14T06:12:19.461259Z",
     "shell.execute_reply": "2024-07-14T06:12:19.460748Z"
    },
    "papermill": {
     "duration": 6.631239,
     "end_time": "2024-07-14T06:12:19.462421",
     "exception": false,
     "start_time": "2024-07-14T06:12:12.831182",
     "status": "completed"
    },
    "tags": []
   },
   "outputs": [
    {
     "name": "stdout",
     "output_type": "stream",
     "text": [
      "252 ms ± 4.62 ms per loop (mean ± std. dev. of 5 runs, 5 loops each)\n"
     ]
    },
    {
     "name": "stdout",
     "output_type": "stream",
     "text": [
      "Accuracy : 0.8103448275862069\n",
      "F1 : 0.8293138098337391\n",
      "Recall : 0.8103448275862069\n",
      "Precision : 0.881994333575948\n",
      "Jaccard : 0.7213720825587152\n",
      "Kappa : 0.5890138205668775\n"
     ]
    }
   ],
   "source": [
    "svmlinear = SVC(kernel = 'linear')\n",
    "result = %timeit -o -n 5 -r 5 svmlinear.fit(X=X_train, y = y_train)\n",
    "svmlinear.fit(X=X_train, y = y_train)\n",
    "measures = performance_measures(\"Support Vector Machine(Linear)\", svmlinear, X_test, y_test, performanceMeasuresDF)\n",
    "performanceMeasuresDF.loc[len(performanceMeasuresDF)] = measures\n",
    "exec_time += result.average"
   ]
  },
  {
   "cell_type": "code",
   "execution_count": 11,
   "id": "5721dbdf",
   "metadata": {
    "execution": {
     "iopub.execute_input": "2024-07-14T06:12:19.481575Z",
     "iopub.status.busy": "2024-07-14T06:12:19.481575Z",
     "iopub.status.idle": "2024-07-14T06:12:28.418203Z",
     "shell.execute_reply": "2024-07-14T06:12:28.417656Z"
    },
    "papermill": {
     "duration": 8.953022,
     "end_time": "2024-07-14T06:12:28.420454",
     "exception": false,
     "start_time": "2024-07-14T06:12:19.467432",
     "status": "completed"
    },
    "tags": []
   },
   "outputs": [
    {
     "name": "stdout",
     "output_type": "stream",
     "text": [
      "336 ms ± 74.3 ms per loop (mean ± std. dev. of 5 runs, 5 loops each)\n"
     ]
    },
    {
     "name": "stdout",
     "output_type": "stream",
     "text": [
      "Accuracy : 0.8557993730407524\n",
      "F1 : 0.8687914819256769\n",
      "Recall : 0.8557993730407524\n",
      "Precision : 0.9064054771749809\n",
      "Jaccard : 0.7777105378491422\n",
      "Kappa : 0.6737044572673805\n"
     ]
    }
   ],
   "source": [
    "svmrbf = SVC(kernel = 'rbf')\n",
    "result = %timeit -o -n 5 -r 5 svmrbf.fit(X=X_train, y = y_train)\n",
    "svmrbf.fit(X=X_train, y = y_train)\n",
    "measures = performance_measures(\"Support Vector Machine(RBF)\", svmrbf, X_test, y_test, performanceMeasuresDF)\n",
    "performanceMeasuresDF.loc[len(performanceMeasuresDF)] = measures\n",
    "exec_time += result.average"
   ]
  },
  {
   "cell_type": "markdown",
   "id": "ac87faed",
   "metadata": {
    "papermill": {
     "duration": 0.015206,
     "end_time": "2024-07-14T06:12:28.435660",
     "exception": false,
     "start_time": "2024-07-14T06:12:28.420454",
     "status": "completed"
    },
    "tags": []
   },
   "source": [
    "Two variants which haven't been tried before"
   ]
  },
  {
   "cell_type": "code",
   "execution_count": 12,
   "id": "b307e01f",
   "metadata": {
    "execution": {
     "iopub.execute_input": "2024-07-14T06:12:28.450675Z",
     "iopub.status.busy": "2024-07-14T06:12:28.450675Z",
     "iopub.status.idle": "2024-07-14T06:12:34.219973Z",
     "shell.execute_reply": "2024-07-14T06:12:34.218655Z"
    },
    "papermill": {
     "duration": 5.786722,
     "end_time": "2024-07-14T06:12:34.222382",
     "exception": false,
     "start_time": "2024-07-14T06:12:28.435660",
     "status": "completed"
    },
    "tags": []
   },
   "outputs": [
    {
     "name": "stdout",
     "output_type": "stream",
     "text": [
      "219 ms ± 4.08 ms per loop (mean ± std. dev. of 5 runs, 5 loops each)\n"
     ]
    },
    {
     "name": "stdout",
     "output_type": "stream",
     "text": [
      "Accuracy : 0.8808777429467085\n",
      "F1 : 0.8890960294684581\n",
      "Recall : 0.8808777429467085\n",
      "Precision : 0.9097445356496517\n",
      "Jaccard : 0.8090003794098621\n",
      "Kappa : 0.7141897188934931\n"
     ]
    }
   ],
   "source": [
    "svmpoly = SVC(kernel = 'poly')\n",
    "result = %timeit -o -n 5 -r 5 svmpoly.fit(X=X_train, y = y_train)\n",
    "svmpoly.fit(X=X_train, y = y_train)\n",
    "measures = performance_measures(\"Support Vector Machine(Poly)\",svmpoly, X_test, y_test, performanceMeasuresDF)\n",
    "performanceMeasuresDF.loc[len(performanceMeasuresDF)] = measures\n",
    "exec_time += result.average"
   ]
  },
  {
   "cell_type": "code",
   "execution_count": 13,
   "id": "7b37cf93",
   "metadata": {
    "execution": {
     "iopub.execute_input": "2024-07-14T06:12:34.237921Z",
     "iopub.status.busy": "2024-07-14T06:12:34.237921Z",
     "iopub.status.idle": "2024-07-14T06:12:57.617337Z",
     "shell.execute_reply": "2024-07-14T06:12:57.617337Z"
    },
    "papermill": {
     "duration": 23.397163,
     "end_time": "2024-07-14T06:12:57.622056",
     "exception": false,
     "start_time": "2024-07-14T06:12:34.224893",
     "status": "completed"
    },
    "tags": []
   },
   "outputs": [
    {
     "name": "stdout",
     "output_type": "stream",
     "text": [
      "897 ms ± 91.8 ms per loop (mean ± std. dev. of 5 runs, 5 loops each)\n"
     ]
    },
    {
     "name": "stdout",
     "output_type": "stream",
     "text": [
      "Accuracy : 0.45768025078369906\n",
      "F1 : 0.5240576224452486\n",
      "Recall : 0.45768025078369906\n",
      "Precision : 0.6807826030003284\n",
      "Jaccard : 0.36607044723405247\n",
      "Kappa : 0.03002447480237813\n"
     ]
    }
   ],
   "source": [
    "svmsigmoid = SVC(kernel = 'sigmoid')\n",
    "result = %timeit -o -n 5 -r 5 svmsigmoid.fit(X=X_train, y = y_train)\n",
    "svmsigmoid.fit(X=X_train, y = y_train)\n",
    "measures = performance_measures(\"Support Vector Machine(Sigmoid)\",svmsigmoid, X_test, y_test, performanceMeasuresDF)\n",
    "performanceMeasuresDF.loc[len(performanceMeasuresDF)] = measures\n",
    "exec_time += result.average"
   ]
  },
  {
   "cell_type": "code",
   "execution_count": 14,
   "id": "68752b62",
   "metadata": {
    "execution": {
     "iopub.execute_input": "2024-07-14T06:12:57.634498Z",
     "iopub.status.busy": "2024-07-14T06:12:57.634498Z",
     "iopub.status.idle": "2024-07-14T06:12:58.082923Z",
     "shell.execute_reply": "2024-07-14T06:12:58.082923Z"
    },
    "papermill": {
     "duration": 0.45483,
     "end_time": "2024-07-14T06:12:58.085820",
     "exception": false,
     "start_time": "2024-07-14T06:12:57.630990",
     "status": "completed"
    },
    "tags": []
   },
   "outputs": [
    {
     "name": "stdout",
     "output_type": "stream",
     "text": [
      "3.35 ms ± 441 μs per loop (mean ± std. dev. of 5 runs, 5 loops each)\n"
     ]
    },
    {
     "name": "stdout",
     "output_type": "stream",
     "text": [
      "Accuracy : 0.8667711598746082\n",
      "F1 : 0.875611438525708\n",
      "Recall : 0.8667711598746082\n",
      "Precision : 0.8953476051687655\n",
      "Jaccard : 0.7898556958072873\n",
      "Kappa : 0.6791902556184595\n"
     ]
    }
   ],
   "source": [
    "knn = KNeighborsClassifier(n_neighbors=5)\n",
    "result = %timeit -o -n 5 -r 5 knn.fit(X=X_train, y = y_train) \n",
    "knn.fit(X=X_train, y = y_train)\n",
    "measures = performance_measures(\"K-Nearest Neighbors\",knn, X_test, y_test, performanceMeasuresDF)\n",
    "performanceMeasuresDF.loc[len(performanceMeasuresDF)] = measures\n",
    "exec_time += result.average"
   ]
  },
  {
   "cell_type": "code",
   "execution_count": 15,
   "id": "44e895af",
   "metadata": {
    "execution": {
     "iopub.execute_input": "2024-07-14T06:12:58.106794Z",
     "iopub.status.busy": "2024-07-14T06:12:58.096562Z",
     "iopub.status.idle": "2024-07-14T06:12:58.282698Z",
     "shell.execute_reply": "2024-07-14T06:12:58.282180Z"
    },
    "papermill": {
     "duration": 0.193769,
     "end_time": "2024-07-14T06:12:58.286607",
     "exception": false,
     "start_time": "2024-07-14T06:12:58.092838",
     "status": "completed"
    },
    "tags": []
   },
   "outputs": [
    {
     "name": "stdout",
     "output_type": "stream",
     "text": [
      "5.42 ms ± 985 μs per loop (mean ± std. dev. of 5 runs, 5 loops each)\n"
     ]
    },
    {
     "name": "stdout",
     "output_type": "stream",
     "text": [
      "Accuracy : 0.677115987460815\n",
      "F1 : 0.7132858379901645\n",
      "Recall : 0.677115987460815\n",
      "Precision : 0.8556846660487221\n",
      "Jaccard : 0.5637272958162386\n",
      "Kappa : 0.40643389741713754\n"
     ]
    }
   ],
   "source": [
    "gnb = GaussianNB()\n",
    "result = %timeit -o -n 5 -r 5 gnb.fit(X_train, y_train)\n",
    "gnb.fit(X_train, y_train)\n",
    "measures = performance_measures(\"Naive Bayes\",gnb, X_test, y_test, performanceMeasuresDF)\n",
    "performanceMeasuresDF.loc[len(performanceMeasuresDF)] = measures\n",
    "exec_time += result.average"
   ]
  },
  {
   "cell_type": "code",
   "execution_count": 16,
   "id": "17ce4918",
   "metadata": {
    "execution": {
     "iopub.execute_input": "2024-07-14T06:12:58.312137Z",
     "iopub.status.busy": "2024-07-14T06:12:58.312137Z",
     "iopub.status.idle": "2024-07-14T06:12:58.950972Z",
     "shell.execute_reply": "2024-07-14T06:12:58.949933Z"
    },
    "papermill": {
     "duration": 0.655353,
     "end_time": "2024-07-14T06:12:58.951979",
     "exception": false,
     "start_time": "2024-07-14T06:12:58.296626",
     "status": "completed"
    },
    "tags": []
   },
   "outputs": [
    {
     "name": "stdout",
     "output_type": "stream",
     "text": [
      "23.2 ms ± 2.06 ms per loop (mean ± std. dev. of 5 runs, 5 loops each)\n",
      "Accuracy : 0.9247648902821317\n",
      "F1 : 0.9243306467823504\n",
      "Recall : 0.9247648902821317\n",
      "Precision : 0.9241468552894992\n",
      "Jaccard : 0.8645456118094799\n",
      "Kappa : 0.7943745761460005\n"
     ]
    }
   ],
   "source": [
    "dt = DecisionTreeClassifier()\n",
    "result = %timeit -o -n 5 -r 5 dt.fit(X_train, y_train)\n",
    "dt.fit(X_train, y_train)\n",
    "measures = performance_measures(\"Decision Tree\",dt, X_test, y_test, performanceMeasuresDF)\n",
    "performanceMeasuresDF.loc[len(performanceMeasuresDF)] = measures\n",
    "exec_time += result.average"
   ]
  },
  {
   "cell_type": "code",
   "execution_count": 17,
   "id": "d60692d0",
   "metadata": {
    "execution": {
     "iopub.execute_input": "2024-07-14T06:12:58.965110Z",
     "iopub.status.busy": "2024-07-14T06:12:58.965110Z",
     "iopub.status.idle": "2024-07-14T06:13:15.737604Z",
     "shell.execute_reply": "2024-07-14T06:13:15.736596Z"
    },
    "papermill": {
     "duration": 16.788196,
     "end_time": "2024-07-14T06:13:15.740175",
     "exception": false,
     "start_time": "2024-07-14T06:12:58.951979",
     "status": "completed"
    },
    "tags": []
   },
   "outputs": [
    {
     "name": "stdout",
     "output_type": "stream",
     "text": [
      "645 ms ± 43.9 ms per loop (mean ± std. dev. of 5 runs, 5 loops each)\n"
     ]
    },
    {
     "name": "stdout",
     "output_type": "stream",
     "text": [
      "Accuracy : 0.9373040752351097\n",
      "F1 : 0.9373326249297671\n",
      "Recall : 0.9373040752351097\n",
      "Precision : 0.9376395149699887\n",
      "Jaccard : 0.88668851725909\n",
      "Kappa : 0.8300660558278287\n"
     ]
    }
   ],
   "source": [
    "rfc = RandomForestClassifier(n_estimators = 100, random_state = 42)\n",
    "result = %timeit -o -n 5 -r 5 rfc.fit(X_train, y_train)\n",
    "rfc.fit(X_train, y_train)\n",
    "measures = performance_measures(\"Random Forest\",rfc, X_test, y_test, performanceMeasuresDF)\n",
    "performanceMeasuresDF.loc[len(performanceMeasuresDF)] = measures\n",
    "exec_time += result.average"
   ]
  },
  {
   "cell_type": "code",
   "execution_count": 18,
   "id": "b8e9bf2d",
   "metadata": {
    "execution": {
     "iopub.execute_input": "2024-07-14T06:13:15.761921Z",
     "iopub.status.busy": "2024-07-14T06:13:15.761921Z",
     "iopub.status.idle": "2024-07-14T06:13:33.137320Z",
     "shell.execute_reply": "2024-07-14T06:13:33.137320Z"
    },
    "papermill": {
     "duration": 17.394854,
     "end_time": "2024-07-14T06:13:33.139061",
     "exception": false,
     "start_time": "2024-07-14T06:13:15.744207",
     "status": "completed"
    },
    "tags": []
   },
   "outputs": [
    {
     "name": "stdout",
     "output_type": "stream",
     "text": [
      "667 ms ± 6.95 ms per loop (mean ± std. dev. of 5 runs, 5 loops each)\n"
     ]
    },
    {
     "name": "stdout",
     "output_type": "stream",
     "text": [
      "Accuracy : 0.8871473354231975\n",
      "F1 : 0.8922203194307321\n",
      "Recall : 0.8871473354231975\n",
      "Precision : 0.9037482268486758\n",
      "Jaccard : 0.8123084124727266\n",
      "Kappa : 0.7184448762189628\n"
     ]
    }
   ],
   "source": [
    "abc = AdaBoostClassifier(n_estimators = 100, random_state = 42)\n",
    "result = %timeit -o -n 5 -r 5 abc.fit(X_train, y_train)\n",
    "abc.fit(X_train, y_train)\n",
    "measures = performance_measures(\"Ada Boost\",abc, X_test, y_test, performanceMeasuresDF)\n",
    "performanceMeasuresDF.loc[len(performanceMeasuresDF)] = measures\n",
    "exec_time += result.average"
   ]
  },
  {
   "cell_type": "code",
   "execution_count": 19,
   "id": "4da693e4",
   "metadata": {
    "execution": {
     "iopub.execute_input": "2024-07-14T06:13:33.161988Z",
     "iopub.status.busy": "2024-07-14T06:13:33.161988Z",
     "iopub.status.idle": "2024-07-14T06:14:10.921175Z",
     "shell.execute_reply": "2024-07-14T06:14:10.921175Z"
    },
    "papermill": {
     "duration": 37.777195,
     "end_time": "2024-07-14T06:14:10.924395",
     "exception": false,
     "start_time": "2024-07-14T06:13:33.147200",
     "status": "completed"
    },
    "tags": []
   },
   "outputs": [
    {
     "name": "stdout",
     "output_type": "stream",
     "text": [
      "1.45 s ± 88.9 ms per loop (mean ± std. dev. of 5 runs, 5 loops each)\n"
     ]
    },
    {
     "name": "stdout",
     "output_type": "stream",
     "text": [
      "Accuracy : 0.8824451410658307\n",
      "F1 : 0.889478732362703\n",
      "Recall : 0.8824451410658307\n",
      "Precision : 0.9123061851569174\n",
      "Jaccard : 0.8067182439299724\n",
      "Kappa : 0.7229556034183284\n"
     ]
    }
   ],
   "source": [
    "gbc = GradientBoostingClassifier(n_estimators = 100, random_state = 42, learning_rate = 1.0, max_depth = 1)\n",
    "result = %timeit -o -n 5 -r 5 gbc.fit(X_train, y_train)\n",
    "gbc.fit(X_train, y_train)\n",
    "measures = performance_measures(\"Gradient Boost\",gbc, X_test, y_test, performanceMeasuresDF)\n",
    "performanceMeasuresDF.loc[len(performanceMeasuresDF)] = measures\n",
    "exec_time += result.average"
   ]
  },
  {
   "cell_type": "code",
   "execution_count": 20,
   "id": "a0ee92cc",
   "metadata": {
    "execution": {
     "iopub.execute_input": "2024-07-14T06:14:10.934923Z",
     "iopub.status.busy": "2024-07-14T06:14:10.934923Z",
     "iopub.status.idle": "2024-07-14T06:14:27.723821Z",
     "shell.execute_reply": "2024-07-14T06:14:27.723821Z"
    },
    "papermill": {
     "duration": 16.788898,
     "end_time": "2024-07-14T06:14:27.723821",
     "exception": false,
     "start_time": "2024-07-14T06:14:10.934923",
     "status": "completed"
    },
    "tags": []
   },
   "outputs": [
    {
     "name": "stderr",
     "output_type": "stream",
     "text": [
      "C:\\Users\\Santhosh\\AppData\\Local\\Packages\\PythonSoftwareFoundation.Python.3.11_qbz5n2kfra8p0\\LocalCache\\local-packages\\Python311\\site-packages\\xgboost\\core.py:158: UserWarning: [11:44:10] WARNING: C:\\buildkite-agent\\builds\\buildkite-windows-cpu-autoscaling-group-i-06abd128ca6c1688d-1\\xgboost\\xgboost-ci-windows\\src\\learner.cc:740: \n",
      "Parameters: { \"use_label_encoder\" } are not used.\n",
      "\n",
      "  warnings.warn(smsg, UserWarning)\n"
     ]
    },
    {
     "name": "stderr",
     "output_type": "stream",
     "text": [
      "C:\\Users\\Santhosh\\AppData\\Local\\Packages\\PythonSoftwareFoundation.Python.3.11_qbz5n2kfra8p0\\LocalCache\\local-packages\\Python311\\site-packages\\xgboost\\core.py:158: UserWarning: [11:44:11] WARNING: C:\\buildkite-agent\\builds\\buildkite-windows-cpu-autoscaling-group-i-06abd128ca6c1688d-1\\xgboost\\xgboost-ci-windows\\src\\learner.cc:740: \n",
      "Parameters: { \"use_label_encoder\" } are not used.\n",
      "\n",
      "  warnings.warn(smsg, UserWarning)\n"
     ]
    },
    {
     "name": "stderr",
     "output_type": "stream",
     "text": [
      "C:\\Users\\Santhosh\\AppData\\Local\\Packages\\PythonSoftwareFoundation.Python.3.11_qbz5n2kfra8p0\\LocalCache\\local-packages\\Python311\\site-packages\\xgboost\\core.py:158: UserWarning: [11:44:12] WARNING: C:\\buildkite-agent\\builds\\buildkite-windows-cpu-autoscaling-group-i-06abd128ca6c1688d-1\\xgboost\\xgboost-ci-windows\\src\\learner.cc:740: \n",
      "Parameters: { \"use_label_encoder\" } are not used.\n",
      "\n",
      "  warnings.warn(smsg, UserWarning)\n"
     ]
    },
    {
     "name": "stderr",
     "output_type": "stream",
     "text": [
      "C:\\Users\\Santhosh\\AppData\\Local\\Packages\\PythonSoftwareFoundation.Python.3.11_qbz5n2kfra8p0\\LocalCache\\local-packages\\Python311\\site-packages\\xgboost\\core.py:158: UserWarning: [11:44:12] WARNING: C:\\buildkite-agent\\builds\\buildkite-windows-cpu-autoscaling-group-i-06abd128ca6c1688d-1\\xgboost\\xgboost-ci-windows\\src\\learner.cc:740: \n",
      "Parameters: { \"use_label_encoder\" } are not used.\n",
      "\n",
      "  warnings.warn(smsg, UserWarning)\n"
     ]
    },
    {
     "name": "stderr",
     "output_type": "stream",
     "text": [
      "C:\\Users\\Santhosh\\AppData\\Local\\Packages\\PythonSoftwareFoundation.Python.3.11_qbz5n2kfra8p0\\LocalCache\\local-packages\\Python311\\site-packages\\xgboost\\core.py:158: UserWarning: [11:44:13] WARNING: C:\\buildkite-agent\\builds\\buildkite-windows-cpu-autoscaling-group-i-06abd128ca6c1688d-1\\xgboost\\xgboost-ci-windows\\src\\learner.cc:740: \n",
      "Parameters: { \"use_label_encoder\" } are not used.\n",
      "\n",
      "  warnings.warn(smsg, UserWarning)\n"
     ]
    },
    {
     "name": "stderr",
     "output_type": "stream",
     "text": [
      "C:\\Users\\Santhosh\\AppData\\Local\\Packages\\PythonSoftwareFoundation.Python.3.11_qbz5n2kfra8p0\\LocalCache\\local-packages\\Python311\\site-packages\\xgboost\\core.py:158: UserWarning: [11:44:14] WARNING: C:\\buildkite-agent\\builds\\buildkite-windows-cpu-autoscaling-group-i-06abd128ca6c1688d-1\\xgboost\\xgboost-ci-windows\\src\\learner.cc:740: \n",
      "Parameters: { \"use_label_encoder\" } are not used.\n",
      "\n",
      "  warnings.warn(smsg, UserWarning)\n"
     ]
    },
    {
     "name": "stderr",
     "output_type": "stream",
     "text": [
      "C:\\Users\\Santhosh\\AppData\\Local\\Packages\\PythonSoftwareFoundation.Python.3.11_qbz5n2kfra8p0\\LocalCache\\local-packages\\Python311\\site-packages\\xgboost\\core.py:158: UserWarning: [11:44:14] WARNING: C:\\buildkite-agent\\builds\\buildkite-windows-cpu-autoscaling-group-i-06abd128ca6c1688d-1\\xgboost\\xgboost-ci-windows\\src\\learner.cc:740: \n",
      "Parameters: { \"use_label_encoder\" } are not used.\n",
      "\n",
      "  warnings.warn(smsg, UserWarning)\n"
     ]
    },
    {
     "name": "stderr",
     "output_type": "stream",
     "text": [
      "C:\\Users\\Santhosh\\AppData\\Local\\Packages\\PythonSoftwareFoundation.Python.3.11_qbz5n2kfra8p0\\LocalCache\\local-packages\\Python311\\site-packages\\xgboost\\core.py:158: UserWarning: [11:44:15] WARNING: C:\\buildkite-agent\\builds\\buildkite-windows-cpu-autoscaling-group-i-06abd128ca6c1688d-1\\xgboost\\xgboost-ci-windows\\src\\learner.cc:740: \n",
      "Parameters: { \"use_label_encoder\" } are not used.\n",
      "\n",
      "  warnings.warn(smsg, UserWarning)\n"
     ]
    },
    {
     "name": "stderr",
     "output_type": "stream",
     "text": [
      "C:\\Users\\Santhosh\\AppData\\Local\\Packages\\PythonSoftwareFoundation.Python.3.11_qbz5n2kfra8p0\\LocalCache\\local-packages\\Python311\\site-packages\\xgboost\\core.py:158: UserWarning: [11:44:16] WARNING: C:\\buildkite-agent\\builds\\buildkite-windows-cpu-autoscaling-group-i-06abd128ca6c1688d-1\\xgboost\\xgboost-ci-windows\\src\\learner.cc:740: \n",
      "Parameters: { \"use_label_encoder\" } are not used.\n",
      "\n",
      "  warnings.warn(smsg, UserWarning)\n"
     ]
    },
    {
     "name": "stderr",
     "output_type": "stream",
     "text": [
      "C:\\Users\\Santhosh\\AppData\\Local\\Packages\\PythonSoftwareFoundation.Python.3.11_qbz5n2kfra8p0\\LocalCache\\local-packages\\Python311\\site-packages\\xgboost\\core.py:158: UserWarning: [11:44:16] WARNING: C:\\buildkite-agent\\builds\\buildkite-windows-cpu-autoscaling-group-i-06abd128ca6c1688d-1\\xgboost\\xgboost-ci-windows\\src\\learner.cc:740: \n",
      "Parameters: { \"use_label_encoder\" } are not used.\n",
      "\n",
      "  warnings.warn(smsg, UserWarning)\n"
     ]
    },
    {
     "name": "stderr",
     "output_type": "stream",
     "text": [
      "C:\\Users\\Santhosh\\AppData\\Local\\Packages\\PythonSoftwareFoundation.Python.3.11_qbz5n2kfra8p0\\LocalCache\\local-packages\\Python311\\site-packages\\xgboost\\core.py:158: UserWarning: [11:44:17] WARNING: C:\\buildkite-agent\\builds\\buildkite-windows-cpu-autoscaling-group-i-06abd128ca6c1688d-1\\xgboost\\xgboost-ci-windows\\src\\learner.cc:740: \n",
      "Parameters: { \"use_label_encoder\" } are not used.\n",
      "\n",
      "  warnings.warn(smsg, UserWarning)\n"
     ]
    },
    {
     "name": "stderr",
     "output_type": "stream",
     "text": [
      "C:\\Users\\Santhosh\\AppData\\Local\\Packages\\PythonSoftwareFoundation.Python.3.11_qbz5n2kfra8p0\\LocalCache\\local-packages\\Python311\\site-packages\\xgboost\\core.py:158: UserWarning: [11:44:18] WARNING: C:\\buildkite-agent\\builds\\buildkite-windows-cpu-autoscaling-group-i-06abd128ca6c1688d-1\\xgboost\\xgboost-ci-windows\\src\\learner.cc:740: \n",
      "Parameters: { \"use_label_encoder\" } are not used.\n",
      "\n",
      "  warnings.warn(smsg, UserWarning)\n"
     ]
    },
    {
     "name": "stderr",
     "output_type": "stream",
     "text": [
      "C:\\Users\\Santhosh\\AppData\\Local\\Packages\\PythonSoftwareFoundation.Python.3.11_qbz5n2kfra8p0\\LocalCache\\local-packages\\Python311\\site-packages\\xgboost\\core.py:158: UserWarning: [11:44:18] WARNING: C:\\buildkite-agent\\builds\\buildkite-windows-cpu-autoscaling-group-i-06abd128ca6c1688d-1\\xgboost\\xgboost-ci-windows\\src\\learner.cc:740: \n",
      "Parameters: { \"use_label_encoder\" } are not used.\n",
      "\n",
      "  warnings.warn(smsg, UserWarning)\n"
     ]
    },
    {
     "name": "stderr",
     "output_type": "stream",
     "text": [
      "C:\\Users\\Santhosh\\AppData\\Local\\Packages\\PythonSoftwareFoundation.Python.3.11_qbz5n2kfra8p0\\LocalCache\\local-packages\\Python311\\site-packages\\xgboost\\core.py:158: UserWarning: [11:44:19] WARNING: C:\\buildkite-agent\\builds\\buildkite-windows-cpu-autoscaling-group-i-06abd128ca6c1688d-1\\xgboost\\xgboost-ci-windows\\src\\learner.cc:740: \n",
      "Parameters: { \"use_label_encoder\" } are not used.\n",
      "\n",
      "  warnings.warn(smsg, UserWarning)\n"
     ]
    },
    {
     "name": "stderr",
     "output_type": "stream",
     "text": [
      "C:\\Users\\Santhosh\\AppData\\Local\\Packages\\PythonSoftwareFoundation.Python.3.11_qbz5n2kfra8p0\\LocalCache\\local-packages\\Python311\\site-packages\\xgboost\\core.py:158: UserWarning: [11:44:19] WARNING: C:\\buildkite-agent\\builds\\buildkite-windows-cpu-autoscaling-group-i-06abd128ca6c1688d-1\\xgboost\\xgboost-ci-windows\\src\\learner.cc:740: \n",
      "Parameters: { \"use_label_encoder\" } are not used.\n",
      "\n",
      "  warnings.warn(smsg, UserWarning)\n"
     ]
    },
    {
     "name": "stderr",
     "output_type": "stream",
     "text": [
      "C:\\Users\\Santhosh\\AppData\\Local\\Packages\\PythonSoftwareFoundation.Python.3.11_qbz5n2kfra8p0\\LocalCache\\local-packages\\Python311\\site-packages\\xgboost\\core.py:158: UserWarning: [11:44:20] WARNING: C:\\buildkite-agent\\builds\\buildkite-windows-cpu-autoscaling-group-i-06abd128ca6c1688d-1\\xgboost\\xgboost-ci-windows\\src\\learner.cc:740: \n",
      "Parameters: { \"use_label_encoder\" } are not used.\n",
      "\n",
      "  warnings.warn(smsg, UserWarning)\n"
     ]
    },
    {
     "name": "stderr",
     "output_type": "stream",
     "text": [
      "C:\\Users\\Santhosh\\AppData\\Local\\Packages\\PythonSoftwareFoundation.Python.3.11_qbz5n2kfra8p0\\LocalCache\\local-packages\\Python311\\site-packages\\xgboost\\core.py:158: UserWarning: [11:44:21] WARNING: C:\\buildkite-agent\\builds\\buildkite-windows-cpu-autoscaling-group-i-06abd128ca6c1688d-1\\xgboost\\xgboost-ci-windows\\src\\learner.cc:740: \n",
      "Parameters: { \"use_label_encoder\" } are not used.\n",
      "\n",
      "  warnings.warn(smsg, UserWarning)\n"
     ]
    },
    {
     "name": "stderr",
     "output_type": "stream",
     "text": [
      "C:\\Users\\Santhosh\\AppData\\Local\\Packages\\PythonSoftwareFoundation.Python.3.11_qbz5n2kfra8p0\\LocalCache\\local-packages\\Python311\\site-packages\\xgboost\\core.py:158: UserWarning: [11:44:21] WARNING: C:\\buildkite-agent\\builds\\buildkite-windows-cpu-autoscaling-group-i-06abd128ca6c1688d-1\\xgboost\\xgboost-ci-windows\\src\\learner.cc:740: \n",
      "Parameters: { \"use_label_encoder\" } are not used.\n",
      "\n",
      "  warnings.warn(smsg, UserWarning)\n"
     ]
    },
    {
     "name": "stderr",
     "output_type": "stream",
     "text": [
      "C:\\Users\\Santhosh\\AppData\\Local\\Packages\\PythonSoftwareFoundation.Python.3.11_qbz5n2kfra8p0\\LocalCache\\local-packages\\Python311\\site-packages\\xgboost\\core.py:158: UserWarning: [11:44:22] WARNING: C:\\buildkite-agent\\builds\\buildkite-windows-cpu-autoscaling-group-i-06abd128ca6c1688d-1\\xgboost\\xgboost-ci-windows\\src\\learner.cc:740: \n",
      "Parameters: { \"use_label_encoder\" } are not used.\n",
      "\n",
      "  warnings.warn(smsg, UserWarning)\n"
     ]
    },
    {
     "name": "stderr",
     "output_type": "stream",
     "text": [
      "C:\\Users\\Santhosh\\AppData\\Local\\Packages\\PythonSoftwareFoundation.Python.3.11_qbz5n2kfra8p0\\LocalCache\\local-packages\\Python311\\site-packages\\xgboost\\core.py:158: UserWarning: [11:44:23] WARNING: C:\\buildkite-agent\\builds\\buildkite-windows-cpu-autoscaling-group-i-06abd128ca6c1688d-1\\xgboost\\xgboost-ci-windows\\src\\learner.cc:740: \n",
      "Parameters: { \"use_label_encoder\" } are not used.\n",
      "\n",
      "  warnings.warn(smsg, UserWarning)\n"
     ]
    },
    {
     "name": "stderr",
     "output_type": "stream",
     "text": [
      "C:\\Users\\Santhosh\\AppData\\Local\\Packages\\PythonSoftwareFoundation.Python.3.11_qbz5n2kfra8p0\\LocalCache\\local-packages\\Python311\\site-packages\\xgboost\\core.py:158: UserWarning: [11:44:23] WARNING: C:\\buildkite-agent\\builds\\buildkite-windows-cpu-autoscaling-group-i-06abd128ca6c1688d-1\\xgboost\\xgboost-ci-windows\\src\\learner.cc:740: \n",
      "Parameters: { \"use_label_encoder\" } are not used.\n",
      "\n",
      "  warnings.warn(smsg, UserWarning)\n"
     ]
    },
    {
     "name": "stderr",
     "output_type": "stream",
     "text": [
      "C:\\Users\\Santhosh\\AppData\\Local\\Packages\\PythonSoftwareFoundation.Python.3.11_qbz5n2kfra8p0\\LocalCache\\local-packages\\Python311\\site-packages\\xgboost\\core.py:158: UserWarning: [11:44:24] WARNING: C:\\buildkite-agent\\builds\\buildkite-windows-cpu-autoscaling-group-i-06abd128ca6c1688d-1\\xgboost\\xgboost-ci-windows\\src\\learner.cc:740: \n",
      "Parameters: { \"use_label_encoder\" } are not used.\n",
      "\n",
      "  warnings.warn(smsg, UserWarning)\n"
     ]
    },
    {
     "name": "stderr",
     "output_type": "stream",
     "text": [
      "C:\\Users\\Santhosh\\AppData\\Local\\Packages\\PythonSoftwareFoundation.Python.3.11_qbz5n2kfra8p0\\LocalCache\\local-packages\\Python311\\site-packages\\xgboost\\core.py:158: UserWarning: [11:44:25] WARNING: C:\\buildkite-agent\\builds\\buildkite-windows-cpu-autoscaling-group-i-06abd128ca6c1688d-1\\xgboost\\xgboost-ci-windows\\src\\learner.cc:740: \n",
      "Parameters: { \"use_label_encoder\" } are not used.\n",
      "\n",
      "  warnings.warn(smsg, UserWarning)\n"
     ]
    },
    {
     "name": "stderr",
     "output_type": "stream",
     "text": [
      "C:\\Users\\Santhosh\\AppData\\Local\\Packages\\PythonSoftwareFoundation.Python.3.11_qbz5n2kfra8p0\\LocalCache\\local-packages\\Python311\\site-packages\\xgboost\\core.py:158: UserWarning: [11:44:25] WARNING: C:\\buildkite-agent\\builds\\buildkite-windows-cpu-autoscaling-group-i-06abd128ca6c1688d-1\\xgboost\\xgboost-ci-windows\\src\\learner.cc:740: \n",
      "Parameters: { \"use_label_encoder\" } are not used.\n",
      "\n",
      "  warnings.warn(smsg, UserWarning)\n"
     ]
    },
    {
     "name": "stderr",
     "output_type": "stream",
     "text": [
      "C:\\Users\\Santhosh\\AppData\\Local\\Packages\\PythonSoftwareFoundation.Python.3.11_qbz5n2kfra8p0\\LocalCache\\local-packages\\Python311\\site-packages\\xgboost\\core.py:158: UserWarning: [11:44:26] WARNING: C:\\buildkite-agent\\builds\\buildkite-windows-cpu-autoscaling-group-i-06abd128ca6c1688d-1\\xgboost\\xgboost-ci-windows\\src\\learner.cc:740: \n",
      "Parameters: { \"use_label_encoder\" } are not used.\n",
      "\n",
      "  warnings.warn(smsg, UserWarning)\n"
     ]
    },
    {
     "name": "stdout",
     "output_type": "stream",
     "text": [
      "643 ms ± 4.81 ms per loop (mean ± std. dev. of 5 runs, 5 loops each)\n"
     ]
    },
    {
     "name": "stderr",
     "output_type": "stream",
     "text": [
      "C:\\Users\\Santhosh\\AppData\\Local\\Packages\\PythonSoftwareFoundation.Python.3.11_qbz5n2kfra8p0\\LocalCache\\local-packages\\Python311\\site-packages\\xgboost\\core.py:158: UserWarning: [11:44:27] WARNING: C:\\buildkite-agent\\builds\\buildkite-windows-cpu-autoscaling-group-i-06abd128ca6c1688d-1\\xgboost\\xgboost-ci-windows\\src\\learner.cc:740: \n",
      "Parameters: { \"use_label_encoder\" } are not used.\n",
      "\n",
      "  warnings.warn(smsg, UserWarning)\n"
     ]
    },
    {
     "name": "stdout",
     "output_type": "stream",
     "text": [
      "Accuracy : 0.9545454545454546\n",
      "F1 : 0.9544474452495844\n",
      "Recall : 0.9545454545454546\n",
      "Precision : 0.954673114614897\n",
      "Jaccard : 0.9150425054580357\n",
      "Kappa : 0.8764729838898124\n"
     ]
    }
   ],
   "source": [
    "xgb = XGBClassifier(use_label_encoder = False, eval_metric = 'mlogloss')\n",
    "result = %timeit -o -n 5 -r 5 xgb.fit(X_train, y_train - 1)\n",
    "xgb.fit(X_train, y_train - 1)\n",
    "measures = performance_measures(\"XG Boost\",xgb, X_test, y_test - 1, performanceMeasuresDF)\n",
    "performanceMeasuresDF.loc[len(performanceMeasuresDF)] = measures\n",
    "exec_time += result.average"
   ]
  },
  {
   "cell_type": "code",
   "execution_count": 21,
   "id": "abe1b624",
   "metadata": {
    "execution": {
     "iopub.execute_input": "2024-07-14T06:14:27.798335Z",
     "iopub.status.busy": "2024-07-14T06:14:27.796285Z",
     "iopub.status.idle": "2024-07-14T06:14:41.950311Z",
     "shell.execute_reply": "2024-07-14T06:14:41.949780Z"
    },
    "papermill": {
     "duration": 14.194937,
     "end_time": "2024-07-14T06:14:41.950311",
     "exception": false,
     "start_time": "2024-07-14T06:14:27.755374",
     "status": "completed"
    },
    "tags": []
   },
   "outputs": [
    {
     "name": "stdout",
     "output_type": "stream",
     "text": [
      "[LightGBM] [Warning] Found whitespace in feature_names, replace with underlines\n",
      "[LightGBM] [Info] Auto-choosing row-wise multi-threading, the overhead of testing was 0.000461 seconds.\n",
      "You can set `force_row_wise=true` to remove the overhead.\n",
      "And if memory is not enough, you can set `force_col_wise=true`.\n",
      "[LightGBM] [Info] Total Bins 1254\n",
      "[LightGBM] [Info] Number of data points in the train set: 3477, number of used features: 21\n",
      "[LightGBM] [Info] Start training from score -1.098612\n",
      "[LightGBM] [Info] Start training from score -1.098612\n",
      "[LightGBM] [Info] Start training from score -1.098612\n",
      "[LightGBM] [Warning] No further splits with positive gain, best gain: -inf\n"
     ]
    },
    {
     "name": "stdout",
     "output_type": "stream",
     "text": [
      "[LightGBM] [Warning] Found whitespace in feature_names, replace with underlines\n",
      "[LightGBM] [Info] Auto-choosing col-wise multi-threading, the overhead of testing was 0.001275 seconds.\n",
      "You can set `force_col_wise=true` to remove the overhead.\n",
      "[LightGBM] [Info] Total Bins 1254\n",
      "[LightGBM] [Info] Number of data points in the train set: 3477, number of used features: 21\n",
      "[LightGBM] [Info] Start training from score -1.098612\n",
      "[LightGBM] [Info] Start training from score -1.098612\n",
      "[LightGBM] [Info] Start training from score -1.098612\n",
      "[LightGBM] [Warning] No further splits with positive gain, best gain: -inf\n"
     ]
    },
    {
     "name": "stdout",
     "output_type": "stream",
     "text": [
      "[LightGBM] [Warning] Found whitespace in feature_names, replace with underlines\n",
      "[LightGBM] [Info] Auto-choosing col-wise multi-threading, the overhead of testing was 0.001321 seconds.\n",
      "You can set `force_col_wise=true` to remove the overhead.\n",
      "[LightGBM] [Info] Total Bins 1254\n",
      "[LightGBM] [Info] Number of data points in the train set: 3477, number of used features: 21\n",
      "[LightGBM] [Info] Start training from score -1.098612\n",
      "[LightGBM] [Info] Start training from score -1.098612\n",
      "[LightGBM] [Info] Start training from score -1.098612\n",
      "[LightGBM] [Warning] No further splits with positive gain, best gain: -inf\n"
     ]
    },
    {
     "name": "stdout",
     "output_type": "stream",
     "text": [
      "[LightGBM] [Warning] Found whitespace in feature_names, replace with underlines\n",
      "[LightGBM] [Info] Auto-choosing col-wise multi-threading, the overhead of testing was 0.001234 seconds.\n",
      "You can set `force_col_wise=true` to remove the overhead.\n",
      "[LightGBM] [Info] Total Bins 1254\n",
      "[LightGBM] [Info] Number of data points in the train set: 3477, number of used features: 21\n",
      "[LightGBM] [Info] Start training from score -1.098612\n",
      "[LightGBM] [Info] Start training from score -1.098612\n",
      "[LightGBM] [Info] Start training from score -1.098612\n",
      "[LightGBM] [Warning] No further splits with positive gain, best gain: -inf\n"
     ]
    },
    {
     "name": "stdout",
     "output_type": "stream",
     "text": [
      "[LightGBM] [Warning] Found whitespace in feature_names, replace with underlines\n",
      "[LightGBM] [Info] Auto-choosing row-wise multi-threading, the overhead of testing was 0.000373 seconds.\n",
      "You can set `force_row_wise=true` to remove the overhead.\n",
      "And if memory is not enough, you can set `force_col_wise=true`.\n",
      "[LightGBM] [Info] Total Bins 1254\n",
      "[LightGBM] [Info] Number of data points in the train set: 3477, number of used features: 21\n",
      "[LightGBM] [Info] Start training from score -1.098612\n",
      "[LightGBM] [Info] Start training from score -1.098612\n",
      "[LightGBM] [Info] Start training from score -1.098612\n",
      "[LightGBM] [Warning] No further splits with positive gain, best gain: -inf\n"
     ]
    },
    {
     "name": "stdout",
     "output_type": "stream",
     "text": [
      "[LightGBM] [Warning] Found whitespace in feature_names, replace with underlines\n",
      "[LightGBM] [Info] Auto-choosing row-wise multi-threading, the overhead of testing was 0.000432 seconds.\n",
      "You can set `force_row_wise=true` to remove the overhead.\n",
      "And if memory is not enough, you can set `force_col_wise=true`.\n",
      "[LightGBM] [Info] Total Bins 1254\n",
      "[LightGBM] [Info] Number of data points in the train set: 3477, number of used features: 21\n",
      "[LightGBM] [Info] Start training from score -1.098612\n",
      "[LightGBM] [Info] Start training from score -1.098612\n",
      "[LightGBM] [Info] Start training from score -1.098612\n",
      "[LightGBM] [Warning] No further splits with positive gain, best gain: -inf\n"
     ]
    },
    {
     "name": "stdout",
     "output_type": "stream",
     "text": [
      "[LightGBM] [Warning] Found whitespace in feature_names, replace with underlines\n",
      "[LightGBM] [Info] Auto-choosing col-wise multi-threading, the overhead of testing was 0.001798 seconds.\n",
      "You can set `force_col_wise=true` to remove the overhead.\n",
      "[LightGBM] [Info] Total Bins 1254\n",
      "[LightGBM] [Info] Number of data points in the train set: 3477, number of used features: 21\n",
      "[LightGBM] [Info] Start training from score -1.098612\n",
      "[LightGBM] [Info] Start training from score -1.098612\n",
      "[LightGBM] [Info] Start training from score -1.098612\n",
      "[LightGBM] [Warning] No further splits with positive gain, best gain: -inf\n"
     ]
    },
    {
     "name": "stdout",
     "output_type": "stream",
     "text": [
      "[LightGBM] [Warning] Found whitespace in feature_names, replace with underlines\n",
      "[LightGBM] [Info] Auto-choosing row-wise multi-threading, the overhead of testing was 0.000427 seconds.\n",
      "You can set `force_row_wise=true` to remove the overhead.\n",
      "And if memory is not enough, you can set `force_col_wise=true`.\n",
      "[LightGBM] [Info] Total Bins 1254\n",
      "[LightGBM] [Info] Number of data points in the train set: 3477, number of used features: 21\n",
      "[LightGBM] [Info] Start training from score -1.098612\n",
      "[LightGBM] [Info] Start training from score -1.098612\n",
      "[LightGBM] [Info] Start training from score -1.098612\n",
      "[LightGBM] [Warning] No further splits with positive gain, best gain: -inf\n"
     ]
    },
    {
     "name": "stdout",
     "output_type": "stream",
     "text": [
      "[LightGBM] [Warning] Found whitespace in feature_names, replace with underlines\n",
      "[LightGBM] [Info] Auto-choosing col-wise multi-threading, the overhead of testing was 0.001301 seconds.\n",
      "You can set `force_col_wise=true` to remove the overhead.\n",
      "[LightGBM] [Info] Total Bins 1254\n",
      "[LightGBM] [Info] Number of data points in the train set: 3477, number of used features: 21\n",
      "[LightGBM] [Info] Start training from score -1.098612\n",
      "[LightGBM] [Info] Start training from score -1.098612\n",
      "[LightGBM] [Info] Start training from score -1.098612\n",
      "[LightGBM] [Warning] No further splits with positive gain, best gain: -inf\n"
     ]
    },
    {
     "name": "stdout",
     "output_type": "stream",
     "text": [
      "[LightGBM] [Warning] Found whitespace in feature_names, replace with underlines\n",
      "[LightGBM] [Info] Auto-choosing row-wise multi-threading, the overhead of testing was 0.000420 seconds.\n",
      "You can set `force_row_wise=true` to remove the overhead.\n",
      "And if memory is not enough, you can set `force_col_wise=true`.\n",
      "[LightGBM] [Info] Total Bins 1254\n",
      "[LightGBM] [Info] Number of data points in the train set: 3477, number of used features: 21\n",
      "[LightGBM] [Info] Start training from score -1.098612\n",
      "[LightGBM] [Info] Start training from score -1.098612\n",
      "[LightGBM] [Info] Start training from score -1.098612\n",
      "[LightGBM] [Warning] No further splits with positive gain, best gain: -inf\n"
     ]
    },
    {
     "name": "stdout",
     "output_type": "stream",
     "text": [
      "[LightGBM] [Warning] Found whitespace in feature_names, replace with underlines\n",
      "[LightGBM] [Info] Auto-choosing row-wise multi-threading, the overhead of testing was 0.000406 seconds.\n",
      "You can set `force_row_wise=true` to remove the overhead.\n",
      "And if memory is not enough, you can set `force_col_wise=true`.\n",
      "[LightGBM] [Info] Total Bins 1254\n",
      "[LightGBM] [Info] Number of data points in the train set: 3477, number of used features: 21\n",
      "[LightGBM] [Info] Start training from score -1.098612\n",
      "[LightGBM] [Info] Start training from score -1.098612\n",
      "[LightGBM] [Info] Start training from score -1.098612\n",
      "[LightGBM] [Warning] No further splits with positive gain, best gain: -inf\n"
     ]
    },
    {
     "name": "stdout",
     "output_type": "stream",
     "text": [
      "[LightGBM] [Warning] Found whitespace in feature_names, replace with underlines\n",
      "[LightGBM] [Info] Auto-choosing row-wise multi-threading, the overhead of testing was 0.000435 seconds.\n",
      "You can set `force_row_wise=true` to remove the overhead.\n",
      "And if memory is not enough, you can set `force_col_wise=true`.\n",
      "[LightGBM] [Info] Total Bins 1254\n",
      "[LightGBM] [Info] Number of data points in the train set: 3477, number of used features: 21\n",
      "[LightGBM] [Info] Start training from score -1.098612\n",
      "[LightGBM] [Info] Start training from score -1.098612\n",
      "[LightGBM] [Info] Start training from score -1.098612\n",
      "[LightGBM] [Warning] No further splits with positive gain, best gain: -inf\n"
     ]
    },
    {
     "name": "stdout",
     "output_type": "stream",
     "text": [
      "[LightGBM] [Warning] Found whitespace in feature_names, replace with underlines\n",
      "[LightGBM] [Info] Auto-choosing col-wise multi-threading, the overhead of testing was 0.001434 seconds.\n",
      "You can set `force_col_wise=true` to remove the overhead.\n",
      "[LightGBM] [Info] Total Bins 1254\n",
      "[LightGBM] [Info] Number of data points in the train set: 3477, number of used features: 21\n",
      "[LightGBM] [Info] Start training from score -1.098612\n",
      "[LightGBM] [Info] Start training from score -1.098612\n",
      "[LightGBM] [Info] Start training from score -1.098612\n",
      "[LightGBM] [Warning] No further splits with positive gain, best gain: -inf\n"
     ]
    },
    {
     "name": "stdout",
     "output_type": "stream",
     "text": [
      "[LightGBM] [Warning] Found whitespace in feature_names, replace with underlines\n",
      "[LightGBM] [Info] Auto-choosing row-wise multi-threading, the overhead of testing was 0.000385 seconds.\n",
      "You can set `force_row_wise=true` to remove the overhead.\n",
      "And if memory is not enough, you can set `force_col_wise=true`.\n",
      "[LightGBM] [Info] Total Bins 1254\n",
      "[LightGBM] [Info] Number of data points in the train set: 3477, number of used features: 21\n",
      "[LightGBM] [Info] Start training from score -1.098612\n",
      "[LightGBM] [Info] Start training from score -1.098612\n",
      "[LightGBM] [Info] Start training from score -1.098612\n",
      "[LightGBM] [Warning] No further splits with positive gain, best gain: -inf\n"
     ]
    },
    {
     "name": "stdout",
     "output_type": "stream",
     "text": [
      "[LightGBM] [Warning] Found whitespace in feature_names, replace with underlines\n",
      "[LightGBM] [Info] Auto-choosing row-wise multi-threading, the overhead of testing was 0.000404 seconds.\n",
      "You can set `force_row_wise=true` to remove the overhead.\n",
      "And if memory is not enough, you can set `force_col_wise=true`.\n",
      "[LightGBM] [Info] Total Bins 1254\n",
      "[LightGBM] [Info] Number of data points in the train set: 3477, number of used features: 21\n",
      "[LightGBM] [Info] Start training from score -1.098612\n",
      "[LightGBM] [Info] Start training from score -1.098612\n",
      "[LightGBM] [Info] Start training from score -1.098612\n",
      "[LightGBM] [Warning] No further splits with positive gain, best gain: -inf\n"
     ]
    },
    {
     "name": "stdout",
     "output_type": "stream",
     "text": [
      "[LightGBM] [Warning] Found whitespace in feature_names, replace with underlines\n",
      "[LightGBM] [Info] Auto-choosing col-wise multi-threading, the overhead of testing was 0.001444 seconds.\n",
      "You can set `force_col_wise=true` to remove the overhead.\n",
      "[LightGBM] [Info] Total Bins 1254\n",
      "[LightGBM] [Info] Number of data points in the train set: 3477, number of used features: 21\n",
      "[LightGBM] [Info] Start training from score -1.098612\n",
      "[LightGBM] [Info] Start training from score -1.098612\n",
      "[LightGBM] [Info] Start training from score -1.098612\n",
      "[LightGBM] [Warning] No further splits with positive gain, best gain: -inf\n"
     ]
    },
    {
     "name": "stdout",
     "output_type": "stream",
     "text": [
      "[LightGBM] [Warning] Found whitespace in feature_names, replace with underlines\n",
      "[LightGBM] [Info] Auto-choosing col-wise multi-threading, the overhead of testing was 0.001224 seconds.\n",
      "You can set `force_col_wise=true` to remove the overhead.\n",
      "[LightGBM] [Info] Total Bins 1254\n",
      "[LightGBM] [Info] Number of data points in the train set: 3477, number of used features: 21\n",
      "[LightGBM] [Info] Start training from score -1.098612\n",
      "[LightGBM] [Info] Start training from score -1.098612\n",
      "[LightGBM] [Info] Start training from score -1.098612\n",
      "[LightGBM] [Warning] No further splits with positive gain, best gain: -inf\n"
     ]
    },
    {
     "name": "stdout",
     "output_type": "stream",
     "text": [
      "[LightGBM] [Warning] Found whitespace in feature_names, replace with underlines\n",
      "[LightGBM] [Info] Auto-choosing col-wise multi-threading, the overhead of testing was 0.001219 seconds.\n",
      "You can set `force_col_wise=true` to remove the overhead.\n",
      "[LightGBM] [Info] Total Bins 1254\n",
      "[LightGBM] [Info] Number of data points in the train set: 3477, number of used features: 21\n",
      "[LightGBM] [Info] Start training from score -1.098612\n",
      "[LightGBM] [Info] Start training from score -1.098612\n",
      "[LightGBM] [Info] Start training from score -1.098612\n",
      "[LightGBM] [Warning] No further splits with positive gain, best gain: -inf\n"
     ]
    },
    {
     "name": "stdout",
     "output_type": "stream",
     "text": [
      "[LightGBM] [Warning] Found whitespace in feature_names, replace with underlines\n",
      "[LightGBM] [Info] Auto-choosing col-wise multi-threading, the overhead of testing was 0.001708 seconds.\n",
      "You can set `force_col_wise=true` to remove the overhead.\n",
      "[LightGBM] [Info] Total Bins 1254\n",
      "[LightGBM] [Info] Number of data points in the train set: 3477, number of used features: 21\n",
      "[LightGBM] [Info] Start training from score -1.098612\n",
      "[LightGBM] [Info] Start training from score -1.098612\n",
      "[LightGBM] [Info] Start training from score -1.098612\n",
      "[LightGBM] [Warning] No further splits with positive gain, best gain: -inf\n"
     ]
    },
    {
     "name": "stdout",
     "output_type": "stream",
     "text": [
      "[LightGBM] [Warning] Found whitespace in feature_names, replace with underlines\n",
      "[LightGBM] [Info] Auto-choosing row-wise multi-threading, the overhead of testing was 0.000389 seconds.\n",
      "You can set `force_row_wise=true` to remove the overhead.\n",
      "And if memory is not enough, you can set `force_col_wise=true`.\n",
      "[LightGBM] [Info] Total Bins 1254\n",
      "[LightGBM] [Info] Number of data points in the train set: 3477, number of used features: 21\n",
      "[LightGBM] [Info] Start training from score -1.098612\n",
      "[LightGBM] [Info] Start training from score -1.098612\n",
      "[LightGBM] [Info] Start training from score -1.098612\n",
      "[LightGBM] [Warning] No further splits with positive gain, best gain: -inf\n"
     ]
    },
    {
     "name": "stdout",
     "output_type": "stream",
     "text": [
      "[LightGBM] [Warning] Found whitespace in feature_names, replace with underlines\n",
      "[LightGBM] [Info] Auto-choosing col-wise multi-threading, the overhead of testing was 0.000824 seconds.\n",
      "You can set `force_col_wise=true` to remove the overhead.\n",
      "[LightGBM] [Info] Total Bins 1254\n",
      "[LightGBM] [Info] Number of data points in the train set: 3477, number of used features: 21\n",
      "[LightGBM] [Info] Start training from score -1.098612\n",
      "[LightGBM] [Info] Start training from score -1.098612\n",
      "[LightGBM] [Info] Start training from score -1.098612\n",
      "[LightGBM] [Warning] No further splits with positive gain, best gain: -inf\n"
     ]
    },
    {
     "name": "stdout",
     "output_type": "stream",
     "text": [
      "[LightGBM] [Warning] Found whitespace in feature_names, replace with underlines\n",
      "[LightGBM] [Info] Auto-choosing col-wise multi-threading, the overhead of testing was 0.001256 seconds.\n",
      "You can set `force_col_wise=true` to remove the overhead.\n",
      "[LightGBM] [Info] Total Bins 1254\n",
      "[LightGBM] [Info] Number of data points in the train set: 3477, number of used features: 21\n",
      "[LightGBM] [Info] Start training from score -1.098612\n",
      "[LightGBM] [Info] Start training from score -1.098612\n",
      "[LightGBM] [Info] Start training from score -1.098612\n",
      "[LightGBM] [Warning] No further splits with positive gain, best gain: -inf\n"
     ]
    },
    {
     "name": "stdout",
     "output_type": "stream",
     "text": [
      "[LightGBM] [Warning] Found whitespace in feature_names, replace with underlines\n",
      "[LightGBM] [Info] Auto-choosing col-wise multi-threading, the overhead of testing was 0.001253 seconds.\n",
      "You can set `force_col_wise=true` to remove the overhead.\n",
      "[LightGBM] [Info] Total Bins 1254\n",
      "[LightGBM] [Info] Number of data points in the train set: 3477, number of used features: 21\n",
      "[LightGBM] [Info] Start training from score -1.098612\n",
      "[LightGBM] [Info] Start training from score -1.098612\n",
      "[LightGBM] [Info] Start training from score -1.098612\n",
      "[LightGBM] [Warning] No further splits with positive gain, best gain: -inf\n"
     ]
    },
    {
     "name": "stdout",
     "output_type": "stream",
     "text": [
      "[LightGBM] [Warning] Found whitespace in feature_names, replace with underlines\n",
      "[LightGBM] [Info] Auto-choosing col-wise multi-threading, the overhead of testing was 0.001221 seconds.\n",
      "You can set `force_col_wise=true` to remove the overhead.\n",
      "[LightGBM] [Info] Total Bins 1254\n",
      "[LightGBM] [Info] Number of data points in the train set: 3477, number of used features: 21\n",
      "[LightGBM] [Info] Start training from score -1.098612\n",
      "[LightGBM] [Info] Start training from score -1.098612\n",
      "[LightGBM] [Info] Start training from score -1.098612\n",
      "[LightGBM] [Warning] No further splits with positive gain, best gain: -inf\n"
     ]
    },
    {
     "name": "stdout",
     "output_type": "stream",
     "text": [
      "[LightGBM] [Warning] Found whitespace in feature_names, replace with underlines\n",
      "[LightGBM] [Info] Auto-choosing col-wise multi-threading, the overhead of testing was 0.000647 seconds.\n",
      "You can set `force_col_wise=true` to remove the overhead.\n",
      "[LightGBM] [Info] Total Bins 1254\n",
      "[LightGBM] [Info] Number of data points in the train set: 3477, number of used features: 21\n",
      "[LightGBM] [Info] Start training from score -1.098612\n",
      "[LightGBM] [Info] Start training from score -1.098612\n",
      "[LightGBM] [Info] Start training from score -1.098612\n",
      "[LightGBM] [Warning] No further splits with positive gain, best gain: -inf\n"
     ]
    },
    {
     "name": "stdout",
     "output_type": "stream",
     "text": [
      "542 ms ± 24.9 ms per loop (mean ± std. dev. of 5 runs, 5 loops each)\n",
      "[LightGBM] [Warning] Found whitespace in feature_names, replace with underlines\n",
      "[LightGBM] [Info] Auto-choosing col-wise multi-threading, the overhead of testing was 0.000714 seconds.\n",
      "You can set `force_col_wise=true` to remove the overhead.\n",
      "[LightGBM] [Info] Total Bins 1254\n",
      "[LightGBM] [Info] Number of data points in the train set: 3477, number of used features: 21\n",
      "[LightGBM] [Info] Start training from score -1.098612\n",
      "[LightGBM] [Info] Start training from score -1.098612\n",
      "[LightGBM] [Info] Start training from score -1.098612\n",
      "[LightGBM] [Warning] No further splits with positive gain, best gain: -inf\n"
     ]
    },
    {
     "name": "stdout",
     "output_type": "stream",
     "text": [
      "Accuracy : 0.9561128526645768\n",
      "F1 : 0.9555792458398668\n",
      "Recall : 0.9561128526645768\n",
      "Precision : 0.9554740609172917\n",
      "Jaccard : 0.9172395981761186\n",
      "Kappa : 0.8783404614672151\n"
     ]
    }
   ],
   "source": [
    "lgbm = LGBMClassifier()\n",
    "result = %timeit -o -n 5 -r 5 lgbm.fit(X_train, y_train)\n",
    "lgbm.fit(X_train, y_train)\n",
    "measures = performance_measures(\"LightGBM\",lgbm, X_test, y_test, performanceMeasuresDF)\n",
    "performanceMeasuresDF.loc[len(performanceMeasuresDF)] = measures\n",
    "exec_time += result.average"
   ]
  },
  {
   "cell_type": "code",
   "execution_count": 22,
   "id": "50f9f769",
   "metadata": {
    "execution": {
     "iopub.execute_input": "2024-07-14T06:14:41.996163Z",
     "iopub.status.busy": "2024-07-14T06:14:41.996163Z",
     "iopub.status.idle": "2024-07-14T06:14:42.011668Z",
     "shell.execute_reply": "2024-07-14T06:14:42.009817Z"
    },
    "papermill": {
     "duration": 0.038305,
     "end_time": "2024-07-14T06:14:42.013140",
     "exception": false,
     "start_time": "2024-07-14T06:14:41.974835",
     "status": "completed"
    },
    "tags": []
   },
   "outputs": [],
   "source": [
    "performanceMeasuresDF[\"Weighted_Score\"] = performanceMeasuresDF[\"Accuracy\"] + performanceMeasuresDF[\"F1-Score\"] + performanceMeasuresDF[\"Recall\"] + performanceMeasuresDF[\"Precision\"] + performanceMeasuresDF[\"Jaccard-Score\"] + performanceMeasuresDF[\"Kappa-Score\"]"
   ]
  },
  {
   "cell_type": "code",
   "execution_count": 23,
   "id": "73625043",
   "metadata": {
    "execution": {
     "iopub.execute_input": "2024-07-14T06:14:42.052571Z",
     "iopub.status.busy": "2024-07-14T06:14:42.052571Z",
     "iopub.status.idle": "2024-07-14T06:14:42.061284Z",
     "shell.execute_reply": "2024-07-14T06:14:42.061284Z"
    },
    "papermill": {
     "duration": 0.02952,
     "end_time": "2024-07-14T06:14:42.065754",
     "exception": false,
     "start_time": "2024-07-14T06:14:42.036234",
     "status": "completed"
    },
    "tags": []
   },
   "outputs": [],
   "source": [
    "performanceTable = performanceMeasuresDF.sort_values(by = \"Weighted_Score\",ascending= False)"
   ]
  },
  {
   "cell_type": "code",
   "execution_count": 24,
   "id": "b3b8a5b8",
   "metadata": {
    "execution": {
     "iopub.execute_input": "2024-07-14T06:14:42.101331Z",
     "iopub.status.busy": "2024-07-14T06:14:42.099818Z",
     "iopub.status.idle": "2024-07-14T06:14:42.909025Z",
     "shell.execute_reply": "2024-07-14T06:14:42.909025Z"
    },
    "papermill": {
     "duration": 0.833727,
     "end_time": "2024-07-14T06:14:42.915996",
     "exception": false,
     "start_time": "2024-07-14T06:14:42.082269",
     "status": "completed"
    },
    "tags": []
   },
   "outputs": [],
   "source": [
    "performanceTable.to_excel(\"scripts/new_results/\"+ scaler_name + '.xlsx', index = False)"
   ]
  },
  {
   "cell_type": "code",
   "execution_count": 25,
   "id": "e03120d1",
   "metadata": {
    "execution": {
     "iopub.execute_input": "2024-07-14T06:14:43.035682Z",
     "iopub.status.busy": "2024-07-14T06:14:43.035682Z",
     "iopub.status.idle": "2024-07-14T06:14:43.067832Z",
     "shell.execute_reply": "2024-07-14T06:14:43.066313Z"
    },
    "papermill": {
     "duration": 0.115054,
     "end_time": "2024-07-14T06:14:43.067832",
     "exception": false,
     "start_time": "2024-07-14T06:14:42.952778",
     "status": "completed"
    },
    "tags": []
   },
   "outputs": [],
   "source": [
    "with open(r\"scripts/new_results/\" + scaler_name + r\" Timings.txt\", \"+a\") as file:\n",
    "    file.write(str(exec_time) + \"\\n\")"
   ]
  }
 ],
 "metadata": {
  "kernelspec": {
   "display_name": "Python 3 (ipykernel)",
   "language": "python",
   "name": "python3"
  },
  "language_info": {
   "codemirror_mode": {
    "name": "ipython",
    "version": 3
   },
   "file_extension": ".py",
   "mimetype": "text/x-python",
   "name": "python",
   "nbconvert_exporter": "python",
   "pygments_lexer": "ipython3",
   "version": "3.11.9"
  },
  "papermill": {
   "default_parameters": {},
   "duration": 160.025612,
   "end_time": "2024-07-14T06:14:44.007349",
   "environment_variables": {},
   "exception": null,
   "input_path": "scripts/minmax_scaler.ipynb",
   "output_path": "scripts/out/minmax_scaler.ipynb",
   "parameters": {},
   "start_time": "2024-07-14T06:12:03.981737",
   "version": "2.6.0"
  }
 },
 "nbformat": 4,
 "nbformat_minor": 5
}