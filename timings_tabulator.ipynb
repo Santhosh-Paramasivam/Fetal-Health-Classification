{
 "cells": [
  {
   "cell_type": "code",
   "execution_count": 127,
   "metadata": {},
   "outputs": [],
   "source": [
    "import pandas as pd\n",
    "import numpy as np\n",
    "\n",
    "nameslocs = {\"Normalizer\":\"scripts\\\\new_results\\\\Normalizer Timings.txt\",\n",
    "             \"MaxAbs Scaler\":\"scripts\\\\new_results\\\\MaxAbs Scaler Timings.txt\",\n",
    "             \"MinMax Scaler\":\"scripts\\\\new_results\\\\MinMax Scaler Timings.txt\",\n",
    "             \"Quantile Transformer\":\"scripts\\\\new_results\\\\Quantile Transformer Timings.txt\",\n",
    "             \"Robust Scaler\":\"scripts\\\\new_results\\\\Robust Scaler Timings.txt\",\n",
    "             \"Standard Scaler\":\"scripts\\\\new_results\\\\Standard Scaler Timings.txt\",\n",
    "             \"Unnormalized\":\"scripts\\\\new_results\\\\Unnormalized Timings.txt\"}\n",
    "values = []"
   ]
  },
  {
   "cell_type": "code",
   "execution_count": 128,
   "metadata": {},
   "outputs": [],
   "source": [
    "import seaborn as sns\n",
    "import matplotlib.pyplot as plt"
   ]
  },
  {
   "cell_type": "code",
   "execution_count": 129,
   "metadata": {},
   "outputs": [],
   "source": [
    "scalerTimings = {}"
   ]
  },
  {
   "cell_type": "code",
   "execution_count": 130,
   "metadata": {},
   "outputs": [
    {
     "name": "stdout",
     "output_type": "stream",
     "text": [
      "[9.873512828010135, 9.912109831990673, 8.290905072002206, 8.530833551990801, 7.81091696800897, 7.824256548001432, 7.642130351976957, 9.18565519199241, 7.736516443970612, 8.658578740013764]\n",
      "0    9.873513\n",
      "1    9.912110\n",
      "2    8.290905\n",
      "3    8.530834\n",
      "4    7.810917\n",
      "5    7.824257\n",
      "6    7.642130\n",
      "7    9.185655\n",
      "8    7.736516\n",
      "9    8.658579\n",
      "dtype: float64\n",
      "[6.841506260007154, 6.276364963988308, 5.211644531995989, 5.516692444004584, 5.051232380005532, 4.919319627997465, 5.05762628400931, 4.9128468359960245, 4.948569919997826, 5.975698960002046]\n",
      "0    6.841506\n",
      "1    6.276365\n",
      "2    5.211645\n",
      "3    5.516692\n",
      "4    5.051232\n",
      "5    4.919320\n",
      "6    5.057626\n",
      "7    4.912847\n",
      "8    4.948570\n",
      "9    5.975699\n",
      "dtype: float64\n",
      "[5.602360892002471, 5.809208643995225, 4.985501344001386, 6.405696616012137, 4.832947032004595, 4.6665429679933, 4.773799844007008, 4.691874588003848, 4.7592199559952135, 5.823954119998962]\n",
      "0    5.602361\n",
      "1    5.809209\n",
      "2    4.985501\n",
      "3    6.405697\n",
      "4    4.832947\n",
      "5    4.666543\n",
      "6    4.773800\n",
      "7    4.691875\n",
      "8    4.759220\n",
      "9    5.823954\n",
      "dtype: float64\n",
      "[5.6771256239991645, 5.221060240000951, 5.085309015996754, 4.816176931997761, 4.371411071994808, 5.33283502000384, 4.421492556007578, 4.617475776004139, 5.193568620001898, 4.633436375982129]\n",
      "0    5.677126\n",
      "1    5.221060\n",
      "2    5.085309\n",
      "3    4.816177\n",
      "4    4.371411\n",
      "5    5.332835\n",
      "6    4.421493\n",
      "7    4.617476\n",
      "8    5.193569\n",
      "9    4.633436\n",
      "dtype: float64\n",
      "[8.441425696013031, 7.371751020003575, 6.9337662880029525, 7.0584199360176, 6.598723856003489, 6.450098479988519, 6.508388008002658, 6.421926187993959, 7.900911311984527, 6.303740952005609]\n",
      "0    8.441426\n",
      "1    7.371751\n",
      "2    6.933766\n",
      "3    7.058420\n",
      "4    6.598724\n",
      "5    6.450098\n",
      "6    6.508388\n",
      "7    6.421926\n",
      "8    7.900911\n",
      "9    6.303741\n",
      "dtype: float64\n",
      "[5.081480131985154, 5.267023151998874, 5.435618159980513, 4.863715212002862, 4.563821628005245, 4.5652955440129155, 4.5648644879879425, 4.430395675995387, 4.527429056002292, 5.462391011998989]\n",
      "0    5.081480\n",
      "1    5.267023\n",
      "2    5.435618\n",
      "3    4.863715\n",
      "4    4.563822\n",
      "5    4.565296\n",
      "6    4.564864\n",
      "7    4.430396\n",
      "8    4.527429\n",
      "9    5.462391\n",
      "dtype: float64\n",
      "[45.79378087999764, 41.62382044800322, 41.538638627990146, 39.14482577199815, 34.35370289600454, 37.85698759200284, 34.297018596017736, 36.73863713601603, 34.57394575600512, 44.99655216800514]\n",
      "0    45.793781\n",
      "1    41.623820\n",
      "2    41.538639\n",
      "3    39.144826\n",
      "4    34.353703\n",
      "5    37.856988\n",
      "6    34.297019\n",
      "7    36.738637\n",
      "8    34.573946\n",
      "9    44.996552\n",
      "dtype: float64\n"
     ]
    }
   ],
   "source": [
    "for name in nameslocs.keys():\n",
    "    with open(nameslocs[name], \"r\") as file:\n",
    "        item_list = file.readlines()\n",
    "        item_string = ''\n",
    "        for item in item_list:\n",
    "            item_string += item\n",
    "\n",
    "        item_list = item_string.split(\"\\n\")\n",
    "        number_list = []\n",
    "        item_list.remove('')\n",
    "        for item in item_list:\n",
    "            number_list.append(float(item))\n",
    "        print(number_list)\n",
    "        print(pd.Series(number_list))\n",
    "        scalerTimings[name] = pd.Series(number_list)"
   ]
  },
  {
   "cell_type": "code",
   "execution_count": 131,
   "metadata": {},
   "outputs": [],
   "source": [
    "scalerTimings = pd.DataFrame(scalerTimings)"
   ]
  },
  {
   "cell_type": "code",
   "execution_count": 132,
   "metadata": {},
   "outputs": [
    {
     "data": {
      "text/html": [
       "<div>\n",
       "<style scoped>\n",
       "    .dataframe tbody tr th:only-of-type {\n",
       "        vertical-align: middle;\n",
       "    }\n",
       "\n",
       "    .dataframe tbody tr th {\n",
       "        vertical-align: top;\n",
       "    }\n",
       "\n",
       "    .dataframe thead th {\n",
       "        text-align: right;\n",
       "    }\n",
       "</style>\n",
       "<table border=\"1\" class=\"dataframe\">\n",
       "  <thead>\n",
       "    <tr style=\"text-align: right;\">\n",
       "      <th></th>\n",
       "      <th>Normalizer</th>\n",
       "      <th>MaxAbs Scaler</th>\n",
       "      <th>MinMax Scaler</th>\n",
       "      <th>Quantile Transformer</th>\n",
       "      <th>Robust Scaler</th>\n",
       "      <th>Standard Scaler</th>\n",
       "      <th>Unnormalized</th>\n",
       "    </tr>\n",
       "  </thead>\n",
       "  <tbody>\n",
       "    <tr>\n",
       "      <th>0</th>\n",
       "      <td>9.873513</td>\n",
       "      <td>6.841506</td>\n",
       "      <td>5.602361</td>\n",
       "      <td>5.677126</td>\n",
       "      <td>8.441426</td>\n",
       "      <td>5.081480</td>\n",
       "      <td>45.793781</td>\n",
       "    </tr>\n",
       "    <tr>\n",
       "      <th>1</th>\n",
       "      <td>9.912110</td>\n",
       "      <td>6.276365</td>\n",
       "      <td>5.809209</td>\n",
       "      <td>5.221060</td>\n",
       "      <td>7.371751</td>\n",
       "      <td>5.267023</td>\n",
       "      <td>41.623820</td>\n",
       "    </tr>\n",
       "    <tr>\n",
       "      <th>2</th>\n",
       "      <td>8.290905</td>\n",
       "      <td>5.211645</td>\n",
       "      <td>4.985501</td>\n",
       "      <td>5.085309</td>\n",
       "      <td>6.933766</td>\n",
       "      <td>5.435618</td>\n",
       "      <td>41.538639</td>\n",
       "    </tr>\n",
       "    <tr>\n",
       "      <th>3</th>\n",
       "      <td>8.530834</td>\n",
       "      <td>5.516692</td>\n",
       "      <td>6.405697</td>\n",
       "      <td>4.816177</td>\n",
       "      <td>7.058420</td>\n",
       "      <td>4.863715</td>\n",
       "      <td>39.144826</td>\n",
       "    </tr>\n",
       "    <tr>\n",
       "      <th>4</th>\n",
       "      <td>7.810917</td>\n",
       "      <td>5.051232</td>\n",
       "      <td>4.832947</td>\n",
       "      <td>4.371411</td>\n",
       "      <td>6.598724</td>\n",
       "      <td>4.563822</td>\n",
       "      <td>34.353703</td>\n",
       "    </tr>\n",
       "    <tr>\n",
       "      <th>5</th>\n",
       "      <td>7.824257</td>\n",
       "      <td>4.919320</td>\n",
       "      <td>4.666543</td>\n",
       "      <td>5.332835</td>\n",
       "      <td>6.450098</td>\n",
       "      <td>4.565296</td>\n",
       "      <td>37.856988</td>\n",
       "    </tr>\n",
       "    <tr>\n",
       "      <th>6</th>\n",
       "      <td>7.642130</td>\n",
       "      <td>5.057626</td>\n",
       "      <td>4.773800</td>\n",
       "      <td>4.421493</td>\n",
       "      <td>6.508388</td>\n",
       "      <td>4.564864</td>\n",
       "      <td>34.297019</td>\n",
       "    </tr>\n",
       "    <tr>\n",
       "      <th>7</th>\n",
       "      <td>9.185655</td>\n",
       "      <td>4.912847</td>\n",
       "      <td>4.691875</td>\n",
       "      <td>4.617476</td>\n",
       "      <td>6.421926</td>\n",
       "      <td>4.430396</td>\n",
       "      <td>36.738637</td>\n",
       "    </tr>\n",
       "    <tr>\n",
       "      <th>8</th>\n",
       "      <td>7.736516</td>\n",
       "      <td>4.948570</td>\n",
       "      <td>4.759220</td>\n",
       "      <td>5.193569</td>\n",
       "      <td>7.900911</td>\n",
       "      <td>4.527429</td>\n",
       "      <td>34.573946</td>\n",
       "    </tr>\n",
       "    <tr>\n",
       "      <th>9</th>\n",
       "      <td>8.658579</td>\n",
       "      <td>5.975699</td>\n",
       "      <td>5.823954</td>\n",
       "      <td>4.633436</td>\n",
       "      <td>6.303741</td>\n",
       "      <td>5.462391</td>\n",
       "      <td>44.996552</td>\n",
       "    </tr>\n",
       "  </tbody>\n",
       "</table>\n",
       "</div>"
      ],
      "text/plain": [
       "   Normalizer  MaxAbs Scaler  MinMax Scaler  Quantile Transformer  \\\n",
       "0    9.873513       6.841506       5.602361              5.677126   \n",
       "1    9.912110       6.276365       5.809209              5.221060   \n",
       "2    8.290905       5.211645       4.985501              5.085309   \n",
       "3    8.530834       5.516692       6.405697              4.816177   \n",
       "4    7.810917       5.051232       4.832947              4.371411   \n",
       "5    7.824257       4.919320       4.666543              5.332835   \n",
       "6    7.642130       5.057626       4.773800              4.421493   \n",
       "7    9.185655       4.912847       4.691875              4.617476   \n",
       "8    7.736516       4.948570       4.759220              5.193569   \n",
       "9    8.658579       5.975699       5.823954              4.633436   \n",
       "\n",
       "   Robust Scaler  Standard Scaler  Unnormalized  \n",
       "0       8.441426         5.081480     45.793781  \n",
       "1       7.371751         5.267023     41.623820  \n",
       "2       6.933766         5.435618     41.538639  \n",
       "3       7.058420         4.863715     39.144826  \n",
       "4       6.598724         4.563822     34.353703  \n",
       "5       6.450098         4.565296     37.856988  \n",
       "6       6.508388         4.564864     34.297019  \n",
       "7       6.421926         4.430396     36.738637  \n",
       "8       7.900911         4.527429     34.573946  \n",
       "9       6.303741         5.462391     44.996552  "
      ]
     },
     "execution_count": 132,
     "metadata": {},
     "output_type": "execute_result"
    }
   ],
   "source": [
    "scalerTimings"
   ]
  },
  {
   "cell_type": "code",
   "execution_count": 133,
   "metadata": {},
   "outputs": [
    {
     "name": "stdout",
     "output_type": "stream",
     "text": [
      "Normalizer\n",
      "MaxAbs Scaler\n",
      "MinMax Scaler\n",
      "Quantile Transformer\n",
      "Robust Scaler\n",
      "Standard Scaler\n",
      "Unnormalized\n"
     ]
    }
   ],
   "source": [
    "for i in scalerTimings.columns:\n",
    "    print(i)"
   ]
  },
  {
   "cell_type": "code",
   "execution_count": 134,
   "metadata": {},
   "outputs": [],
   "source": [
    "shorter = { \"Normalizer\":\"N\",\n",
    "            \"MaxAbs Scaler\":\"MAS\",\n",
    "            \"MinMax Scaler\":\"MMS\",\n",
    "            \"Quantile Transformer\":\"QT\",\n",
    "            \"Robust Scaler\":\"RS\",\n",
    "            \"Standard Scaler\":\"SS\",\n",
    "            \"Unnormalized\":\"UN\"\n",
    "            }\n",
    "\n",
    "scalerTimings.rename(shorter, axis = 1, inplace = True)"
   ]
  },
  {
   "cell_type": "code",
   "execution_count": 135,
   "metadata": {},
   "outputs": [],
   "source": [
    "scalerTimingsMelt = scalerTimings.melt()\n",
    "scalerTimingsMelt.rename({\"variable\":\"Scaling Algorithm\", \"value\":\"Training time / sec\"}, axis = 1, inplace = True)"
   ]
  },
  {
   "cell_type": "code",
   "execution_count": 136,
   "metadata": {},
   "outputs": [
    {
     "data": {
      "text/plain": [
       "Text(0.5, 1.0, 'Training time for scaling algorithms')"
      ]
     },
     "execution_count": 136,
     "metadata": {},
     "output_type": "execute_result"
    },
    {
     "data": {
      "image/png": "[encoded data removed]",
      "text/plain": [
       "<Figure size 640x480 with 1 Axes>"
      ]
     },
     "metadata": {},
     "output_type": "display_data"
    }
   ],
   "source": [
    "sns.boxplot(data = scalerTimingsMelt, x = 'Scaling Algorithm', y = 'Training time / sec', hue = 'Scaling Algorithm')\n",
    "plt.title(\"Training time for scaling algorithms\")"
   ]
  },
  {
   "cell_type": "code",
   "execution_count": 137,
   "metadata": {},
   "outputs": [
    {
     "data": {
      "text/html": [
       "<div>\n",
       "<style scoped>\n",
       "    .dataframe tbody tr th:only-of-type {\n",
       "        vertical-align: middle;\n",
       "    }\n",
       "\n",
       "    .dataframe tbody tr th {\n",
       "        vertical-align: top;\n",
       "    }\n",
       "\n",
       "    .dataframe thead th {\n",
       "        text-align: right;\n",
       "    }\n",
       "</style>\n",
       "<table border=\"1\" class=\"dataframe\">\n",
       "  <thead>\n",
       "    <tr style=\"text-align: right;\">\n",
       "      <th></th>\n",
       "      <th>N</th>\n",
       "      <th>MAS</th>\n",
       "      <th>MMS</th>\n",
       "      <th>QT</th>\n",
       "      <th>RS</th>\n",
       "      <th>SS</th>\n",
       "    </tr>\n",
       "  </thead>\n",
       "  <tbody>\n",
       "    <tr>\n",
       "      <th>0</th>\n",
       "      <td>9.873513</td>\n",
       "      <td>6.841506</td>\n",
       "      <td>5.602361</td>\n",
       "      <td>5.677126</td>\n",
       "      <td>8.441426</td>\n",
       "      <td>5.081480</td>\n",
       "    </tr>\n",
       "    <tr>\n",
       "      <th>1</th>\n",
       "      <td>9.912110</td>\n",
       "      <td>6.276365</td>\n",
       "      <td>5.809209</td>\n",
       "      <td>5.221060</td>\n",
       "      <td>7.371751</td>\n",
       "      <td>5.267023</td>\n",
       "    </tr>\n",
       "    <tr>\n",
       "      <th>2</th>\n",
       "      <td>8.290905</td>\n",
       "      <td>5.211645</td>\n",
       "      <td>4.985501</td>\n",
       "      <td>5.085309</td>\n",
       "      <td>6.933766</td>\n",
       "      <td>5.435618</td>\n",
       "    </tr>\n",
       "    <tr>\n",
       "      <th>3</th>\n",
       "      <td>8.530834</td>\n",
       "      <td>5.516692</td>\n",
       "      <td>6.405697</td>\n",
       "      <td>4.816177</td>\n",
       "      <td>7.058420</td>\n",
       "      <td>4.863715</td>\n",
       "    </tr>\n",
       "    <tr>\n",
       "      <th>4</th>\n",
       "      <td>7.810917</td>\n",
       "      <td>5.051232</td>\n",
       "      <td>4.832947</td>\n",
       "      <td>4.371411</td>\n",
       "      <td>6.598724</td>\n",
       "      <td>4.563822</td>\n",
       "    </tr>\n",
       "    <tr>\n",
       "      <th>5</th>\n",
       "      <td>7.824257</td>\n",
       "      <td>4.919320</td>\n",
       "      <td>4.666543</td>\n",
       "      <td>5.332835</td>\n",
       "      <td>6.450098</td>\n",
       "      <td>4.565296</td>\n",
       "    </tr>\n",
       "    <tr>\n",
       "      <th>6</th>\n",
       "      <td>7.642130</td>\n",
       "      <td>5.057626</td>\n",
       "      <td>4.773800</td>\n",
       "      <td>4.421493</td>\n",
       "      <td>6.508388</td>\n",
       "      <td>4.564864</td>\n",
       "    </tr>\n",
       "    <tr>\n",
       "      <th>7</th>\n",
       "      <td>9.185655</td>\n",
       "      <td>4.912847</td>\n",
       "      <td>4.691875</td>\n",
       "      <td>4.617476</td>\n",
       "      <td>6.421926</td>\n",
       "      <td>4.430396</td>\n",
       "    </tr>\n",
       "    <tr>\n",
       "      <th>8</th>\n",
       "      <td>7.736516</td>\n",
       "      <td>4.948570</td>\n",
       "      <td>4.759220</td>\n",
       "      <td>5.193569</td>\n",
       "      <td>7.900911</td>\n",
       "      <td>4.527429</td>\n",
       "    </tr>\n",
       "    <tr>\n",
       "      <th>9</th>\n",
       "      <td>8.658579</td>\n",
       "      <td>5.975699</td>\n",
       "      <td>5.823954</td>\n",
       "      <td>4.633436</td>\n",
       "      <td>6.303741</td>\n",
       "      <td>5.462391</td>\n",
       "    </tr>\n",
       "  </tbody>\n",
       "</table>\n",
       "</div>"
      ],
      "text/plain": [
       "          N       MAS       MMS        QT        RS        SS\n",
       "0  9.873513  6.841506  5.602361  5.677126  8.441426  5.081480\n",
       "1  9.912110  6.276365  5.809209  5.221060  7.371751  5.267023\n",
       "2  8.290905  5.211645  4.985501  5.085309  6.933766  5.435618\n",
       "3  8.530834  5.516692  6.405697  4.816177  7.058420  4.863715\n",
       "4  7.810917  5.051232  4.832947  4.371411  6.598724  4.563822\n",
       "5  7.824257  4.919320  4.666543  5.332835  6.450098  4.565296\n",
       "6  7.642130  5.057626  4.773800  4.421493  6.508388  4.564864\n",
       "7  9.185655  4.912847  4.691875  4.617476  6.421926  4.430396\n",
       "8  7.736516  4.948570  4.759220  5.193569  7.900911  4.527429\n",
       "9  8.658579  5.975699  5.823954  4.633436  6.303741  5.462391"
      ]
     },
     "execution_count": 137,
     "metadata": {},
     "output_type": "execute_result"
    }
   ],
   "source": [
    "normalizedScalerTimings = scalerTimings.drop('UN', axis = 1)\n",
    "normalizedScalerTimings"
   ]
  },
  {
   "cell_type": "code",
   "execution_count": 138,
   "metadata": {},
   "outputs": [],
   "source": [
    "normalizedScalerTimingsMelt = normalizedScalerTimings.melt()\n",
    "normalizedScalerTimingsMelt.rename({\"variable\":\"Scaling Algorithm\", \"value\":\"Training time / sec\"}, axis = 1, inplace = True)"
   ]
  },
  {
   "cell_type": "code",
   "execution_count": 139,
   "metadata": {},
   "outputs": [
    {
     "data": {
      "text/plain": [
       "Text(0.5, 1.0, 'Training time for scaling algorithms')"
      ]
     },
     "execution_count": 139,
     "metadata": {},
     "output_type": "execute_result"
    },
    {
     "data": {
      "image/png": "[encoded data removed]",
      "text/plain": [
       "<Figure size 640x480 with 1 Axes>"
      ]
     },
     "metadata": {},
     "output_type": "display_data"
    }
   ],
   "source": [
    "sns.boxplot(data = normalizedScalerTimingsMelt, x = 'Scaling Algorithm', y = 'Training time / sec', hue = 'Scaling Algorithm')\n",
    "plt.title(\"Training time for scaling algorithms\")"
   ]
  },
  {
   "cell_type": "code",
   "execution_count": 140,
   "metadata": {},
   "outputs": [],
   "source": [
    "summaryStats = {\"median\":scalerTimings.median(),\"std\":scalerTimings.std()}"
   ]
  },
  {
   "cell_type": "code",
   "execution_count": 141,
   "metadata": {},
   "outputs": [
    {
     "data": {
      "text/html": [
       "<div>\n",
       "<style scoped>\n",
       "    .dataframe tbody tr th:only-of-type {\n",
       "        vertical-align: middle;\n",
       "    }\n",
       "\n",
       "    .dataframe tbody tr th {\n",
       "        vertical-align: top;\n",
       "    }\n",
       "\n",
       "    .dataframe thead th {\n",
       "        text-align: right;\n",
       "    }\n",
       "</style>\n",
       "<table border=\"1\" class=\"dataframe\">\n",
       "  <thead>\n",
       "    <tr style=\"text-align: right;\">\n",
       "      <th></th>\n",
       "      <th>median</th>\n",
       "      <th>std</th>\n",
       "    </tr>\n",
       "  </thead>\n",
       "  <tbody>\n",
       "    <tr>\n",
       "      <th>N</th>\n",
       "      <td>8.410869</td>\n",
       "      <td>0.859534</td>\n",
       "    </tr>\n",
       "    <tr>\n",
       "      <th>MAS</th>\n",
       "      <td>5.134635</td>\n",
       "      <td>0.673867</td>\n",
       "    </tr>\n",
       "    <tr>\n",
       "      <th>MMS</th>\n",
       "      <td>4.909224</td>\n",
       "      <td>0.620319</td>\n",
       "    </tr>\n",
       "    <tr>\n",
       "      <th>QT</th>\n",
       "      <td>4.950743</td>\n",
       "      <td>0.430435</td>\n",
       "    </tr>\n",
       "    <tr>\n",
       "      <th>RS</th>\n",
       "      <td>6.766245</td>\n",
       "      <td>0.711757</td>\n",
       "    </tr>\n",
       "    <tr>\n",
       "      <th>SS</th>\n",
       "      <td>4.714505</td>\n",
       "      <td>0.403204</td>\n",
       "    </tr>\n",
       "    <tr>\n",
       "      <th>UN</th>\n",
       "      <td>38.500907</td>\n",
       "      <td>4.282993</td>\n",
       "    </tr>\n",
       "  </tbody>\n",
       "</table>\n",
       "</div>"
      ],
      "text/plain": [
       "        median       std\n",
       "N     8.410869  0.859534\n",
       "MAS   5.134635  0.673867\n",
       "MMS   4.909224  0.620319\n",
       "QT    4.950743  0.430435\n",
       "RS    6.766245  0.711757\n",
       "SS    4.714505  0.403204\n",
       "UN   38.500907  4.282993"
      ]
     },
     "execution_count": 141,
     "metadata": {},
     "output_type": "execute_result"
    }
   ],
   "source": [
    "summaryStats = pd.DataFrame(summaryStats)\n",
    "summaryStats"
   ]
  },
  {
   "cell_type": "code",
   "execution_count": 142,
   "metadata": {},
   "outputs": [
    {
     "data": {
      "text/html": [
       "<div>\n",
       "<style scoped>\n",
       "    .dataframe tbody tr th:only-of-type {\n",
       "        vertical-align: middle;\n",
       "    }\n",
       "\n",
       "    .dataframe tbody tr th {\n",
       "        vertical-align: top;\n",
       "    }\n",
       "\n",
       "    .dataframe thead th {\n",
       "        text-align: right;\n",
       "    }\n",
       "</style>\n",
       "<table border=\"1\" class=\"dataframe\">\n",
       "  <thead>\n",
       "    <tr style=\"text-align: right;\">\n",
       "      <th></th>\n",
       "      <th>N</th>\n",
       "      <th>MAS</th>\n",
       "      <th>MMS</th>\n",
       "      <th>QT</th>\n",
       "      <th>RS</th>\n",
       "      <th>SS</th>\n",
       "      <th>UN</th>\n",
       "    </tr>\n",
       "  </thead>\n",
       "  <tbody>\n",
       "    <tr>\n",
       "      <th>median</th>\n",
       "      <td>8.410869</td>\n",
       "      <td>5.134635</td>\n",
       "      <td>4.909224</td>\n",
       "      <td>4.950743</td>\n",
       "      <td>6.766245</td>\n",
       "      <td>4.714505</td>\n",
       "      <td>38.500907</td>\n",
       "    </tr>\n",
       "    <tr>\n",
       "      <th>std</th>\n",
       "      <td>0.859534</td>\n",
       "      <td>0.673867</td>\n",
       "      <td>0.620319</td>\n",
       "      <td>0.430435</td>\n",
       "      <td>0.711757</td>\n",
       "      <td>0.403204</td>\n",
       "      <td>4.282993</td>\n",
       "    </tr>\n",
       "  </tbody>\n",
       "</table>\n",
       "</div>"
      ],
      "text/plain": [
       "               N       MAS       MMS        QT        RS        SS         UN\n",
       "median  8.410869  5.134635  4.909224  4.950743  6.766245  4.714505  38.500907\n",
       "std     0.859534  0.673867  0.620319  0.430435  0.711757  0.403204   4.282993"
      ]
     },
     "execution_count": 142,
     "metadata": {},
     "output_type": "execute_result"
    }
   ],
   "source": [
    "summaryStats.T"
   ]
  },
  {
   "cell_type": "code",
   "execution_count": 143,
   "metadata": {},
   "outputs": [],
   "source": [
    "temp = summaryStats.drop('std', axis = 1)\n",
    "medianTimes = pd.DataFrame()\n",
    "medianTimes['Scaling Algorithm'] = temp.index\n",
    "medianTimes['Median training time'] = temp.values"
   ]
  },
  {
   "cell_type": "code",
   "execution_count": 144,
   "metadata": {},
   "outputs": [
    {
     "data": {
      "text/html": [
       "<div>\n",
       "<style scoped>\n",
       "    .dataframe tbody tr th:only-of-type {\n",
       "        vertical-align: middle;\n",
       "    }\n",
       "\n",
       "    .dataframe tbody tr th {\n",
       "        vertical-align: top;\n",
       "    }\n",
       "\n",
       "    .dataframe thead th {\n",
       "        text-align: right;\n",
       "    }\n",
       "</style>\n",
       "<table border=\"1\" class=\"dataframe\">\n",
       "  <thead>\n",
       "    <tr style=\"text-align: right;\">\n",
       "      <th></th>\n",
       "      <th>Scaling Algorithm</th>\n",
       "      <th>Median training time</th>\n",
       "    </tr>\n",
       "  </thead>\n",
       "  <tbody>\n",
       "    <tr>\n",
       "      <th>0</th>\n",
       "      <td>N</td>\n",
       "      <td>8.410869</td>\n",
       "    </tr>\n",
       "    <tr>\n",
       "      <th>1</th>\n",
       "      <td>MAS</td>\n",
       "      <td>5.134635</td>\n",
       "    </tr>\n",
       "    <tr>\n",
       "      <th>2</th>\n",
       "      <td>MMS</td>\n",
       "      <td>4.909224</td>\n",
       "    </tr>\n",
       "    <tr>\n",
       "      <th>3</th>\n",
       "      <td>QT</td>\n",
       "      <td>4.950743</td>\n",
       "    </tr>\n",
       "    <tr>\n",
       "      <th>4</th>\n",
       "      <td>RS</td>\n",
       "      <td>6.766245</td>\n",
       "    </tr>\n",
       "    <tr>\n",
       "      <th>5</th>\n",
       "      <td>SS</td>\n",
       "      <td>4.714505</td>\n",
       "    </tr>\n",
       "    <tr>\n",
       "      <th>6</th>\n",
       "      <td>UN</td>\n",
       "      <td>38.500907</td>\n",
       "    </tr>\n",
       "  </tbody>\n",
       "</table>\n",
       "</div>"
      ],
      "text/plain": [
       "  Scaling Algorithm  Median training time\n",
       "0                 N              8.410869\n",
       "1               MAS              5.134635\n",
       "2               MMS              4.909224\n",
       "3                QT              4.950743\n",
       "4                RS              6.766245\n",
       "5                SS              4.714505\n",
       "6                UN             38.500907"
      ]
     },
     "execution_count": 144,
     "metadata": {},
     "output_type": "execute_result"
    }
   ],
   "source": [
    "medianTimes"
   ]
  },
  {
   "cell_type": "code",
   "execution_count": 146,
   "metadata": {},
   "outputs": [
    {
     "data": {
      "text/plain": [
       "<Axes: xlabel='Scaling Algorithm', ylabel='Median training time'>"
      ]
     },
     "execution_count": 146,
     "metadata": {},
     "output_type": "execute_result"
    },
    {
     "data": {
      "image/png": "[encoded data removed]",
      "text/plain": [
       "<Figure size 640x480 with 1 Axes>"
      ]
     },
     "metadata": {},
     "output_type": "display_data"
    }
   ],
   "source": [
    "sns.scatterplot(data = medianTimes, x = 'Scaling Algorithm', y = 'Median training time', hue = 'Scaling Algorithm', marker = 'o')"
   ]
  }
 ],
 "metadata": {
  "kernelspec": {
   "display_name": "base",
   "language": "python",
   "name": "python3"
  },
  "language_info": {
   "codemirror_mode": {
    "name": "ipython",
    "version": 3
   },
   "file_extension": ".py",
   "mimetype": "text/x-python",
   "name": "python",
   "nbconvert_exporter": "python",
   "pygments_lexer": "ipython3",
   "version": "3.12.4"
  }
 },
 "nbformat": 4,
 "nbformat_minor": 2
}
